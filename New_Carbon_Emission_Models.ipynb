{
  "cells": [
    {
      "cell_type": "code",
      "execution_count": null,
      "metadata": {
        "colab": {
          "base_uri": "https://localhost:8080/"
        },
        "id": "CY1p4yJdvJvC",
        "outputId": "37fc77c3-13ed-4de3-8430-aa1e4301c8d0"
      },
      "outputs": [
        {
          "output_type": "stream",
          "name": "stdout",
          "text": [
            "Mounted at /content/drive\n"
          ]
        }
      ],
      "source": [
        "from google.colab import drive\n",
        "drive.mount('/content/drive')"
      ],
      "id": "CY1p4yJdvJvC"
    },
    {
      "cell_type": "code",
      "execution_count": null,
      "metadata": {
        "id": "c7436156"
      },
      "outputs": [],
      "source": [
        "import pandas as pd\n",
        "import numpy as np\n",
        "import matplotlib.pyplot as plt\n",
        "import seaborn as sns \n",
        "import plotly.express as px\n",
        "import plotly.graph_objects as go \n",
        "import warnings\n",
        "warnings.filterwarnings(\"ignore\")\n",
        "%matplotlib inline"
      ],
      "id": "c7436156"
    },
    {
      "cell_type": "code",
      "execution_count": null,
      "metadata": {
        "id": "DVaRerCYolHW"
      },
      "outputs": [],
      "source": [
        "data=pd.read_csv(\"/content/drive/MyDrive/Carbon Emission Rating/Carbon Emission.csv\")"
      ],
      "id": "DVaRerCYolHW"
    },
    {
      "cell_type": "code",
      "execution_count": null,
      "metadata": {
        "colab": {
          "base_uri": "https://localhost:8080/",
          "height": 337
        },
        "id": "m86ceUyat88r",
        "outputId": "324a17e1-6ca7-4672-94c4-7b0c0ceb7ff1"
      },
      "outputs": [
        {
          "output_type": "execute_result",
          "data": {
            "text/plain": [
              "   MODEL YEAR   MAKE         MODEL VEHICLE CLASS  ENGINE SIZE(L)  CYLINDERS  \\\n",
              "0        1995  ACURA       INTEGRA    SUBCOMPACT             1.8          4   \n",
              "1        1995  ACURA       INTEGRA    SUBCOMPACT             1.8          4   \n",
              "2        1995  ACURA  INTEGRA GS-R    SUBCOMPACT             1.8          4   \n",
              "3        1995  ACURA        LEGEND       COMPACT             3.2          6   \n",
              "4        1995  ACURA  LEGEND COUPE       COMPACT             3.2          6   \n",
              "\n",
              "  TRANSMISSION FUEL TYPE  FUEL CONSUMPTION CITY (L/100 km)  \\\n",
              "0           A4         X                              11.6   \n",
              "1           M5         X                              11.0   \n",
              "2           M5         Z                              10.8   \n",
              "3           A4         Z                              14.2   \n",
              "4           A4         Z                              14.6   \n",
              "\n",
              "   FUEL CONSUMPTION HWY (L/100 km)  FUEL CONSUMPTION COMB (L/100 km)  \\\n",
              "0                              8.3                              10.1   \n",
              "1                              8.3                               9.8   \n",
              "2                              8.3                               9.7   \n",
              "3                             10.5                              12.5   \n",
              "4                             11.0                              13.0   \n",
              "\n",
              "   FUEL CONSUMPTION COMB (mpg)  CO2 EMISSIONS   \n",
              "0                           28             232  \n",
              "1                           29             225  \n",
              "2                           29             223  \n",
              "3                           23             288  \n",
              "4                           22             299  "
            ],
            "text/html": [
              "\n",
              "  <div id=\"df-168737ce-6e14-4226-b94d-de4a1adf3c5a\">\n",
              "    <div class=\"colab-df-container\">\n",
              "      <div>\n",
              "<style scoped>\n",
              "    .dataframe tbody tr th:only-of-type {\n",
              "        vertical-align: middle;\n",
              "    }\n",
              "\n",
              "    .dataframe tbody tr th {\n",
              "        vertical-align: top;\n",
              "    }\n",
              "\n",
              "    .dataframe thead th {\n",
              "        text-align: right;\n",
              "    }\n",
              "</style>\n",
              "<table border=\"1\" class=\"dataframe\">\n",
              "  <thead>\n",
              "    <tr style=\"text-align: right;\">\n",
              "      <th></th>\n",
              "      <th>MODEL YEAR</th>\n",
              "      <th>MAKE</th>\n",
              "      <th>MODEL</th>\n",
              "      <th>VEHICLE CLASS</th>\n",
              "      <th>ENGINE SIZE(L)</th>\n",
              "      <th>CYLINDERS</th>\n",
              "      <th>TRANSMISSION</th>\n",
              "      <th>FUEL TYPE</th>\n",
              "      <th>FUEL CONSUMPTION CITY (L/100 km)</th>\n",
              "      <th>FUEL CONSUMPTION HWY (L/100 km)</th>\n",
              "      <th>FUEL CONSUMPTION COMB (L/100 km)</th>\n",
              "      <th>FUEL CONSUMPTION COMB (mpg)</th>\n",
              "      <th>CO2 EMISSIONS</th>\n",
              "    </tr>\n",
              "  </thead>\n",
              "  <tbody>\n",
              "    <tr>\n",
              "      <th>0</th>\n",
              "      <td>1995</td>\n",
              "      <td>ACURA</td>\n",
              "      <td>INTEGRA</td>\n",
              "      <td>SUBCOMPACT</td>\n",
              "      <td>1.8</td>\n",
              "      <td>4</td>\n",
              "      <td>A4</td>\n",
              "      <td>X</td>\n",
              "      <td>11.6</td>\n",
              "      <td>8.3</td>\n",
              "      <td>10.1</td>\n",
              "      <td>28</td>\n",
              "      <td>232</td>\n",
              "    </tr>\n",
              "    <tr>\n",
              "      <th>1</th>\n",
              "      <td>1995</td>\n",
              "      <td>ACURA</td>\n",
              "      <td>INTEGRA</td>\n",
              "      <td>SUBCOMPACT</td>\n",
              "      <td>1.8</td>\n",
              "      <td>4</td>\n",
              "      <td>M5</td>\n",
              "      <td>X</td>\n",
              "      <td>11.0</td>\n",
              "      <td>8.3</td>\n",
              "      <td>9.8</td>\n",
              "      <td>29</td>\n",
              "      <td>225</td>\n",
              "    </tr>\n",
              "    <tr>\n",
              "      <th>2</th>\n",
              "      <td>1995</td>\n",
              "      <td>ACURA</td>\n",
              "      <td>INTEGRA GS-R</td>\n",
              "      <td>SUBCOMPACT</td>\n",
              "      <td>1.8</td>\n",
              "      <td>4</td>\n",
              "      <td>M5</td>\n",
              "      <td>Z</td>\n",
              "      <td>10.8</td>\n",
              "      <td>8.3</td>\n",
              "      <td>9.7</td>\n",
              "      <td>29</td>\n",
              "      <td>223</td>\n",
              "    </tr>\n",
              "    <tr>\n",
              "      <th>3</th>\n",
              "      <td>1995</td>\n",
              "      <td>ACURA</td>\n",
              "      <td>LEGEND</td>\n",
              "      <td>COMPACT</td>\n",
              "      <td>3.2</td>\n",
              "      <td>6</td>\n",
              "      <td>A4</td>\n",
              "      <td>Z</td>\n",
              "      <td>14.2</td>\n",
              "      <td>10.5</td>\n",
              "      <td>12.5</td>\n",
              "      <td>23</td>\n",
              "      <td>288</td>\n",
              "    </tr>\n",
              "    <tr>\n",
              "      <th>4</th>\n",
              "      <td>1995</td>\n",
              "      <td>ACURA</td>\n",
              "      <td>LEGEND COUPE</td>\n",
              "      <td>COMPACT</td>\n",
              "      <td>3.2</td>\n",
              "      <td>6</td>\n",
              "      <td>A4</td>\n",
              "      <td>Z</td>\n",
              "      <td>14.6</td>\n",
              "      <td>11.0</td>\n",
              "      <td>13.0</td>\n",
              "      <td>22</td>\n",
              "      <td>299</td>\n",
              "    </tr>\n",
              "  </tbody>\n",
              "</table>\n",
              "</div>\n",
              "      <button class=\"colab-df-convert\" onclick=\"convertToInteractive('df-168737ce-6e14-4226-b94d-de4a1adf3c5a')\"\n",
              "              title=\"Convert this dataframe to an interactive table.\"\n",
              "              style=\"display:none;\">\n",
              "        \n",
              "  <svg xmlns=\"http://www.w3.org/2000/svg\" height=\"24px\"viewBox=\"0 0 24 24\"\n",
              "       width=\"24px\">\n",
              "    <path d=\"M0 0h24v24H0V0z\" fill=\"none\"/>\n",
              "    <path d=\"M18.56 5.44l.94 2.06.94-2.06 2.06-.94-2.06-.94-.94-2.06-.94 2.06-2.06.94zm-11 1L8.5 8.5l.94-2.06 2.06-.94-2.06-.94L8.5 2.5l-.94 2.06-2.06.94zm10 10l.94 2.06.94-2.06 2.06-.94-2.06-.94-.94-2.06-.94 2.06-2.06.94z\"/><path d=\"M17.41 7.96l-1.37-1.37c-.4-.4-.92-.59-1.43-.59-.52 0-1.04.2-1.43.59L10.3 9.45l-7.72 7.72c-.78.78-.78 2.05 0 2.83L4 21.41c.39.39.9.59 1.41.59.51 0 1.02-.2 1.41-.59l7.78-7.78 2.81-2.81c.8-.78.8-2.07 0-2.86zM5.41 20L4 18.59l7.72-7.72 1.47 1.35L5.41 20z\"/>\n",
              "  </svg>\n",
              "      </button>\n",
              "      \n",
              "  <style>\n",
              "    .colab-df-container {\n",
              "      display:flex;\n",
              "      flex-wrap:wrap;\n",
              "      gap: 12px;\n",
              "    }\n",
              "\n",
              "    .colab-df-convert {\n",
              "      background-color: #E8F0FE;\n",
              "      border: none;\n",
              "      border-radius: 50%;\n",
              "      cursor: pointer;\n",
              "      display: none;\n",
              "      fill: #1967D2;\n",
              "      height: 32px;\n",
              "      padding: 0 0 0 0;\n",
              "      width: 32px;\n",
              "    }\n",
              "\n",
              "    .colab-df-convert:hover {\n",
              "      background-color: #E2EBFA;\n",
              "      box-shadow: 0px 1px 2px rgba(60, 64, 67, 0.3), 0px 1px 3px 1px rgba(60, 64, 67, 0.15);\n",
              "      fill: #174EA6;\n",
              "    }\n",
              "\n",
              "    [theme=dark] .colab-df-convert {\n",
              "      background-color: #3B4455;\n",
              "      fill: #D2E3FC;\n",
              "    }\n",
              "\n",
              "    [theme=dark] .colab-df-convert:hover {\n",
              "      background-color: #434B5C;\n",
              "      box-shadow: 0px 1px 3px 1px rgba(0, 0, 0, 0.15);\n",
              "      filter: drop-shadow(0px 1px 2px rgba(0, 0, 0, 0.3));\n",
              "      fill: #FFFFFF;\n",
              "    }\n",
              "  </style>\n",
              "\n",
              "      <script>\n",
              "        const buttonEl =\n",
              "          document.querySelector('#df-168737ce-6e14-4226-b94d-de4a1adf3c5a button.colab-df-convert');\n",
              "        buttonEl.style.display =\n",
              "          google.colab.kernel.accessAllowed ? 'block' : 'none';\n",
              "\n",
              "        async function convertToInteractive(key) {\n",
              "          const element = document.querySelector('#df-168737ce-6e14-4226-b94d-de4a1adf3c5a');\n",
              "          const dataTable =\n",
              "            await google.colab.kernel.invokeFunction('convertToInteractive',\n",
              "                                                     [key], {});\n",
              "          if (!dataTable) return;\n",
              "\n",
              "          const docLinkHtml = 'Like what you see? Visit the ' +\n",
              "            '<a target=\"_blank\" href=https://colab.research.google.com/notebooks/data_table.ipynb>data table notebook</a>'\n",
              "            + ' to learn more about interactive tables.';\n",
              "          element.innerHTML = '';\n",
              "          dataTable['output_type'] = 'display_data';\n",
              "          await google.colab.output.renderOutput(dataTable, element);\n",
              "          const docLink = document.createElement('div');\n",
              "          docLink.innerHTML = docLinkHtml;\n",
              "          element.appendChild(docLink);\n",
              "        }\n",
              "      </script>\n",
              "    </div>\n",
              "  </div>\n",
              "  "
            ]
          },
          "metadata": {},
          "execution_count": 4
        }
      ],
      "source": [
        "data.head()"
      ],
      "id": "m86ceUyat88r"
    },
    {
      "cell_type": "code",
      "execution_count": null,
      "metadata": {
        "colab": {
          "base_uri": "https://localhost:8080/"
        },
        "id": "W4OcA_YHt8Ng",
        "outputId": "8b5fb601-eead-4d2d-964f-16110d24face"
      },
      "outputs": [
        {
          "output_type": "execute_result",
          "data": {
            "text/plain": [
              "array([1995, 1996, 1997, 1998, 1999, 2000, 2001, 2002, 2003, 2004, 2005,\n",
              "       2006, 2007, 2008, 2009, 2010, 2011, 2012, 2013, 2014, 2015, 2016,\n",
              "       2017, 2018, 2019, 2020, 2021])"
            ]
          },
          "metadata": {},
          "execution_count": 5
        }
      ],
      "source": [
        "data[\"MODEL YEAR\"].unique()"
      ],
      "id": "W4OcA_YHt8Ng"
    },
    {
      "cell_type": "code",
      "execution_count": null,
      "metadata": {
        "colab": {
          "base_uri": "https://localhost:8080/"
        },
        "id": "dK59lhh9GXu_",
        "outputId": "f22c65fe-6bb6-495a-d3d3-f7ac191816bc"
      },
      "outputs": [
        {
          "output_type": "execute_result",
          "data": {
            "text/plain": [
              "1995     841\n",
              "1996     698\n",
              "1997     658\n",
              "1998     634\n",
              "1999     688\n",
              "2000     639\n",
              "2001     679\n",
              "2002     740\n",
              "2003     820\n",
              "2004     898\n",
              "2005    1019\n",
              "2006     968\n",
              "2007    1043\n",
              "2008    1079\n",
              "2009    1092\n",
              "2010    1021\n",
              "2011    1076\n",
              "2012    1081\n",
              "2013    1058\n",
              "2014    1040\n",
              "2015    1132\n",
              "2016    1110\n",
              "2017    1058\n",
              "2018    1083\n",
              "2019    1056\n",
              "2020     966\n",
              "2021     935\n",
              "Name: MODEL YEAR, dtype: int64"
            ]
          },
          "metadata": {},
          "execution_count": 6
        }
      ],
      "source": [
        "data[\"MODEL YEAR\"].value_counts().sort_index()"
      ],
      "id": "dK59lhh9GXu_"
    },
    {
      "cell_type": "markdown",
      "metadata": {
        "id": "dd2716d2"
      },
      "source": [
        "## FEATURE ENGINEERING\n",
        "\n",
        "* MODEL FREQ: Frequency encdoing utilizes the frequency of occurence of the vehicle model\n",
        "* FUEL_CONS_HWY_CITY: Summing up fuel consumption of both city and highway\n",
        "* ENG_POWER: Product of Number of Cylinders and the engine size could help to determine engine power and fuel consumption"
      ],
      "id": "dd2716d2"
    },
    {
      "cell_type": "code",
      "execution_count": null,
      "metadata": {
        "id": "e20ce938"
      },
      "outputs": [],
      "source": [
        "# data[\"MODEL_YEAR\"] = data[\"MODEL\"] + \" \" + str(data[\"MODEL YEAR\"])\n",
        "\n",
        "to_freq_encode = [\"MODEL\"]\n",
        "for i in to_freq_encode:\n",
        "    data[i+' FREQ'] = data[i].map(data[i].value_counts())\n",
        "    \n",
        "data[\"FUEL_CONS_HWY_CITY\"] = data['FUEL CONSUMPTION HWY (L/100 km)'] + data['FUEL CONSUMPTION CITY (L/100 km)']\n",
        "data[\"ENG_POWER\"] = data[\"ENGINE SIZE(L)\"] * data[\"CYLINDERS\"]"
      ],
      "id": "e20ce938"
    },
    {
      "cell_type": "code",
      "execution_count": null,
      "metadata": {
        "colab": {
          "base_uri": "https://localhost:8080/",
          "height": 357
        },
        "id": "50518f63",
        "outputId": "ce162f03-f5e3-4dd3-c6cf-ce3277e37d3d"
      },
      "outputs": [
        {
          "output_type": "execute_result",
          "data": {
            "text/plain": [
              "   MODEL YEAR   MAKE         MODEL VEHICLE CLASS  ENGINE SIZE(L)  CYLINDERS  \\\n",
              "0        1995  ACURA       INTEGRA    SUBCOMPACT             1.8          4   \n",
              "1        1995  ACURA       INTEGRA    SUBCOMPACT             1.8          4   \n",
              "2        1995  ACURA  INTEGRA GS-R    SUBCOMPACT             1.8          4   \n",
              "3        1995  ACURA        LEGEND       COMPACT             3.2          6   \n",
              "4        1995  ACURA  LEGEND COUPE       COMPACT             3.2          6   \n",
              "\n",
              "  TRANSMISSION FUEL TYPE  FUEL CONSUMPTION CITY (L/100 km)  \\\n",
              "0           A4         X                              11.6   \n",
              "1           M5         X                              11.0   \n",
              "2           M5         Z                              10.8   \n",
              "3           A4         Z                              14.2   \n",
              "4           A4         Z                              14.6   \n",
              "\n",
              "   FUEL CONSUMPTION HWY (L/100 km)  FUEL CONSUMPTION COMB (L/100 km)  \\\n",
              "0                              8.3                              10.1   \n",
              "1                              8.3                               9.8   \n",
              "2                              8.3                               9.7   \n",
              "3                             10.5                              12.5   \n",
              "4                             11.0                              13.0   \n",
              "\n",
              "   FUEL CONSUMPTION COMB (mpg)  CO2 EMISSIONS   MODEL FREQ  \\\n",
              "0                           28             232          14   \n",
              "1                           29             225          14   \n",
              "2                           29             223           5   \n",
              "3                           23             288           1   \n",
              "4                           22             299           2   \n",
              "\n",
              "   FUEL_CONS_HWY_CITY  ENG_POWER  \n",
              "0                19.9        7.2  \n",
              "1                19.3        7.2  \n",
              "2                19.1        7.2  \n",
              "3                24.7       19.2  \n",
              "4                25.6       19.2  "
            ],
            "text/html": [
              "\n",
              "  <div id=\"df-73dca2f8-f913-427a-88e3-50c60097579a\">\n",
              "    <div class=\"colab-df-container\">\n",
              "      <div>\n",
              "<style scoped>\n",
              "    .dataframe tbody tr th:only-of-type {\n",
              "        vertical-align: middle;\n",
              "    }\n",
              "\n",
              "    .dataframe tbody tr th {\n",
              "        vertical-align: top;\n",
              "    }\n",
              "\n",
              "    .dataframe thead th {\n",
              "        text-align: right;\n",
              "    }\n",
              "</style>\n",
              "<table border=\"1\" class=\"dataframe\">\n",
              "  <thead>\n",
              "    <tr style=\"text-align: right;\">\n",
              "      <th></th>\n",
              "      <th>MODEL YEAR</th>\n",
              "      <th>MAKE</th>\n",
              "      <th>MODEL</th>\n",
              "      <th>VEHICLE CLASS</th>\n",
              "      <th>ENGINE SIZE(L)</th>\n",
              "      <th>CYLINDERS</th>\n",
              "      <th>TRANSMISSION</th>\n",
              "      <th>FUEL TYPE</th>\n",
              "      <th>FUEL CONSUMPTION CITY (L/100 km)</th>\n",
              "      <th>FUEL CONSUMPTION HWY (L/100 km)</th>\n",
              "      <th>FUEL CONSUMPTION COMB (L/100 km)</th>\n",
              "      <th>FUEL CONSUMPTION COMB (mpg)</th>\n",
              "      <th>CO2 EMISSIONS</th>\n",
              "      <th>MODEL FREQ</th>\n",
              "      <th>FUEL_CONS_HWY_CITY</th>\n",
              "      <th>ENG_POWER</th>\n",
              "    </tr>\n",
              "  </thead>\n",
              "  <tbody>\n",
              "    <tr>\n",
              "      <th>0</th>\n",
              "      <td>1995</td>\n",
              "      <td>ACURA</td>\n",
              "      <td>INTEGRA</td>\n",
              "      <td>SUBCOMPACT</td>\n",
              "      <td>1.8</td>\n",
              "      <td>4</td>\n",
              "      <td>A4</td>\n",
              "      <td>X</td>\n",
              "      <td>11.6</td>\n",
              "      <td>8.3</td>\n",
              "      <td>10.1</td>\n",
              "      <td>28</td>\n",
              "      <td>232</td>\n",
              "      <td>14</td>\n",
              "      <td>19.9</td>\n",
              "      <td>7.2</td>\n",
              "    </tr>\n",
              "    <tr>\n",
              "      <th>1</th>\n",
              "      <td>1995</td>\n",
              "      <td>ACURA</td>\n",
              "      <td>INTEGRA</td>\n",
              "      <td>SUBCOMPACT</td>\n",
              "      <td>1.8</td>\n",
              "      <td>4</td>\n",
              "      <td>M5</td>\n",
              "      <td>X</td>\n",
              "      <td>11.0</td>\n",
              "      <td>8.3</td>\n",
              "      <td>9.8</td>\n",
              "      <td>29</td>\n",
              "      <td>225</td>\n",
              "      <td>14</td>\n",
              "      <td>19.3</td>\n",
              "      <td>7.2</td>\n",
              "    </tr>\n",
              "    <tr>\n",
              "      <th>2</th>\n",
              "      <td>1995</td>\n",
              "      <td>ACURA</td>\n",
              "      <td>INTEGRA GS-R</td>\n",
              "      <td>SUBCOMPACT</td>\n",
              "      <td>1.8</td>\n",
              "      <td>4</td>\n",
              "      <td>M5</td>\n",
              "      <td>Z</td>\n",
              "      <td>10.8</td>\n",
              "      <td>8.3</td>\n",
              "      <td>9.7</td>\n",
              "      <td>29</td>\n",
              "      <td>223</td>\n",
              "      <td>5</td>\n",
              "      <td>19.1</td>\n",
              "      <td>7.2</td>\n",
              "    </tr>\n",
              "    <tr>\n",
              "      <th>3</th>\n",
              "      <td>1995</td>\n",
              "      <td>ACURA</td>\n",
              "      <td>LEGEND</td>\n",
              "      <td>COMPACT</td>\n",
              "      <td>3.2</td>\n",
              "      <td>6</td>\n",
              "      <td>A4</td>\n",
              "      <td>Z</td>\n",
              "      <td>14.2</td>\n",
              "      <td>10.5</td>\n",
              "      <td>12.5</td>\n",
              "      <td>23</td>\n",
              "      <td>288</td>\n",
              "      <td>1</td>\n",
              "      <td>24.7</td>\n",
              "      <td>19.2</td>\n",
              "    </tr>\n",
              "    <tr>\n",
              "      <th>4</th>\n",
              "      <td>1995</td>\n",
              "      <td>ACURA</td>\n",
              "      <td>LEGEND COUPE</td>\n",
              "      <td>COMPACT</td>\n",
              "      <td>3.2</td>\n",
              "      <td>6</td>\n",
              "      <td>A4</td>\n",
              "      <td>Z</td>\n",
              "      <td>14.6</td>\n",
              "      <td>11.0</td>\n",
              "      <td>13.0</td>\n",
              "      <td>22</td>\n",
              "      <td>299</td>\n",
              "      <td>2</td>\n",
              "      <td>25.6</td>\n",
              "      <td>19.2</td>\n",
              "    </tr>\n",
              "  </tbody>\n",
              "</table>\n",
              "</div>\n",
              "      <button class=\"colab-df-convert\" onclick=\"convertToInteractive('df-73dca2f8-f913-427a-88e3-50c60097579a')\"\n",
              "              title=\"Convert this dataframe to an interactive table.\"\n",
              "              style=\"display:none;\">\n",
              "        \n",
              "  <svg xmlns=\"http://www.w3.org/2000/svg\" height=\"24px\"viewBox=\"0 0 24 24\"\n",
              "       width=\"24px\">\n",
              "    <path d=\"M0 0h24v24H0V0z\" fill=\"none\"/>\n",
              "    <path d=\"M18.56 5.44l.94 2.06.94-2.06 2.06-.94-2.06-.94-.94-2.06-.94 2.06-2.06.94zm-11 1L8.5 8.5l.94-2.06 2.06-.94-2.06-.94L8.5 2.5l-.94 2.06-2.06.94zm10 10l.94 2.06.94-2.06 2.06-.94-2.06-.94-.94-2.06-.94 2.06-2.06.94z\"/><path d=\"M17.41 7.96l-1.37-1.37c-.4-.4-.92-.59-1.43-.59-.52 0-1.04.2-1.43.59L10.3 9.45l-7.72 7.72c-.78.78-.78 2.05 0 2.83L4 21.41c.39.39.9.59 1.41.59.51 0 1.02-.2 1.41-.59l7.78-7.78 2.81-2.81c.8-.78.8-2.07 0-2.86zM5.41 20L4 18.59l7.72-7.72 1.47 1.35L5.41 20z\"/>\n",
              "  </svg>\n",
              "      </button>\n",
              "      \n",
              "  <style>\n",
              "    .colab-df-container {\n",
              "      display:flex;\n",
              "      flex-wrap:wrap;\n",
              "      gap: 12px;\n",
              "    }\n",
              "\n",
              "    .colab-df-convert {\n",
              "      background-color: #E8F0FE;\n",
              "      border: none;\n",
              "      border-radius: 50%;\n",
              "      cursor: pointer;\n",
              "      display: none;\n",
              "      fill: #1967D2;\n",
              "      height: 32px;\n",
              "      padding: 0 0 0 0;\n",
              "      width: 32px;\n",
              "    }\n",
              "\n",
              "    .colab-df-convert:hover {\n",
              "      background-color: #E2EBFA;\n",
              "      box-shadow: 0px 1px 2px rgba(60, 64, 67, 0.3), 0px 1px 3px 1px rgba(60, 64, 67, 0.15);\n",
              "      fill: #174EA6;\n",
              "    }\n",
              "\n",
              "    [theme=dark] .colab-df-convert {\n",
              "      background-color: #3B4455;\n",
              "      fill: #D2E3FC;\n",
              "    }\n",
              "\n",
              "    [theme=dark] .colab-df-convert:hover {\n",
              "      background-color: #434B5C;\n",
              "      box-shadow: 0px 1px 3px 1px rgba(0, 0, 0, 0.15);\n",
              "      filter: drop-shadow(0px 1px 2px rgba(0, 0, 0, 0.3));\n",
              "      fill: #FFFFFF;\n",
              "    }\n",
              "  </style>\n",
              "\n",
              "      <script>\n",
              "        const buttonEl =\n",
              "          document.querySelector('#df-73dca2f8-f913-427a-88e3-50c60097579a button.colab-df-convert');\n",
              "        buttonEl.style.display =\n",
              "          google.colab.kernel.accessAllowed ? 'block' : 'none';\n",
              "\n",
              "        async function convertToInteractive(key) {\n",
              "          const element = document.querySelector('#df-73dca2f8-f913-427a-88e3-50c60097579a');\n",
              "          const dataTable =\n",
              "            await google.colab.kernel.invokeFunction('convertToInteractive',\n",
              "                                                     [key], {});\n",
              "          if (!dataTable) return;\n",
              "\n",
              "          const docLinkHtml = 'Like what you see? Visit the ' +\n",
              "            '<a target=\"_blank\" href=https://colab.research.google.com/notebooks/data_table.ipynb>data table notebook</a>'\n",
              "            + ' to learn more about interactive tables.';\n",
              "          element.innerHTML = '';\n",
              "          dataTable['output_type'] = 'display_data';\n",
              "          await google.colab.output.renderOutput(dataTable, element);\n",
              "          const docLink = document.createElement('div');\n",
              "          docLink.innerHTML = docLinkHtml;\n",
              "          element.appendChild(docLink);\n",
              "        }\n",
              "      </script>\n",
              "    </div>\n",
              "  </div>\n",
              "  "
            ]
          },
          "metadata": {},
          "execution_count": 8
        }
      ],
      "source": [
        "data.head()"
      ],
      "id": "50518f63"
    },
    {
      "cell_type": "code",
      "execution_count": null,
      "metadata": {
        "id": "ea37a4f2"
      },
      "outputs": [],
      "source": [
        "data[\"MODEL YEAR\"] = data[\"MODEL YEAR\"].apply(int)\n",
        "target = 'CO2 EMISSIONS '\n",
        "cat_features = list(data.select_dtypes(include=['object']).columns)\n",
        "numeric_features = [col for col in data.columns if col not in cat_features]\n",
        "numeric_features.remove(target)"
      ],
      "id": "ea37a4f2"
    },
    {
      "cell_type": "code",
      "execution_count": null,
      "metadata": {
        "colab": {
          "base_uri": "https://localhost:8080/"
        },
        "id": "35acc304",
        "outputId": "ec341396-2a67-4d66-e542-f3302500bc37"
      },
      "outputs": [
        {
          "output_type": "stream",
          "name": "stdout",
          "text": [
            "['MODEL YEAR', 'ENGINE SIZE(L)', 'CYLINDERS', 'FUEL CONSUMPTION CITY (L/100 km)', 'FUEL CONSUMPTION HWY (L/100 km)', 'FUEL CONSUMPTION COMB (L/100 km)', 'FUEL CONSUMPTION COMB (mpg)', 'MODEL FREQ', 'FUEL_CONS_HWY_CITY', 'ENG_POWER']\n",
            "['MAKE', 'MODEL', 'VEHICLE CLASS', 'TRANSMISSION', 'FUEL TYPE']\n"
          ]
        }
      ],
      "source": [
        "print(numeric_features)\n",
        "print(cat_features)"
      ],
      "id": "35acc304"
    },
    {
      "cell_type": "code",
      "execution_count": null,
      "metadata": {
        "colab": {
          "base_uri": "https://localhost:8080/"
        },
        "id": "28abecf2",
        "outputId": "aae96523-c7b5-4bde-f5d0-16cc94253763"
      },
      "outputs": [
        {
          "output_type": "stream",
          "name": "stdout",
          "text": [
            "MAKE : 90 Unique values\n",
            "MODEL : 4548 Unique values\n",
            "VEHICLE CLASS : 32 Unique values\n",
            "TRANSMISSION : 30 Unique values\n",
            "FUEL TYPE : 5 Unique values\n"
          ]
        }
      ],
      "source": [
        "for col in cat_features:\n",
        "    print(f\"{col} : {data[col].nunique()} Unique values\")"
      ],
      "id": "28abecf2"
    },
    {
      "cell_type": "code",
      "execution_count": null,
      "metadata": {
        "id": "125dc92c"
      },
      "outputs": [],
      "source": [
        "from sklearn.preprocessing import LabelEncoder,MinMaxScaler"
      ],
      "id": "125dc92c"
    },
    {
      "cell_type": "code",
      "execution_count": null,
      "metadata": {
        "id": "de33c382"
      },
      "outputs": [],
      "source": [
        "LE = LabelEncoder() \n",
        "MinMax = MinMaxScaler()"
      ],
      "id": "de33c382"
    },
    {
      "cell_type": "markdown",
      "metadata": {
        "id": "6dd7c90a"
      },
      "source": [
        "### Label Encode Categorical Features"
      ],
      "id": "6dd7c90a"
    },
    {
      "cell_type": "code",
      "execution_count": null,
      "metadata": {
        "id": "6f0977b8"
      },
      "outputs": [],
      "source": [
        "for col in cat_features:\n",
        "    data[col] = LE.fit_transform(data[col])"
      ],
      "id": "6f0977b8"
    },
    {
      "cell_type": "code",
      "execution_count": null,
      "metadata": {
        "id": "ebf72c6f"
      },
      "outputs": [],
      "source": [
        "# X = data[numeric_features + cat_features]\n",
        "# y = data[target]"
      ],
      "id": "ebf72c6f"
    },
    {
      "cell_type": "code",
      "execution_count": null,
      "metadata": {
        "id": "jQX1AXhzbOE5"
      },
      "outputs": [],
      "source": [
        "train_df = data.loc[data[\"MODEL YEAR\"] < 2013]\n",
        "test_df = data.loc[data[\"MODEL YEAR\"] >= 2013]"
      ],
      "id": "jQX1AXhzbOE5"
    },
    {
      "cell_type": "code",
      "execution_count": null,
      "metadata": {
        "colab": {
          "base_uri": "https://localhost:8080/",
          "height": 322
        },
        "id": "qPuj4HoHbVKY",
        "outputId": "a19ddd29-daa5-4210-db71-2e1ae6b1111a"
      },
      "outputs": [
        {
          "output_type": "execute_result",
          "data": {
            "text/plain": [
              "   MODEL YEAR  MAKE  MODEL  VEHICLE CLASS  ENGINE SIZE(L)  CYLINDERS  \\\n",
              "0        1995     0   2327             17             1.8          4   \n",
              "1        1995     0   2327             17             1.8          4   \n",
              "2        1995     0   2328             17             1.8          4   \n",
              "3        1995     0   2542              0             3.2          6   \n",
              "4        1995     0   2543              0             3.2          6   \n",
              "\n",
              "   TRANSMISSION  FUEL TYPE  FUEL CONSUMPTION CITY (L/100 km)  \\\n",
              "0             2          3                              11.6   \n",
              "1            27          3                              11.0   \n",
              "2            27          4                              10.8   \n",
              "3             2          4                              14.2   \n",
              "4             2          4                              14.6   \n",
              "\n",
              "   FUEL CONSUMPTION HWY (L/100 km)  FUEL CONSUMPTION COMB (L/100 km)  \\\n",
              "0                              8.3                              10.1   \n",
              "1                              8.3                               9.8   \n",
              "2                              8.3                               9.7   \n",
              "3                             10.5                              12.5   \n",
              "4                             11.0                              13.0   \n",
              "\n",
              "   FUEL CONSUMPTION COMB (mpg)  CO2 EMISSIONS   MODEL FREQ  \\\n",
              "0                           28             232          14   \n",
              "1                           29             225          14   \n",
              "2                           29             223           5   \n",
              "3                           23             288           1   \n",
              "4                           22             299           2   \n",
              "\n",
              "   FUEL_CONS_HWY_CITY  ENG_POWER  \n",
              "0                19.9        7.2  \n",
              "1                19.3        7.2  \n",
              "2                19.1        7.2  \n",
              "3                24.7       19.2  \n",
              "4                25.6       19.2  "
            ],
            "text/html": [
              "\n",
              "  <div id=\"df-043bd423-a837-4fe2-9323-4ea947e495f7\">\n",
              "    <div class=\"colab-df-container\">\n",
              "      <div>\n",
              "<style scoped>\n",
              "    .dataframe tbody tr th:only-of-type {\n",
              "        vertical-align: middle;\n",
              "    }\n",
              "\n",
              "    .dataframe tbody tr th {\n",
              "        vertical-align: top;\n",
              "    }\n",
              "\n",
              "    .dataframe thead th {\n",
              "        text-align: right;\n",
              "    }\n",
              "</style>\n",
              "<table border=\"1\" class=\"dataframe\">\n",
              "  <thead>\n",
              "    <tr style=\"text-align: right;\">\n",
              "      <th></th>\n",
              "      <th>MODEL YEAR</th>\n",
              "      <th>MAKE</th>\n",
              "      <th>MODEL</th>\n",
              "      <th>VEHICLE CLASS</th>\n",
              "      <th>ENGINE SIZE(L)</th>\n",
              "      <th>CYLINDERS</th>\n",
              "      <th>TRANSMISSION</th>\n",
              "      <th>FUEL TYPE</th>\n",
              "      <th>FUEL CONSUMPTION CITY (L/100 km)</th>\n",
              "      <th>FUEL CONSUMPTION HWY (L/100 km)</th>\n",
              "      <th>FUEL CONSUMPTION COMB (L/100 km)</th>\n",
              "      <th>FUEL CONSUMPTION COMB (mpg)</th>\n",
              "      <th>CO2 EMISSIONS</th>\n",
              "      <th>MODEL FREQ</th>\n",
              "      <th>FUEL_CONS_HWY_CITY</th>\n",
              "      <th>ENG_POWER</th>\n",
              "    </tr>\n",
              "  </thead>\n",
              "  <tbody>\n",
              "    <tr>\n",
              "      <th>0</th>\n",
              "      <td>1995</td>\n",
              "      <td>0</td>\n",
              "      <td>2327</td>\n",
              "      <td>17</td>\n",
              "      <td>1.8</td>\n",
              "      <td>4</td>\n",
              "      <td>2</td>\n",
              "      <td>3</td>\n",
              "      <td>11.6</td>\n",
              "      <td>8.3</td>\n",
              "      <td>10.1</td>\n",
              "      <td>28</td>\n",
              "      <td>232</td>\n",
              "      <td>14</td>\n",
              "      <td>19.9</td>\n",
              "      <td>7.2</td>\n",
              "    </tr>\n",
              "    <tr>\n",
              "      <th>1</th>\n",
              "      <td>1995</td>\n",
              "      <td>0</td>\n",
              "      <td>2327</td>\n",
              "      <td>17</td>\n",
              "      <td>1.8</td>\n",
              "      <td>4</td>\n",
              "      <td>27</td>\n",
              "      <td>3</td>\n",
              "      <td>11.0</td>\n",
              "      <td>8.3</td>\n",
              "      <td>9.8</td>\n",
              "      <td>29</td>\n",
              "      <td>225</td>\n",
              "      <td>14</td>\n",
              "      <td>19.3</td>\n",
              "      <td>7.2</td>\n",
              "    </tr>\n",
              "    <tr>\n",
              "      <th>2</th>\n",
              "      <td>1995</td>\n",
              "      <td>0</td>\n",
              "      <td>2328</td>\n",
              "      <td>17</td>\n",
              "      <td>1.8</td>\n",
              "      <td>4</td>\n",
              "      <td>27</td>\n",
              "      <td>4</td>\n",
              "      <td>10.8</td>\n",
              "      <td>8.3</td>\n",
              "      <td>9.7</td>\n",
              "      <td>29</td>\n",
              "      <td>223</td>\n",
              "      <td>5</td>\n",
              "      <td>19.1</td>\n",
              "      <td>7.2</td>\n",
              "    </tr>\n",
              "    <tr>\n",
              "      <th>3</th>\n",
              "      <td>1995</td>\n",
              "      <td>0</td>\n",
              "      <td>2542</td>\n",
              "      <td>0</td>\n",
              "      <td>3.2</td>\n",
              "      <td>6</td>\n",
              "      <td>2</td>\n",
              "      <td>4</td>\n",
              "      <td>14.2</td>\n",
              "      <td>10.5</td>\n",
              "      <td>12.5</td>\n",
              "      <td>23</td>\n",
              "      <td>288</td>\n",
              "      <td>1</td>\n",
              "      <td>24.7</td>\n",
              "      <td>19.2</td>\n",
              "    </tr>\n",
              "    <tr>\n",
              "      <th>4</th>\n",
              "      <td>1995</td>\n",
              "      <td>0</td>\n",
              "      <td>2543</td>\n",
              "      <td>0</td>\n",
              "      <td>3.2</td>\n",
              "      <td>6</td>\n",
              "      <td>2</td>\n",
              "      <td>4</td>\n",
              "      <td>14.6</td>\n",
              "      <td>11.0</td>\n",
              "      <td>13.0</td>\n",
              "      <td>22</td>\n",
              "      <td>299</td>\n",
              "      <td>2</td>\n",
              "      <td>25.6</td>\n",
              "      <td>19.2</td>\n",
              "    </tr>\n",
              "  </tbody>\n",
              "</table>\n",
              "</div>\n",
              "      <button class=\"colab-df-convert\" onclick=\"convertToInteractive('df-043bd423-a837-4fe2-9323-4ea947e495f7')\"\n",
              "              title=\"Convert this dataframe to an interactive table.\"\n",
              "              style=\"display:none;\">\n",
              "        \n",
              "  <svg xmlns=\"http://www.w3.org/2000/svg\" height=\"24px\"viewBox=\"0 0 24 24\"\n",
              "       width=\"24px\">\n",
              "    <path d=\"M0 0h24v24H0V0z\" fill=\"none\"/>\n",
              "    <path d=\"M18.56 5.44l.94 2.06.94-2.06 2.06-.94-2.06-.94-.94-2.06-.94 2.06-2.06.94zm-11 1L8.5 8.5l.94-2.06 2.06-.94-2.06-.94L8.5 2.5l-.94 2.06-2.06.94zm10 10l.94 2.06.94-2.06 2.06-.94-2.06-.94-.94-2.06-.94 2.06-2.06.94z\"/><path d=\"M17.41 7.96l-1.37-1.37c-.4-.4-.92-.59-1.43-.59-.52 0-1.04.2-1.43.59L10.3 9.45l-7.72 7.72c-.78.78-.78 2.05 0 2.83L4 21.41c.39.39.9.59 1.41.59.51 0 1.02-.2 1.41-.59l7.78-7.78 2.81-2.81c.8-.78.8-2.07 0-2.86zM5.41 20L4 18.59l7.72-7.72 1.47 1.35L5.41 20z\"/>\n",
              "  </svg>\n",
              "      </button>\n",
              "      \n",
              "  <style>\n",
              "    .colab-df-container {\n",
              "      display:flex;\n",
              "      flex-wrap:wrap;\n",
              "      gap: 12px;\n",
              "    }\n",
              "\n",
              "    .colab-df-convert {\n",
              "      background-color: #E8F0FE;\n",
              "      border: none;\n",
              "      border-radius: 50%;\n",
              "      cursor: pointer;\n",
              "      display: none;\n",
              "      fill: #1967D2;\n",
              "      height: 32px;\n",
              "      padding: 0 0 0 0;\n",
              "      width: 32px;\n",
              "    }\n",
              "\n",
              "    .colab-df-convert:hover {\n",
              "      background-color: #E2EBFA;\n",
              "      box-shadow: 0px 1px 2px rgba(60, 64, 67, 0.3), 0px 1px 3px 1px rgba(60, 64, 67, 0.15);\n",
              "      fill: #174EA6;\n",
              "    }\n",
              "\n",
              "    [theme=dark] .colab-df-convert {\n",
              "      background-color: #3B4455;\n",
              "      fill: #D2E3FC;\n",
              "    }\n",
              "\n",
              "    [theme=dark] .colab-df-convert:hover {\n",
              "      background-color: #434B5C;\n",
              "      box-shadow: 0px 1px 3px 1px rgba(0, 0, 0, 0.15);\n",
              "      filter: drop-shadow(0px 1px 2px rgba(0, 0, 0, 0.3));\n",
              "      fill: #FFFFFF;\n",
              "    }\n",
              "  </style>\n",
              "\n",
              "      <script>\n",
              "        const buttonEl =\n",
              "          document.querySelector('#df-043bd423-a837-4fe2-9323-4ea947e495f7 button.colab-df-convert');\n",
              "        buttonEl.style.display =\n",
              "          google.colab.kernel.accessAllowed ? 'block' : 'none';\n",
              "\n",
              "        async function convertToInteractive(key) {\n",
              "          const element = document.querySelector('#df-043bd423-a837-4fe2-9323-4ea947e495f7');\n",
              "          const dataTable =\n",
              "            await google.colab.kernel.invokeFunction('convertToInteractive',\n",
              "                                                     [key], {});\n",
              "          if (!dataTable) return;\n",
              "\n",
              "          const docLinkHtml = 'Like what you see? Visit the ' +\n",
              "            '<a target=\"_blank\" href=https://colab.research.google.com/notebooks/data_table.ipynb>data table notebook</a>'\n",
              "            + ' to learn more about interactive tables.';\n",
              "          element.innerHTML = '';\n",
              "          dataTable['output_type'] = 'display_data';\n",
              "          await google.colab.output.renderOutput(dataTable, element);\n",
              "          const docLink = document.createElement('div');\n",
              "          docLink.innerHTML = docLinkHtml;\n",
              "          element.appendChild(docLink);\n",
              "        }\n",
              "      </script>\n",
              "    </div>\n",
              "  </div>\n",
              "  "
            ]
          },
          "metadata": {},
          "execution_count": 17
        }
      ],
      "source": [
        "train_df.head()"
      ],
      "id": "qPuj4HoHbVKY"
    },
    {
      "cell_type": "code",
      "execution_count": null,
      "metadata": {
        "colab": {
          "base_uri": "https://localhost:8080/"
        },
        "id": "9kwUQ08AbgFT",
        "outputId": "e1f84d12-f475-49f3-f7d4-7053a72bf9dc"
      },
      "outputs": [
        {
          "output_type": "execute_result",
          "data": {
            "text/plain": [
              "Index(['MODEL YEAR', 'MAKE', 'MODEL', 'VEHICLE CLASS', 'ENGINE SIZE(L)',\n",
              "       'CYLINDERS', 'TRANSMISSION', 'FUEL TYPE',\n",
              "       'FUEL CONSUMPTION CITY (L/100 km)', 'FUEL CONSUMPTION HWY (L/100 km)',\n",
              "       'FUEL CONSUMPTION COMB (L/100 km)', 'FUEL CONSUMPTION COMB (mpg)',\n",
              "       'CO2 EMISSIONS ', 'MODEL FREQ', 'FUEL_CONS_HWY_CITY', 'ENG_POWER'],\n",
              "      dtype='object')"
            ]
          },
          "metadata": {},
          "execution_count": 18
        }
      ],
      "source": [
        "train_df.columns"
      ],
      "id": "9kwUQ08AbgFT"
    },
    {
      "cell_type": "code",
      "execution_count": null,
      "metadata": {
        "id": "5dF9TGKfbjNk"
      },
      "outputs": [],
      "source": [
        "features = ['MODEL YEAR', 'MAKE', 'MODEL', 'VEHICLE CLASS', 'ENGINE SIZE(L)',\n",
        "       'CYLINDERS', 'TRANSMISSION', 'FUEL TYPE',\n",
        "       'FUEL CONSUMPTION CITY (L/100 km)', 'FUEL CONSUMPTION HWY (L/100 km)',\n",
        "       'FUEL CONSUMPTION COMB (L/100 km)', 'FUEL CONSUMPTION COMB (mpg)',\n",
        "       'MODEL FREQ', 'FUEL_CONS_HWY_CITY', 'ENG_POWER']"
      ],
      "id": "5dF9TGKfbjNk"
    },
    {
      "cell_type": "code",
      "execution_count": null,
      "metadata": {
        "id": "5G7ekG6kbZ9g"
      },
      "outputs": [],
      "source": [
        "X_train, y_train = train_df[features], train_df['CO2 EMISSIONS ']\n",
        "X_test, y_test = test_df[features], test_df['CO2 EMISSIONS ']"
      ],
      "id": "5G7ekG6kbZ9g"
    },
    {
      "cell_type": "markdown",
      "metadata": {
        "id": "0d97c69d"
      },
      "source": [
        "### Normalize training features using MinMaxScaler"
      ],
      "id": "0d97c69d"
    },
    {
      "cell_type": "code",
      "execution_count": null,
      "metadata": {
        "id": "98ee9723"
      },
      "outputs": [],
      "source": [
        "X_train_scaled = MinMax.fit_transform(X_train)\n",
        "X_test_scaled = MinMax.fit_transform(X_test)"
      ],
      "id": "98ee9723"
    },
    {
      "cell_type": "code",
      "execution_count": null,
      "metadata": {
        "id": "3vNnbIoaF3f0"
      },
      "outputs": [],
      "source": [
        "# pd.DataFrame(X_train_scaled).head()"
      ],
      "id": "3vNnbIoaF3f0"
    },
    {
      "cell_type": "code",
      "execution_count": null,
      "metadata": {
        "id": "e5a3ee68"
      },
      "outputs": [],
      "source": [
        "from sklearn.model_selection import train_test_split\n",
        "\n",
        "# X_train_scaled, X_test_scaled, y_train, y_test = train_test_split(X_scaled, y, test_size=0.2, random_state=42)\n",
        "# X_train, X_test, y_train, y_test = train_test_split(X, y, test_size=0.2, random_state=42)"
      ],
      "id": "e5a3ee68"
    },
    {
      "cell_type": "code",
      "execution_count": null,
      "metadata": {
        "id": "fe934e48"
      },
      "outputs": [],
      "source": [
        "from sklearn.neural_network import MLPRegressor\n",
        "from sklearn.svm import SVR\n",
        "from sklearn.linear_model import LinearRegression\n",
        "from sklearn.tree import DecisionTreeRegressor, ExtraTreeRegressor\n",
        "from sklearn.ensemble import RandomForestRegressor, GradientBoostingRegressor\n",
        "from sklearn.metrics import mean_squared_error, mean_absolute_percentage_error, r2_score\n",
        "from sklearn.model_selection import GridSearchCV, RandomizedSearchCV"
      ],
      "id": "fe934e48"
    },
    {
      "cell_type": "code",
      "execution_count": null,
      "metadata": {
        "id": "eec5cac7"
      },
      "outputs": [],
      "source": [
        "def MBE(ground_truth, prediction):\n",
        "    return np.sum(ground_truth - prediction) / len(ground_truth)\n",
        "\n",
        "def MABE(ground_truth, prediction):\n",
        "    return np.sum(abs(ground_truth - prediction)) / len(ground_truth)\n",
        "\n",
        "def rRMSE(ground_truth, prediction):\n",
        "    return np.sqrt(mean_squared_error(ground_truth, prediction))/np.mean(ground_truth) * 100\n",
        "\n",
        "def evaluate_model(ground_truth, prediction, model):\n",
        "    metrics = {\n",
        "        \"R_Squared\": r2_score(ground_truth, prediction),\n",
        "        \"RMSE\": np.sqrt(mean_squared_error(ground_truth, prediction)),\n",
        "        \"MAPE\": mean_absolute_percentage_error(ground_truth, prediction),\n",
        "        \"MBE\": MBE(ground_truth, prediction),\n",
        "        \"rRMSE\":  rRMSE(ground_truth, prediction),\n",
        "        \"MABE\": MABE(ground_truth, prediction)\n",
        "    }\n",
        "    return pd.DataFrame(pd.Series(metrics), columns=[model])\n",
        "\n",
        "combined_metrics = []"
      ],
      "id": "eec5cac7"
    },
    {
      "cell_type": "code",
      "execution_count": null,
      "metadata": {
        "id": "fbc179a6"
      },
      "outputs": [],
      "source": [
        "input_layer = X_train_scaled.shape[1]\n",
        "hidden_layer = 100"
      ],
      "id": "fbc179a6"
    },
    {
      "cell_type": "markdown",
      "metadata": {
        "id": "4568562b"
      },
      "source": [
        "###  1.  Artifitial Neural Network (ANN)"
      ],
      "id": "4568562b"
    },
    {
      "cell_type": "code",
      "execution_count": null,
      "metadata": {
        "id": "aba310b6"
      },
      "outputs": [],
      "source": [
        "ANN = MLPRegressor(activation=\"relu\", \n",
        "                   hidden_layer_sizes = (hidden_layer, ), \n",
        "                   learning_rate_init= 0.001, \n",
        "                   momentum= 0.9, \n",
        "                   max_iter= 300  #number of Epochs\n",
        "                  )"
      ],
      "id": "aba310b6"
    },
    {
      "cell_type": "code",
      "execution_count": null,
      "metadata": {
        "colab": {
          "base_uri": "https://localhost:8080/"
        },
        "id": "81711632",
        "outputId": "7f6ca4b7-ed21-4000-de5b-1a6029ac0156"
      },
      "outputs": [
        {
          "output_type": "execute_result",
          "data": {
            "text/plain": [
              "MLPRegressor(max_iter=300)"
            ]
          },
          "metadata": {},
          "execution_count": 28
        }
      ],
      "source": [
        "ANN.fit(X_train_scaled, y_train)"
      ],
      "id": "81711632"
    },
    {
      "cell_type": "code",
      "execution_count": null,
      "metadata": {
        "id": "b3f74be2"
      },
      "outputs": [],
      "source": [
        "ann_prediction = ANN.predict(X_test_scaled)"
      ],
      "id": "b3f74be2"
    },
    {
      "cell_type": "code",
      "execution_count": null,
      "metadata": {
        "colab": {
          "base_uri": "https://localhost:8080/"
        },
        "id": "0FEElMCOdYJG",
        "outputId": "f1ee344f-882a-429a-815b-646d6fbb6684"
      },
      "outputs": [
        {
          "output_type": "execute_result",
          "data": {
            "text/plain": [
              "array([158.79291798, 182.25517273, 108.34701865, 254.20903014,\n",
              "       200.83840088])"
            ]
          },
          "metadata": {},
          "execution_count": 30
        }
      ],
      "source": [
        "ann_prediction[:5]"
      ],
      "id": "0FEElMCOdYJG"
    },
    {
      "cell_type": "code",
      "execution_count": null,
      "metadata": {
        "colab": {
          "base_uri": "https://localhost:8080/"
        },
        "id": "ZjKM_FXUdfob",
        "outputId": "112228b3-5423-4805-9c90-7097c1f812b2"
      },
      "outputs": [
        {
          "output_type": "execute_result",
          "data": {
            "text/plain": [
              "15674    166\n",
              "15675    191\n",
              "15676    113\n",
              "15677    267\n",
              "15678    212\n",
              "Name: CO2 EMISSIONS , dtype: int64"
            ]
          },
          "metadata": {},
          "execution_count": 31
        }
      ],
      "source": [
        "y_test.head()"
      ],
      "id": "ZjKM_FXUdfob"
    },
    {
      "cell_type": "code",
      "execution_count": null,
      "metadata": {
        "colab": {
          "base_uri": "https://localhost:8080/"
        },
        "id": "fcbd35b3",
        "outputId": "7845fe77-c97d-4344-d54d-68f65b36b298"
      },
      "outputs": [
        {
          "output_type": "execute_result",
          "data": {
            "text/plain": [
              "                 ANN\n",
              "R_Squared   0.886041\n",
              "RMSE       20.242679\n",
              "MAPE        0.067043\n",
              "MBE        12.333125\n",
              "rRMSE       8.252849\n",
              "MABE       16.509981"
            ],
            "text/html": [
              "\n",
              "  <div id=\"df-d2f5ea81-e61a-43ca-a116-3864b858a508\">\n",
              "    <div class=\"colab-df-container\">\n",
              "      <div>\n",
              "<style scoped>\n",
              "    .dataframe tbody tr th:only-of-type {\n",
              "        vertical-align: middle;\n",
              "    }\n",
              "\n",
              "    .dataframe tbody tr th {\n",
              "        vertical-align: top;\n",
              "    }\n",
              "\n",
              "    .dataframe thead th {\n",
              "        text-align: right;\n",
              "    }\n",
              "</style>\n",
              "<table border=\"1\" class=\"dataframe\">\n",
              "  <thead>\n",
              "    <tr style=\"text-align: right;\">\n",
              "      <th></th>\n",
              "      <th>ANN</th>\n",
              "    </tr>\n",
              "  </thead>\n",
              "  <tbody>\n",
              "    <tr>\n",
              "      <th>R_Squared</th>\n",
              "      <td>0.886041</td>\n",
              "    </tr>\n",
              "    <tr>\n",
              "      <th>RMSE</th>\n",
              "      <td>20.242679</td>\n",
              "    </tr>\n",
              "    <tr>\n",
              "      <th>MAPE</th>\n",
              "      <td>0.067043</td>\n",
              "    </tr>\n",
              "    <tr>\n",
              "      <th>MBE</th>\n",
              "      <td>12.333125</td>\n",
              "    </tr>\n",
              "    <tr>\n",
              "      <th>rRMSE</th>\n",
              "      <td>8.252849</td>\n",
              "    </tr>\n",
              "    <tr>\n",
              "      <th>MABE</th>\n",
              "      <td>16.509981</td>\n",
              "    </tr>\n",
              "  </tbody>\n",
              "</table>\n",
              "</div>\n",
              "      <button class=\"colab-df-convert\" onclick=\"convertToInteractive('df-d2f5ea81-e61a-43ca-a116-3864b858a508')\"\n",
              "              title=\"Convert this dataframe to an interactive table.\"\n",
              "              style=\"display:none;\">\n",
              "        \n",
              "  <svg xmlns=\"http://www.w3.org/2000/svg\" height=\"24px\"viewBox=\"0 0 24 24\"\n",
              "       width=\"24px\">\n",
              "    <path d=\"M0 0h24v24H0V0z\" fill=\"none\"/>\n",
              "    <path d=\"M18.56 5.44l.94 2.06.94-2.06 2.06-.94-2.06-.94-.94-2.06-.94 2.06-2.06.94zm-11 1L8.5 8.5l.94-2.06 2.06-.94-2.06-.94L8.5 2.5l-.94 2.06-2.06.94zm10 10l.94 2.06.94-2.06 2.06-.94-2.06-.94-.94-2.06-.94 2.06-2.06.94z\"/><path d=\"M17.41 7.96l-1.37-1.37c-.4-.4-.92-.59-1.43-.59-.52 0-1.04.2-1.43.59L10.3 9.45l-7.72 7.72c-.78.78-.78 2.05 0 2.83L4 21.41c.39.39.9.59 1.41.59.51 0 1.02-.2 1.41-.59l7.78-7.78 2.81-2.81c.8-.78.8-2.07 0-2.86zM5.41 20L4 18.59l7.72-7.72 1.47 1.35L5.41 20z\"/>\n",
              "  </svg>\n",
              "      </button>\n",
              "      \n",
              "  <style>\n",
              "    .colab-df-container {\n",
              "      display:flex;\n",
              "      flex-wrap:wrap;\n",
              "      gap: 12px;\n",
              "    }\n",
              "\n",
              "    .colab-df-convert {\n",
              "      background-color: #E8F0FE;\n",
              "      border: none;\n",
              "      border-radius: 50%;\n",
              "      cursor: pointer;\n",
              "      display: none;\n",
              "      fill: #1967D2;\n",
              "      height: 32px;\n",
              "      padding: 0 0 0 0;\n",
              "      width: 32px;\n",
              "    }\n",
              "\n",
              "    .colab-df-convert:hover {\n",
              "      background-color: #E2EBFA;\n",
              "      box-shadow: 0px 1px 2px rgba(60, 64, 67, 0.3), 0px 1px 3px 1px rgba(60, 64, 67, 0.15);\n",
              "      fill: #174EA6;\n",
              "    }\n",
              "\n",
              "    [theme=dark] .colab-df-convert {\n",
              "      background-color: #3B4455;\n",
              "      fill: #D2E3FC;\n",
              "    }\n",
              "\n",
              "    [theme=dark] .colab-df-convert:hover {\n",
              "      background-color: #434B5C;\n",
              "      box-shadow: 0px 1px 3px 1px rgba(0, 0, 0, 0.15);\n",
              "      filter: drop-shadow(0px 1px 2px rgba(0, 0, 0, 0.3));\n",
              "      fill: #FFFFFF;\n",
              "    }\n",
              "  </style>\n",
              "\n",
              "      <script>\n",
              "        const buttonEl =\n",
              "          document.querySelector('#df-d2f5ea81-e61a-43ca-a116-3864b858a508 button.colab-df-convert');\n",
              "        buttonEl.style.display =\n",
              "          google.colab.kernel.accessAllowed ? 'block' : 'none';\n",
              "\n",
              "        async function convertToInteractive(key) {\n",
              "          const element = document.querySelector('#df-d2f5ea81-e61a-43ca-a116-3864b858a508');\n",
              "          const dataTable =\n",
              "            await google.colab.kernel.invokeFunction('convertToInteractive',\n",
              "                                                     [key], {});\n",
              "          if (!dataTable) return;\n",
              "\n",
              "          const docLinkHtml = 'Like what you see? Visit the ' +\n",
              "            '<a target=\"_blank\" href=https://colab.research.google.com/notebooks/data_table.ipynb>data table notebook</a>'\n",
              "            + ' to learn more about interactive tables.';\n",
              "          element.innerHTML = '';\n",
              "          dataTable['output_type'] = 'display_data';\n",
              "          await google.colab.output.renderOutput(dataTable, element);\n",
              "          const docLink = document.createElement('div');\n",
              "          docLink.innerHTML = docLinkHtml;\n",
              "          element.appendChild(docLink);\n",
              "        }\n",
              "      </script>\n",
              "    </div>\n",
              "  </div>\n",
              "  "
            ]
          },
          "metadata": {},
          "execution_count": 32
        }
      ],
      "source": [
        "ann_metrics = evaluate_model(y_test,  ann_prediction, \"ANN\")\n",
        "combined_metrics.append(ann_metrics)\n",
        "ann_metrics"
      ],
      "id": "fcbd35b3"
    },
    {
      "cell_type": "markdown",
      "metadata": {
        "id": "5661d1b8"
      },
      "source": [
        "### 2.  Support Vector Machine"
      ],
      "id": "5661d1b8"
    },
    {
      "cell_type": "code",
      "execution_count": null,
      "metadata": {
        "colab": {
          "base_uri": "https://localhost:8080/"
        },
        "id": "eea8eace",
        "outputId": "feb7bc88-316a-43e9-a068-9459d10c36fc"
      },
      "outputs": [
        {
          "output_type": "execute_result",
          "data": {
            "text/plain": [
              "SVR()"
            ]
          },
          "metadata": {},
          "execution_count": 33
        }
      ],
      "source": [
        "svm = SVR( kernel='rbf',\n",
        "            degree=3,\n",
        "            C=1.0,\n",
        "            epsilon=0.1,)\n",
        "svm.fit(X_train_scaled, y_train)"
      ],
      "id": "eea8eace"
    },
    {
      "cell_type": "code",
      "execution_count": null,
      "metadata": {
        "id": "ad02199d"
      },
      "outputs": [],
      "source": [
        "svm_prediction = svm.predict(X_test_scaled)"
      ],
      "id": "ad02199d"
    },
    {
      "cell_type": "code",
      "execution_count": null,
      "metadata": {
        "colab": {
          "base_uri": "https://localhost:8080/"
        },
        "id": "QKiOVcdzfZxO",
        "outputId": "7be622d1-382a-42c9-ad7a-b3321b9986d1"
      },
      "outputs": [
        {
          "output_type": "execute_result",
          "data": {
            "text/plain": [
              "                 SVM\n",
              "R_Squared   0.888861\n",
              "RMSE       19.990687\n",
              "MAPE        0.064003\n",
              "MBE        10.448773\n",
              "rRMSE       8.150113\n",
              "MABE       15.733760"
            ],
            "text/html": [
              "\n",
              "  <div id=\"df-6ed761b2-c059-4b93-8ee5-cf6642808669\">\n",
              "    <div class=\"colab-df-container\">\n",
              "      <div>\n",
              "<style scoped>\n",
              "    .dataframe tbody tr th:only-of-type {\n",
              "        vertical-align: middle;\n",
              "    }\n",
              "\n",
              "    .dataframe tbody tr th {\n",
              "        vertical-align: top;\n",
              "    }\n",
              "\n",
              "    .dataframe thead th {\n",
              "        text-align: right;\n",
              "    }\n",
              "</style>\n",
              "<table border=\"1\" class=\"dataframe\">\n",
              "  <thead>\n",
              "    <tr style=\"text-align: right;\">\n",
              "      <th></th>\n",
              "      <th>SVM</th>\n",
              "    </tr>\n",
              "  </thead>\n",
              "  <tbody>\n",
              "    <tr>\n",
              "      <th>R_Squared</th>\n",
              "      <td>0.888861</td>\n",
              "    </tr>\n",
              "    <tr>\n",
              "      <th>RMSE</th>\n",
              "      <td>19.990687</td>\n",
              "    </tr>\n",
              "    <tr>\n",
              "      <th>MAPE</th>\n",
              "      <td>0.064003</td>\n",
              "    </tr>\n",
              "    <tr>\n",
              "      <th>MBE</th>\n",
              "      <td>10.448773</td>\n",
              "    </tr>\n",
              "    <tr>\n",
              "      <th>rRMSE</th>\n",
              "      <td>8.150113</td>\n",
              "    </tr>\n",
              "    <tr>\n",
              "      <th>MABE</th>\n",
              "      <td>15.733760</td>\n",
              "    </tr>\n",
              "  </tbody>\n",
              "</table>\n",
              "</div>\n",
              "      <button class=\"colab-df-convert\" onclick=\"convertToInteractive('df-6ed761b2-c059-4b93-8ee5-cf6642808669')\"\n",
              "              title=\"Convert this dataframe to an interactive table.\"\n",
              "              style=\"display:none;\">\n",
              "        \n",
              "  <svg xmlns=\"http://www.w3.org/2000/svg\" height=\"24px\"viewBox=\"0 0 24 24\"\n",
              "       width=\"24px\">\n",
              "    <path d=\"M0 0h24v24H0V0z\" fill=\"none\"/>\n",
              "    <path d=\"M18.56 5.44l.94 2.06.94-2.06 2.06-.94-2.06-.94-.94-2.06-.94 2.06-2.06.94zm-11 1L8.5 8.5l.94-2.06 2.06-.94-2.06-.94L8.5 2.5l-.94 2.06-2.06.94zm10 10l.94 2.06.94-2.06 2.06-.94-2.06-.94-.94-2.06-.94 2.06-2.06.94z\"/><path d=\"M17.41 7.96l-1.37-1.37c-.4-.4-.92-.59-1.43-.59-.52 0-1.04.2-1.43.59L10.3 9.45l-7.72 7.72c-.78.78-.78 2.05 0 2.83L4 21.41c.39.39.9.59 1.41.59.51 0 1.02-.2 1.41-.59l7.78-7.78 2.81-2.81c.8-.78.8-2.07 0-2.86zM5.41 20L4 18.59l7.72-7.72 1.47 1.35L5.41 20z\"/>\n",
              "  </svg>\n",
              "      </button>\n",
              "      \n",
              "  <style>\n",
              "    .colab-df-container {\n",
              "      display:flex;\n",
              "      flex-wrap:wrap;\n",
              "      gap: 12px;\n",
              "    }\n",
              "\n",
              "    .colab-df-convert {\n",
              "      background-color: #E8F0FE;\n",
              "      border: none;\n",
              "      border-radius: 50%;\n",
              "      cursor: pointer;\n",
              "      display: none;\n",
              "      fill: #1967D2;\n",
              "      height: 32px;\n",
              "      padding: 0 0 0 0;\n",
              "      width: 32px;\n",
              "    }\n",
              "\n",
              "    .colab-df-convert:hover {\n",
              "      background-color: #E2EBFA;\n",
              "      box-shadow: 0px 1px 2px rgba(60, 64, 67, 0.3), 0px 1px 3px 1px rgba(60, 64, 67, 0.15);\n",
              "      fill: #174EA6;\n",
              "    }\n",
              "\n",
              "    [theme=dark] .colab-df-convert {\n",
              "      background-color: #3B4455;\n",
              "      fill: #D2E3FC;\n",
              "    }\n",
              "\n",
              "    [theme=dark] .colab-df-convert:hover {\n",
              "      background-color: #434B5C;\n",
              "      box-shadow: 0px 1px 3px 1px rgba(0, 0, 0, 0.15);\n",
              "      filter: drop-shadow(0px 1px 2px rgba(0, 0, 0, 0.3));\n",
              "      fill: #FFFFFF;\n",
              "    }\n",
              "  </style>\n",
              "\n",
              "      <script>\n",
              "        const buttonEl =\n",
              "          document.querySelector('#df-6ed761b2-c059-4b93-8ee5-cf6642808669 button.colab-df-convert');\n",
              "        buttonEl.style.display =\n",
              "          google.colab.kernel.accessAllowed ? 'block' : 'none';\n",
              "\n",
              "        async function convertToInteractive(key) {\n",
              "          const element = document.querySelector('#df-6ed761b2-c059-4b93-8ee5-cf6642808669');\n",
              "          const dataTable =\n",
              "            await google.colab.kernel.invokeFunction('convertToInteractive',\n",
              "                                                     [key], {});\n",
              "          if (!dataTable) return;\n",
              "\n",
              "          const docLinkHtml = 'Like what you see? Visit the ' +\n",
              "            '<a target=\"_blank\" href=https://colab.research.google.com/notebooks/data_table.ipynb>data table notebook</a>'\n",
              "            + ' to learn more about interactive tables.';\n",
              "          element.innerHTML = '';\n",
              "          dataTable['output_type'] = 'display_data';\n",
              "          await google.colab.output.renderOutput(dataTable, element);\n",
              "          const docLink = document.createElement('div');\n",
              "          docLink.innerHTML = docLinkHtml;\n",
              "          element.appendChild(docLink);\n",
              "        }\n",
              "      </script>\n",
              "    </div>\n",
              "  </div>\n",
              "  "
            ]
          },
          "metadata": {},
          "execution_count": 35
        }
      ],
      "source": [
        "svm_metrics = evaluate_model(y_test,  svm_prediction, \"SVM\")\n",
        "combined_metrics.append(svm_metrics)\n",
        "svm_metrics"
      ],
      "id": "QKiOVcdzfZxO"
    },
    {
      "cell_type": "code",
      "execution_count": null,
      "metadata": {
        "colab": {
          "base_uri": "https://localhost:8080/"
        },
        "id": "d05eb4a1",
        "outputId": "1a006f10-ebcd-4821-f84d-773aa5e89f96"
      },
      "outputs": [
        {
          "output_type": "stream",
          "name": "stdout",
          "text": [
            "Fitting 3 folds for each of 5 candidates, totalling 15 fits\n",
            "[CV 1/3] END .....C=1, gamma=0.1, kernel=rbf;, score=-473.374 total time=  10.6s\n",
            "[CV 2/3] END .....C=1, gamma=0.1, kernel=rbf;, score=-249.697 total time=  11.1s\n",
            "[CV 3/3] END .....C=1, gamma=0.1, kernel=rbf;, score=-601.074 total time=  12.3s\n",
            "[CV 1/3] END .C=100, gamma=0.001, kernel=rbf;, score=-271.164 total time=  11.7s\n",
            "[CV 2/3] END .C=100, gamma=0.001, kernel=rbf;, score=-313.159 total time=  12.0s\n",
            "[CV 3/3] END .C=100, gamma=0.001, kernel=rbf;, score=-753.819 total time=  10.1s\n",
            "[CV 1/3] END C=1000, gamma=0.0001, kernel=rbf;, score=-269.964 total time=  13.2s\n",
            "[CV 2/3] END C=1000, gamma=0.0001, kernel=rbf;, score=-313.699 total time=  11.5s\n",
            "[CV 3/3] END C=1000, gamma=0.0001, kernel=rbf;, score=-754.698 total time=  11.6s\n",
            "[CV 1/3] END ....C=10, gamma=0.1, kernel=rbf;, score=-227.624 total time=  12.0s\n",
            "[CV 2/3] END ....C=10, gamma=0.1, kernel=rbf;, score=-230.598 total time=  10.1s\n",
            "[CV 3/3] END ....C=10, gamma=0.1, kernel=rbf;, score=-743.863 total time=  11.4s\n",
            "[CV 1/3] END .C=1000, gamma=0.01, kernel=rbf;, score=-174.280 total time=  13.8s\n",
            "[CV 2/3] END .C=1000, gamma=0.01, kernel=rbf;, score=-305.935 total time=  15.1s\n",
            "[CV 3/3] END .C=1000, gamma=0.01, kernel=rbf;, score=-977.631 total time=  17.2s\n"
          ]
        },
        {
          "output_type": "execute_result",
          "data": {
            "text/plain": [
              "RandomizedSearchCV(cv=3, estimator=SVR(), n_iter=5,\n",
              "                   param_distributions={'C': [0.1, 1, 10, 100, 1000],\n",
              "                                        'gamma': [1, 0.1, 0.01, 0.001, 0.0001],\n",
              "                                        'kernel': ['rbf']},\n",
              "                   scoring='neg_mean_squared_error', verbose=3)"
            ]
          },
          "metadata": {},
          "execution_count": 36
        }
      ],
      "source": [
        " # defining parameter range\n",
        "param_grid = {'C': [0.1, 1, 10, 100, 1000],\n",
        "              'gamma': [1, 0.1, 0.01, 0.001, 0.0001],\n",
        "              'kernel': ['rbf']}\n",
        " \n",
        "grid = RandomizedSearchCV(SVR(),param_grid, cv=3,scoring=\"neg_mean_squared_error\",refit = True, verbose = 3, n_iter = 5)\n",
        " \n",
        "# fitting the model for grid search\n",
        "grid.fit(X_train_scaled, y_train)"
      ],
      "id": "d05eb4a1"
    },
    {
      "cell_type": "code",
      "execution_count": null,
      "metadata": {
        "colab": {
          "base_uri": "https://localhost:8080/"
        },
        "id": "267063aa",
        "outputId": "d50e190a-6994-493e-811c-33767d6e824d"
      },
      "outputs": [
        {
          "output_type": "stream",
          "name": "stdout",
          "text": [
            "{'kernel': 'rbf', 'gamma': 0.1, 'C': 10}\n",
            "SVR(C=10, gamma=0.1)\n"
          ]
        }
      ],
      "source": [
        "# print best parameter after tuning\n",
        "print(grid.best_params_)\n",
        "# print how our model looks after hyper-parameter tuning\n",
        "print(grid.best_estimator_)"
      ],
      "id": "267063aa"
    },
    {
      "cell_type": "code",
      "execution_count": null,
      "metadata": {
        "colab": {
          "base_uri": "https://localhost:8080/"
        },
        "id": "91e200f5",
        "outputId": "810e229a-28c4-4810-a0a8-60ad9bb26bed"
      },
      "outputs": [
        {
          "output_type": "execute_result",
          "data": {
            "text/plain": [
              "           SVM_tuned\n",
              "R_Squared   0.858657\n",
              "RMSE       22.544025\n",
              "MAPE        0.071286\n",
              "MBE        10.399377\n",
              "rRMSE       9.191097\n",
              "MABE       17.585055"
            ],
            "text/html": [
              "\n",
              "  <div id=\"df-756f3f45-9f79-4a8a-8fa2-e4b9f81918bc\">\n",
              "    <div class=\"colab-df-container\">\n",
              "      <div>\n",
              "<style scoped>\n",
              "    .dataframe tbody tr th:only-of-type {\n",
              "        vertical-align: middle;\n",
              "    }\n",
              "\n",
              "    .dataframe tbody tr th {\n",
              "        vertical-align: top;\n",
              "    }\n",
              "\n",
              "    .dataframe thead th {\n",
              "        text-align: right;\n",
              "    }\n",
              "</style>\n",
              "<table border=\"1\" class=\"dataframe\">\n",
              "  <thead>\n",
              "    <tr style=\"text-align: right;\">\n",
              "      <th></th>\n",
              "      <th>SVM_tuned</th>\n",
              "    </tr>\n",
              "  </thead>\n",
              "  <tbody>\n",
              "    <tr>\n",
              "      <th>R_Squared</th>\n",
              "      <td>0.858657</td>\n",
              "    </tr>\n",
              "    <tr>\n",
              "      <th>RMSE</th>\n",
              "      <td>22.544025</td>\n",
              "    </tr>\n",
              "    <tr>\n",
              "      <th>MAPE</th>\n",
              "      <td>0.071286</td>\n",
              "    </tr>\n",
              "    <tr>\n",
              "      <th>MBE</th>\n",
              "      <td>10.399377</td>\n",
              "    </tr>\n",
              "    <tr>\n",
              "      <th>rRMSE</th>\n",
              "      <td>9.191097</td>\n",
              "    </tr>\n",
              "    <tr>\n",
              "      <th>MABE</th>\n",
              "      <td>17.585055</td>\n",
              "    </tr>\n",
              "  </tbody>\n",
              "</table>\n",
              "</div>\n",
              "      <button class=\"colab-df-convert\" onclick=\"convertToInteractive('df-756f3f45-9f79-4a8a-8fa2-e4b9f81918bc')\"\n",
              "              title=\"Convert this dataframe to an interactive table.\"\n",
              "              style=\"display:none;\">\n",
              "        \n",
              "  <svg xmlns=\"http://www.w3.org/2000/svg\" height=\"24px\"viewBox=\"0 0 24 24\"\n",
              "       width=\"24px\">\n",
              "    <path d=\"M0 0h24v24H0V0z\" fill=\"none\"/>\n",
              "    <path d=\"M18.56 5.44l.94 2.06.94-2.06 2.06-.94-2.06-.94-.94-2.06-.94 2.06-2.06.94zm-11 1L8.5 8.5l.94-2.06 2.06-.94-2.06-.94L8.5 2.5l-.94 2.06-2.06.94zm10 10l.94 2.06.94-2.06 2.06-.94-2.06-.94-.94-2.06-.94 2.06-2.06.94z\"/><path d=\"M17.41 7.96l-1.37-1.37c-.4-.4-.92-.59-1.43-.59-.52 0-1.04.2-1.43.59L10.3 9.45l-7.72 7.72c-.78.78-.78 2.05 0 2.83L4 21.41c.39.39.9.59 1.41.59.51 0 1.02-.2 1.41-.59l7.78-7.78 2.81-2.81c.8-.78.8-2.07 0-2.86zM5.41 20L4 18.59l7.72-7.72 1.47 1.35L5.41 20z\"/>\n",
              "  </svg>\n",
              "      </button>\n",
              "      \n",
              "  <style>\n",
              "    .colab-df-container {\n",
              "      display:flex;\n",
              "      flex-wrap:wrap;\n",
              "      gap: 12px;\n",
              "    }\n",
              "\n",
              "    .colab-df-convert {\n",
              "      background-color: #E8F0FE;\n",
              "      border: none;\n",
              "      border-radius: 50%;\n",
              "      cursor: pointer;\n",
              "      display: none;\n",
              "      fill: #1967D2;\n",
              "      height: 32px;\n",
              "      padding: 0 0 0 0;\n",
              "      width: 32px;\n",
              "    }\n",
              "\n",
              "    .colab-df-convert:hover {\n",
              "      background-color: #E2EBFA;\n",
              "      box-shadow: 0px 1px 2px rgba(60, 64, 67, 0.3), 0px 1px 3px 1px rgba(60, 64, 67, 0.15);\n",
              "      fill: #174EA6;\n",
              "    }\n",
              "\n",
              "    [theme=dark] .colab-df-convert {\n",
              "      background-color: #3B4455;\n",
              "      fill: #D2E3FC;\n",
              "    }\n",
              "\n",
              "    [theme=dark] .colab-df-convert:hover {\n",
              "      background-color: #434B5C;\n",
              "      box-shadow: 0px 1px 3px 1px rgba(0, 0, 0, 0.15);\n",
              "      filter: drop-shadow(0px 1px 2px rgba(0, 0, 0, 0.3));\n",
              "      fill: #FFFFFF;\n",
              "    }\n",
              "  </style>\n",
              "\n",
              "      <script>\n",
              "        const buttonEl =\n",
              "          document.querySelector('#df-756f3f45-9f79-4a8a-8fa2-e4b9f81918bc button.colab-df-convert');\n",
              "        buttonEl.style.display =\n",
              "          google.colab.kernel.accessAllowed ? 'block' : 'none';\n",
              "\n",
              "        async function convertToInteractive(key) {\n",
              "          const element = document.querySelector('#df-756f3f45-9f79-4a8a-8fa2-e4b9f81918bc');\n",
              "          const dataTable =\n",
              "            await google.colab.kernel.invokeFunction('convertToInteractive',\n",
              "                                                     [key], {});\n",
              "          if (!dataTable) return;\n",
              "\n",
              "          const docLinkHtml = 'Like what you see? Visit the ' +\n",
              "            '<a target=\"_blank\" href=https://colab.research.google.com/notebooks/data_table.ipynb>data table notebook</a>'\n",
              "            + ' to learn more about interactive tables.';\n",
              "          element.innerHTML = '';\n",
              "          dataTable['output_type'] = 'display_data';\n",
              "          await google.colab.output.renderOutput(dataTable, element);\n",
              "          const docLink = document.createElement('div');\n",
              "          docLink.innerHTML = docLinkHtml;\n",
              "          element.appendChild(docLink);\n",
              "        }\n",
              "      </script>\n",
              "    </div>\n",
              "  </div>\n",
              "  "
            ]
          },
          "metadata": {},
          "execution_count": 38
        }
      ],
      "source": [
        "svm_tuned_prediction = grid.predict(X_test_scaled)\n",
        "svm_tuned_metrics = evaluate_model(y_test,  svm_tuned_prediction, \"SVM_tuned\")\n",
        "combined_metrics.append(svm_tuned_metrics)\n",
        "svm_tuned_metrics"
      ],
      "id": "91e200f5"
    },
    {
      "cell_type": "markdown",
      "metadata": {
        "id": "c5fa44ca"
      },
      "source": [
        "### 3. Deep Neural Network (DNN)"
      ],
      "id": "c5fa44ca"
    },
    {
      "cell_type": "code",
      "execution_count": null,
      "metadata": {
        "id": "02a4cc0c"
      },
      "outputs": [],
      "source": [
        "DNN = MLPRegressor(activation=\"relu\", \n",
        "                   hidden_layer_sizes = (100, 100), \n",
        "                   learning_rate_init= 0.001, \n",
        "                   momentum= 0.9, \n",
        "                   max_iter= 300  #number of Epochs\n",
        "                  )"
      ],
      "id": "02a4cc0c"
    },
    {
      "cell_type": "code",
      "execution_count": null,
      "metadata": {
        "colab": {
          "base_uri": "https://localhost:8080/"
        },
        "id": "878d967f",
        "outputId": "20b821b9-dd15-47b3-ba8f-a2bfd0750713"
      },
      "outputs": [
        {
          "output_type": "execute_result",
          "data": {
            "text/plain": [
              "MLPRegressor(hidden_layer_sizes=(100, 100), max_iter=300)"
            ]
          },
          "metadata": {},
          "execution_count": 40
        }
      ],
      "source": [
        "DNN.fit(X_train_scaled, y_train)"
      ],
      "id": "878d967f"
    },
    {
      "cell_type": "code",
      "execution_count": null,
      "metadata": {
        "id": "61bda074"
      },
      "outputs": [],
      "source": [
        "dnn_prediction = DNN.predict(X_test_scaled)"
      ],
      "id": "61bda074"
    },
    {
      "cell_type": "code",
      "execution_count": null,
      "metadata": {
        "colab": {
          "base_uri": "https://localhost:8080/"
        },
        "id": "6c8bae62",
        "outputId": "aabbbcab-bc92-48d3-e0c4-29cce4674c41"
      },
      "outputs": [
        {
          "output_type": "execute_result",
          "data": {
            "text/plain": [
              "                 DNN\n",
              "R_Squared   0.890028\n",
              "RMSE       19.885385\n",
              "MAPE        0.063936\n",
              "MBE        11.991837\n",
              "rRMSE       8.107182\n",
              "MABE       15.814411"
            ],
            "text/html": [
              "\n",
              "  <div id=\"df-68404cc1-67ad-4660-8b09-e40ba85c462d\">\n",
              "    <div class=\"colab-df-container\">\n",
              "      <div>\n",
              "<style scoped>\n",
              "    .dataframe tbody tr th:only-of-type {\n",
              "        vertical-align: middle;\n",
              "    }\n",
              "\n",
              "    .dataframe tbody tr th {\n",
              "        vertical-align: top;\n",
              "    }\n",
              "\n",
              "    .dataframe thead th {\n",
              "        text-align: right;\n",
              "    }\n",
              "</style>\n",
              "<table border=\"1\" class=\"dataframe\">\n",
              "  <thead>\n",
              "    <tr style=\"text-align: right;\">\n",
              "      <th></th>\n",
              "      <th>DNN</th>\n",
              "    </tr>\n",
              "  </thead>\n",
              "  <tbody>\n",
              "    <tr>\n",
              "      <th>R_Squared</th>\n",
              "      <td>0.890028</td>\n",
              "    </tr>\n",
              "    <tr>\n",
              "      <th>RMSE</th>\n",
              "      <td>19.885385</td>\n",
              "    </tr>\n",
              "    <tr>\n",
              "      <th>MAPE</th>\n",
              "      <td>0.063936</td>\n",
              "    </tr>\n",
              "    <tr>\n",
              "      <th>MBE</th>\n",
              "      <td>11.991837</td>\n",
              "    </tr>\n",
              "    <tr>\n",
              "      <th>rRMSE</th>\n",
              "      <td>8.107182</td>\n",
              "    </tr>\n",
              "    <tr>\n",
              "      <th>MABE</th>\n",
              "      <td>15.814411</td>\n",
              "    </tr>\n",
              "  </tbody>\n",
              "</table>\n",
              "</div>\n",
              "      <button class=\"colab-df-convert\" onclick=\"convertToInteractive('df-68404cc1-67ad-4660-8b09-e40ba85c462d')\"\n",
              "              title=\"Convert this dataframe to an interactive table.\"\n",
              "              style=\"display:none;\">\n",
              "        \n",
              "  <svg xmlns=\"http://www.w3.org/2000/svg\" height=\"24px\"viewBox=\"0 0 24 24\"\n",
              "       width=\"24px\">\n",
              "    <path d=\"M0 0h24v24H0V0z\" fill=\"none\"/>\n",
              "    <path d=\"M18.56 5.44l.94 2.06.94-2.06 2.06-.94-2.06-.94-.94-2.06-.94 2.06-2.06.94zm-11 1L8.5 8.5l.94-2.06 2.06-.94-2.06-.94L8.5 2.5l-.94 2.06-2.06.94zm10 10l.94 2.06.94-2.06 2.06-.94-2.06-.94-.94-2.06-.94 2.06-2.06.94z\"/><path d=\"M17.41 7.96l-1.37-1.37c-.4-.4-.92-.59-1.43-.59-.52 0-1.04.2-1.43.59L10.3 9.45l-7.72 7.72c-.78.78-.78 2.05 0 2.83L4 21.41c.39.39.9.59 1.41.59.51 0 1.02-.2 1.41-.59l7.78-7.78 2.81-2.81c.8-.78.8-2.07 0-2.86zM5.41 20L4 18.59l7.72-7.72 1.47 1.35L5.41 20z\"/>\n",
              "  </svg>\n",
              "      </button>\n",
              "      \n",
              "  <style>\n",
              "    .colab-df-container {\n",
              "      display:flex;\n",
              "      flex-wrap:wrap;\n",
              "      gap: 12px;\n",
              "    }\n",
              "\n",
              "    .colab-df-convert {\n",
              "      background-color: #E8F0FE;\n",
              "      border: none;\n",
              "      border-radius: 50%;\n",
              "      cursor: pointer;\n",
              "      display: none;\n",
              "      fill: #1967D2;\n",
              "      height: 32px;\n",
              "      padding: 0 0 0 0;\n",
              "      width: 32px;\n",
              "    }\n",
              "\n",
              "    .colab-df-convert:hover {\n",
              "      background-color: #E2EBFA;\n",
              "      box-shadow: 0px 1px 2px rgba(60, 64, 67, 0.3), 0px 1px 3px 1px rgba(60, 64, 67, 0.15);\n",
              "      fill: #174EA6;\n",
              "    }\n",
              "\n",
              "    [theme=dark] .colab-df-convert {\n",
              "      background-color: #3B4455;\n",
              "      fill: #D2E3FC;\n",
              "    }\n",
              "\n",
              "    [theme=dark] .colab-df-convert:hover {\n",
              "      background-color: #434B5C;\n",
              "      box-shadow: 0px 1px 3px 1px rgba(0, 0, 0, 0.15);\n",
              "      filter: drop-shadow(0px 1px 2px rgba(0, 0, 0, 0.3));\n",
              "      fill: #FFFFFF;\n",
              "    }\n",
              "  </style>\n",
              "\n",
              "      <script>\n",
              "        const buttonEl =\n",
              "          document.querySelector('#df-68404cc1-67ad-4660-8b09-e40ba85c462d button.colab-df-convert');\n",
              "        buttonEl.style.display =\n",
              "          google.colab.kernel.accessAllowed ? 'block' : 'none';\n",
              "\n",
              "        async function convertToInteractive(key) {\n",
              "          const element = document.querySelector('#df-68404cc1-67ad-4660-8b09-e40ba85c462d');\n",
              "          const dataTable =\n",
              "            await google.colab.kernel.invokeFunction('convertToInteractive',\n",
              "                                                     [key], {});\n",
              "          if (!dataTable) return;\n",
              "\n",
              "          const docLinkHtml = 'Like what you see? Visit the ' +\n",
              "            '<a target=\"_blank\" href=https://colab.research.google.com/notebooks/data_table.ipynb>data table notebook</a>'\n",
              "            + ' to learn more about interactive tables.';\n",
              "          element.innerHTML = '';\n",
              "          dataTable['output_type'] = 'display_data';\n",
              "          await google.colab.output.renderOutput(dataTable, element);\n",
              "          const docLink = document.createElement('div');\n",
              "          docLink.innerHTML = docLinkHtml;\n",
              "          element.appendChild(docLink);\n",
              "        }\n",
              "      </script>\n",
              "    </div>\n",
              "  </div>\n",
              "  "
            ]
          },
          "metadata": {},
          "execution_count": 42
        }
      ],
      "source": [
        "dnn_metrics = evaluate_model(y_test,  dnn_prediction, \"DNN\")\n",
        "combined_metrics.append(dnn_metrics)\n",
        "dnn_metrics"
      ],
      "id": "6c8bae62"
    },
    {
      "cell_type": "markdown",
      "metadata": {
        "id": "a1cef407"
      },
      "source": [
        "### 4. Decision Tree Regressor"
      ],
      "id": "a1cef407"
    },
    {
      "cell_type": "code",
      "execution_count": null,
      "metadata": {
        "colab": {
          "base_uri": "https://localhost:8080/"
        },
        "id": "ed66e518",
        "outputId": "d7b8fecc-51eb-4617-f866-369574e6b843"
      },
      "outputs": [
        {
          "output_type": "execute_result",
          "data": {
            "text/plain": [
              "           Decision Tree\n",
              "R_Squared       0.990226\n",
              "RMSE            5.928273\n",
              "MAPE            0.014554\n",
              "MBE             3.096949\n",
              "rRMSE           2.416930\n",
              "MABE            3.500212"
            ],
            "text/html": [
              "\n",
              "  <div id=\"df-e51d5343-3154-414b-93f0-37c5c7abaf7d\">\n",
              "    <div class=\"colab-df-container\">\n",
              "      <div>\n",
              "<style scoped>\n",
              "    .dataframe tbody tr th:only-of-type {\n",
              "        vertical-align: middle;\n",
              "    }\n",
              "\n",
              "    .dataframe tbody tr th {\n",
              "        vertical-align: top;\n",
              "    }\n",
              "\n",
              "    .dataframe thead th {\n",
              "        text-align: right;\n",
              "    }\n",
              "</style>\n",
              "<table border=\"1\" class=\"dataframe\">\n",
              "  <thead>\n",
              "    <tr style=\"text-align: right;\">\n",
              "      <th></th>\n",
              "      <th>Decision Tree</th>\n",
              "    </tr>\n",
              "  </thead>\n",
              "  <tbody>\n",
              "    <tr>\n",
              "      <th>R_Squared</th>\n",
              "      <td>0.990226</td>\n",
              "    </tr>\n",
              "    <tr>\n",
              "      <th>RMSE</th>\n",
              "      <td>5.928273</td>\n",
              "    </tr>\n",
              "    <tr>\n",
              "      <th>MAPE</th>\n",
              "      <td>0.014554</td>\n",
              "    </tr>\n",
              "    <tr>\n",
              "      <th>MBE</th>\n",
              "      <td>3.096949</td>\n",
              "    </tr>\n",
              "    <tr>\n",
              "      <th>rRMSE</th>\n",
              "      <td>2.416930</td>\n",
              "    </tr>\n",
              "    <tr>\n",
              "      <th>MABE</th>\n",
              "      <td>3.500212</td>\n",
              "    </tr>\n",
              "  </tbody>\n",
              "</table>\n",
              "</div>\n",
              "      <button class=\"colab-df-convert\" onclick=\"convertToInteractive('df-e51d5343-3154-414b-93f0-37c5c7abaf7d')\"\n",
              "              title=\"Convert this dataframe to an interactive table.\"\n",
              "              style=\"display:none;\">\n",
              "        \n",
              "  <svg xmlns=\"http://www.w3.org/2000/svg\" height=\"24px\"viewBox=\"0 0 24 24\"\n",
              "       width=\"24px\">\n",
              "    <path d=\"M0 0h24v24H0V0z\" fill=\"none\"/>\n",
              "    <path d=\"M18.56 5.44l.94 2.06.94-2.06 2.06-.94-2.06-.94-.94-2.06-.94 2.06-2.06.94zm-11 1L8.5 8.5l.94-2.06 2.06-.94-2.06-.94L8.5 2.5l-.94 2.06-2.06.94zm10 10l.94 2.06.94-2.06 2.06-.94-2.06-.94-.94-2.06-.94 2.06-2.06.94z\"/><path d=\"M17.41 7.96l-1.37-1.37c-.4-.4-.92-.59-1.43-.59-.52 0-1.04.2-1.43.59L10.3 9.45l-7.72 7.72c-.78.78-.78 2.05 0 2.83L4 21.41c.39.39.9.59 1.41.59.51 0 1.02-.2 1.41-.59l7.78-7.78 2.81-2.81c.8-.78.8-2.07 0-2.86zM5.41 20L4 18.59l7.72-7.72 1.47 1.35L5.41 20z\"/>\n",
              "  </svg>\n",
              "      </button>\n",
              "      \n",
              "  <style>\n",
              "    .colab-df-container {\n",
              "      display:flex;\n",
              "      flex-wrap:wrap;\n",
              "      gap: 12px;\n",
              "    }\n",
              "\n",
              "    .colab-df-convert {\n",
              "      background-color: #E8F0FE;\n",
              "      border: none;\n",
              "      border-radius: 50%;\n",
              "      cursor: pointer;\n",
              "      display: none;\n",
              "      fill: #1967D2;\n",
              "      height: 32px;\n",
              "      padding: 0 0 0 0;\n",
              "      width: 32px;\n",
              "    }\n",
              "\n",
              "    .colab-df-convert:hover {\n",
              "      background-color: #E2EBFA;\n",
              "      box-shadow: 0px 1px 2px rgba(60, 64, 67, 0.3), 0px 1px 3px 1px rgba(60, 64, 67, 0.15);\n",
              "      fill: #174EA6;\n",
              "    }\n",
              "\n",
              "    [theme=dark] .colab-df-convert {\n",
              "      background-color: #3B4455;\n",
              "      fill: #D2E3FC;\n",
              "    }\n",
              "\n",
              "    [theme=dark] .colab-df-convert:hover {\n",
              "      background-color: #434B5C;\n",
              "      box-shadow: 0px 1px 3px 1px rgba(0, 0, 0, 0.15);\n",
              "      filter: drop-shadow(0px 1px 2px rgba(0, 0, 0, 0.3));\n",
              "      fill: #FFFFFF;\n",
              "    }\n",
              "  </style>\n",
              "\n",
              "      <script>\n",
              "        const buttonEl =\n",
              "          document.querySelector('#df-e51d5343-3154-414b-93f0-37c5c7abaf7d button.colab-df-convert');\n",
              "        buttonEl.style.display =\n",
              "          google.colab.kernel.accessAllowed ? 'block' : 'none';\n",
              "\n",
              "        async function convertToInteractive(key) {\n",
              "          const element = document.querySelector('#df-e51d5343-3154-414b-93f0-37c5c7abaf7d');\n",
              "          const dataTable =\n",
              "            await google.colab.kernel.invokeFunction('convertToInteractive',\n",
              "                                                     [key], {});\n",
              "          if (!dataTable) return;\n",
              "\n",
              "          const docLinkHtml = 'Like what you see? Visit the ' +\n",
              "            '<a target=\"_blank\" href=https://colab.research.google.com/notebooks/data_table.ipynb>data table notebook</a>'\n",
              "            + ' to learn more about interactive tables.';\n",
              "          element.innerHTML = '';\n",
              "          dataTable['output_type'] = 'display_data';\n",
              "          await google.colab.output.renderOutput(dataTable, element);\n",
              "          const docLink = document.createElement('div');\n",
              "          docLink.innerHTML = docLinkHtml;\n",
              "          element.appendChild(docLink);\n",
              "        }\n",
              "      </script>\n",
              "    </div>\n",
              "  </div>\n",
              "  "
            ]
          },
          "metadata": {},
          "execution_count": 43
        }
      ],
      "source": [
        "decision_tree = DecisionTreeRegressor()\n",
        "decision_tree.fit(X_train, y_train)\n",
        "DT_prediction = decision_tree.predict(X_test)\n",
        "dt_metrics = evaluate_model(y_test, DT_prediction, \"Decision Tree\")\n",
        "combined_metrics.append(dt_metrics)\n",
        "dt_metrics"
      ],
      "id": "ed66e518"
    },
    {
      "cell_type": "code",
      "execution_count": null,
      "metadata": {
        "colab": {
          "base_uri": "https://localhost:8080/"
        },
        "id": "8b6a40b7",
        "outputId": "b31554d6-1f56-4a01-d214-fd999ae33cbe"
      },
      "outputs": [
        {
          "output_type": "stream",
          "name": "stdout",
          "text": [
            "Fitting 3 folds for each of 5 candidates, totalling 15 fits\n",
            "[CV 1/3] END ....................max_depth=4;, score=-464.808 total time=   0.0s\n",
            "[CV 2/3] END ....................max_depth=4;, score=-119.253 total time=   0.0s\n",
            "[CV 3/3] END ....................max_depth=4;, score=-346.845 total time=   0.0s\n",
            "[CV 1/3] END ....................max_depth=5;, score=-357.364 total time=   0.0s\n",
            "[CV 2/3] END .....................max_depth=5;, score=-47.658 total time=   0.0s\n",
            "[CV 3/3] END ....................max_depth=5;, score=-223.849 total time=   0.0s\n",
            "[CV 1/3] END ...................max_depth=2;, score=-1115.066 total time=   0.0s\n",
            "[CV 2/3] END ....................max_depth=2;, score=-623.887 total time=   0.0s\n",
            "[CV 3/3] END ...................max_depth=2;, score=-1186.759 total time=   0.0s\n",
            "[CV 1/3] END ....................max_depth=3;, score=-880.652 total time=   0.0s\n",
            "[CV 2/3] END ....................max_depth=3;, score=-263.212 total time=   0.0s\n",
            "[CV 3/3] END ....................max_depth=3;, score=-494.412 total time=   0.0s\n",
            "[CV 1/3] END ....................max_depth=8;, score=-308.600 total time=   0.0s\n",
            "[CV 2/3] END ......................max_depth=8;, score=-2.461 total time=   0.1s\n",
            "[CV 3/3] END ....................max_depth=8;, score=-120.692 total time=   0.1s\n"
          ]
        },
        {
          "output_type": "execute_result",
          "data": {
            "text/plain": [
              "RandomizedSearchCV(cv=3, estimator=DecisionTreeRegressor(), n_iter=5,\n",
              "                   param_distributions={'max_depth': [2, 3, 4, 5, 6, 7, 8]},\n",
              "                   scoring='neg_mean_squared_error', verbose=3)"
            ]
          },
          "metadata": {},
          "execution_count": 44
        }
      ],
      "source": [
        "param_grid = {'max_depth':[2,3,4,5,6,7,8],}\n",
        " \n",
        "grid = RandomizedSearchCV(DecisionTreeRegressor(),param_grid, cv=3,scoring=\"neg_mean_squared_error\",refit = True, verbose = 3, n_iter = 5)\n",
        " \n",
        "# fitting the model for grid search\n",
        "grid.fit(X_train, y_train)"
      ],
      "id": "8b6a40b7"
    },
    {
      "cell_type": "code",
      "execution_count": null,
      "metadata": {
        "colab": {
          "base_uri": "https://localhost:8080/"
        },
        "id": "4bc51a0e",
        "outputId": "109eaf23-2d16-4bea-8f2d-f3236541e810"
      },
      "outputs": [
        {
          "output_type": "stream",
          "name": "stdout",
          "text": [
            "{'max_depth': 8}\n",
            "DecisionTreeRegressor(max_depth=8)\n"
          ]
        }
      ],
      "source": [
        "print(grid.best_params_)\n",
        "print(grid.best_estimator_)"
      ],
      "id": "4bc51a0e"
    },
    {
      "cell_type": "code",
      "execution_count": null,
      "metadata": {
        "colab": {
          "base_uri": "https://localhost:8080/"
        },
        "id": "a4cf2446",
        "outputId": "3e5b90dd-761e-4856-d915-94f3e9d5591e"
      },
      "outputs": [
        {
          "output_type": "execute_result",
          "data": {
            "text/plain": [
              "           DecisionTree_tuned\n",
              "R_Squared            0.990083\n",
              "RMSE                 5.971438\n",
              "MAPE                 0.015587\n",
              "MBE                  3.081530\n",
              "rRMSE                2.434528\n",
              "MABE                 3.694598"
            ],
            "text/html": [
              "\n",
              "  <div id=\"df-4230c891-5894-44f0-805f-f8beb83ec89d\">\n",
              "    <div class=\"colab-df-container\">\n",
              "      <div>\n",
              "<style scoped>\n",
              "    .dataframe tbody tr th:only-of-type {\n",
              "        vertical-align: middle;\n",
              "    }\n",
              "\n",
              "    .dataframe tbody tr th {\n",
              "        vertical-align: top;\n",
              "    }\n",
              "\n",
              "    .dataframe thead th {\n",
              "        text-align: right;\n",
              "    }\n",
              "</style>\n",
              "<table border=\"1\" class=\"dataframe\">\n",
              "  <thead>\n",
              "    <tr style=\"text-align: right;\">\n",
              "      <th></th>\n",
              "      <th>DecisionTree_tuned</th>\n",
              "    </tr>\n",
              "  </thead>\n",
              "  <tbody>\n",
              "    <tr>\n",
              "      <th>R_Squared</th>\n",
              "      <td>0.990083</td>\n",
              "    </tr>\n",
              "    <tr>\n",
              "      <th>RMSE</th>\n",
              "      <td>5.971438</td>\n",
              "    </tr>\n",
              "    <tr>\n",
              "      <th>MAPE</th>\n",
              "      <td>0.015587</td>\n",
              "    </tr>\n",
              "    <tr>\n",
              "      <th>MBE</th>\n",
              "      <td>3.081530</td>\n",
              "    </tr>\n",
              "    <tr>\n",
              "      <th>rRMSE</th>\n",
              "      <td>2.434528</td>\n",
              "    </tr>\n",
              "    <tr>\n",
              "      <th>MABE</th>\n",
              "      <td>3.694598</td>\n",
              "    </tr>\n",
              "  </tbody>\n",
              "</table>\n",
              "</div>\n",
              "      <button class=\"colab-df-convert\" onclick=\"convertToInteractive('df-4230c891-5894-44f0-805f-f8beb83ec89d')\"\n",
              "              title=\"Convert this dataframe to an interactive table.\"\n",
              "              style=\"display:none;\">\n",
              "        \n",
              "  <svg xmlns=\"http://www.w3.org/2000/svg\" height=\"24px\"viewBox=\"0 0 24 24\"\n",
              "       width=\"24px\">\n",
              "    <path d=\"M0 0h24v24H0V0z\" fill=\"none\"/>\n",
              "    <path d=\"M18.56 5.44l.94 2.06.94-2.06 2.06-.94-2.06-.94-.94-2.06-.94 2.06-2.06.94zm-11 1L8.5 8.5l.94-2.06 2.06-.94-2.06-.94L8.5 2.5l-.94 2.06-2.06.94zm10 10l.94 2.06.94-2.06 2.06-.94-2.06-.94-.94-2.06-.94 2.06-2.06.94z\"/><path d=\"M17.41 7.96l-1.37-1.37c-.4-.4-.92-.59-1.43-.59-.52 0-1.04.2-1.43.59L10.3 9.45l-7.72 7.72c-.78.78-.78 2.05 0 2.83L4 21.41c.39.39.9.59 1.41.59.51 0 1.02-.2 1.41-.59l7.78-7.78 2.81-2.81c.8-.78.8-2.07 0-2.86zM5.41 20L4 18.59l7.72-7.72 1.47 1.35L5.41 20z\"/>\n",
              "  </svg>\n",
              "      </button>\n",
              "      \n",
              "  <style>\n",
              "    .colab-df-container {\n",
              "      display:flex;\n",
              "      flex-wrap:wrap;\n",
              "      gap: 12px;\n",
              "    }\n",
              "\n",
              "    .colab-df-convert {\n",
              "      background-color: #E8F0FE;\n",
              "      border: none;\n",
              "      border-radius: 50%;\n",
              "      cursor: pointer;\n",
              "      display: none;\n",
              "      fill: #1967D2;\n",
              "      height: 32px;\n",
              "      padding: 0 0 0 0;\n",
              "      width: 32px;\n",
              "    }\n",
              "\n",
              "    .colab-df-convert:hover {\n",
              "      background-color: #E2EBFA;\n",
              "      box-shadow: 0px 1px 2px rgba(60, 64, 67, 0.3), 0px 1px 3px 1px rgba(60, 64, 67, 0.15);\n",
              "      fill: #174EA6;\n",
              "    }\n",
              "\n",
              "    [theme=dark] .colab-df-convert {\n",
              "      background-color: #3B4455;\n",
              "      fill: #D2E3FC;\n",
              "    }\n",
              "\n",
              "    [theme=dark] .colab-df-convert:hover {\n",
              "      background-color: #434B5C;\n",
              "      box-shadow: 0px 1px 3px 1px rgba(0, 0, 0, 0.15);\n",
              "      filter: drop-shadow(0px 1px 2px rgba(0, 0, 0, 0.3));\n",
              "      fill: #FFFFFF;\n",
              "    }\n",
              "  </style>\n",
              "\n",
              "      <script>\n",
              "        const buttonEl =\n",
              "          document.querySelector('#df-4230c891-5894-44f0-805f-f8beb83ec89d button.colab-df-convert');\n",
              "        buttonEl.style.display =\n",
              "          google.colab.kernel.accessAllowed ? 'block' : 'none';\n",
              "\n",
              "        async function convertToInteractive(key) {\n",
              "          const element = document.querySelector('#df-4230c891-5894-44f0-805f-f8beb83ec89d');\n",
              "          const dataTable =\n",
              "            await google.colab.kernel.invokeFunction('convertToInteractive',\n",
              "                                                     [key], {});\n",
              "          if (!dataTable) return;\n",
              "\n",
              "          const docLinkHtml = 'Like what you see? Visit the ' +\n",
              "            '<a target=\"_blank\" href=https://colab.research.google.com/notebooks/data_table.ipynb>data table notebook</a>'\n",
              "            + ' to learn more about interactive tables.';\n",
              "          element.innerHTML = '';\n",
              "          dataTable['output_type'] = 'display_data';\n",
              "          await google.colab.output.renderOutput(dataTable, element);\n",
              "          const docLink = document.createElement('div');\n",
              "          docLink.innerHTML = docLinkHtml;\n",
              "          element.appendChild(docLink);\n",
              "        }\n",
              "      </script>\n",
              "    </div>\n",
              "  </div>\n",
              "  "
            ]
          },
          "metadata": {},
          "execution_count": 46
        }
      ],
      "source": [
        "DT_tuned_prediction = grid.predict(X_test)\n",
        "DT_tuned_metrics = evaluate_model(y_test,  DT_tuned_prediction, \"DecisionTree_tuned\")\n",
        "combined_metrics.append(DT_tuned_metrics)\n",
        "DT_tuned_metrics"
      ],
      "id": "a4cf2446"
    },
    {
      "cell_type": "code",
      "execution_count": null,
      "metadata": {
        "colab": {
          "base_uri": "https://localhost:8080/"
        },
        "id": "4e0a160a",
        "outputId": "628b14d9-9f0d-4077-982c-5c092cec1021"
      },
      "outputs": [
        {
          "output_type": "display_data",
          "data": {
            "text/plain": [
              "<Figure size 1080x432 with 1 Axes>"
            ],
            "image/png": "[encoded data removed]"
          },
          "metadata": {
            "needs_background": "light"
          }
        }
      ],
      "source": [
        "feature_importance_df = pd.DataFrame(decision_tree.feature_importances_, columns=['importance'])\n",
        "feature_importance_df['feature'] = X_train.columns\n",
        "\n",
        "plt.figure(figsize=(15, 6));\n",
        "sns.barplot(x=\"importance\", y=\"feature\", data=feature_importance_df.sort_values(by = ['importance'], ascending = False).head(50))\n",
        "plt.title('Decision Tree features importance');"
      ],
      "id": "4e0a160a"
    },
    {
      "cell_type": "markdown",
      "metadata": {
        "id": "e6951a0d"
      },
      "source": [
        "### 5.  Random Forest Regressor"
      ],
      "id": "e6951a0d"
    },
    {
      "cell_type": "code",
      "execution_count": null,
      "metadata": {
        "colab": {
          "base_uri": "https://localhost:8080/"
        },
        "id": "741eb428",
        "outputId": "f5be7113-a60e-4c3a-f83b-17f6e29a0072"
      },
      "outputs": [
        {
          "output_type": "execute_result",
          "data": {
            "text/plain": [
              "           Random Forest\n",
              "R_Squared       0.990047\n",
              "RMSE            5.982267\n",
              "MAPE            0.014447\n",
              "MBE             3.116262\n",
              "rRMSE           2.438943\n",
              "MABE            3.538578"
            ],
            "text/html": [
              "\n",
              "  <div id=\"df-a711d38b-7774-40a2-9852-65dd853a23ed\">\n",
              "    <div class=\"colab-df-container\">\n",
              "      <div>\n",
              "<style scoped>\n",
              "    .dataframe tbody tr th:only-of-type {\n",
              "        vertical-align: middle;\n",
              "    }\n",
              "\n",
              "    .dataframe tbody tr th {\n",
              "        vertical-align: top;\n",
              "    }\n",
              "\n",
              "    .dataframe thead th {\n",
              "        text-align: right;\n",
              "    }\n",
              "</style>\n",
              "<table border=\"1\" class=\"dataframe\">\n",
              "  <thead>\n",
              "    <tr style=\"text-align: right;\">\n",
              "      <th></th>\n",
              "      <th>Random Forest</th>\n",
              "    </tr>\n",
              "  </thead>\n",
              "  <tbody>\n",
              "    <tr>\n",
              "      <th>R_Squared</th>\n",
              "      <td>0.990047</td>\n",
              "    </tr>\n",
              "    <tr>\n",
              "      <th>RMSE</th>\n",
              "      <td>5.982267</td>\n",
              "    </tr>\n",
              "    <tr>\n",
              "      <th>MAPE</th>\n",
              "      <td>0.014447</td>\n",
              "    </tr>\n",
              "    <tr>\n",
              "      <th>MBE</th>\n",
              "      <td>3.116262</td>\n",
              "    </tr>\n",
              "    <tr>\n",
              "      <th>rRMSE</th>\n",
              "      <td>2.438943</td>\n",
              "    </tr>\n",
              "    <tr>\n",
              "      <th>MABE</th>\n",
              "      <td>3.538578</td>\n",
              "    </tr>\n",
              "  </tbody>\n",
              "</table>\n",
              "</div>\n",
              "      <button class=\"colab-df-convert\" onclick=\"convertToInteractive('df-a711d38b-7774-40a2-9852-65dd853a23ed')\"\n",
              "              title=\"Convert this dataframe to an interactive table.\"\n",
              "              style=\"display:none;\">\n",
              "        \n",
              "  <svg xmlns=\"http://www.w3.org/2000/svg\" height=\"24px\"viewBox=\"0 0 24 24\"\n",
              "       width=\"24px\">\n",
              "    <path d=\"M0 0h24v24H0V0z\" fill=\"none\"/>\n",
              "    <path d=\"M18.56 5.44l.94 2.06.94-2.06 2.06-.94-2.06-.94-.94-2.06-.94 2.06-2.06.94zm-11 1L8.5 8.5l.94-2.06 2.06-.94-2.06-.94L8.5 2.5l-.94 2.06-2.06.94zm10 10l.94 2.06.94-2.06 2.06-.94-2.06-.94-.94-2.06-.94 2.06-2.06.94z\"/><path d=\"M17.41 7.96l-1.37-1.37c-.4-.4-.92-.59-1.43-.59-.52 0-1.04.2-1.43.59L10.3 9.45l-7.72 7.72c-.78.78-.78 2.05 0 2.83L4 21.41c.39.39.9.59 1.41.59.51 0 1.02-.2 1.41-.59l7.78-7.78 2.81-2.81c.8-.78.8-2.07 0-2.86zM5.41 20L4 18.59l7.72-7.72 1.47 1.35L5.41 20z\"/>\n",
              "  </svg>\n",
              "      </button>\n",
              "      \n",
              "  <style>\n",
              "    .colab-df-container {\n",
              "      display:flex;\n",
              "      flex-wrap:wrap;\n",
              "      gap: 12px;\n",
              "    }\n",
              "\n",
              "    .colab-df-convert {\n",
              "      background-color: #E8F0FE;\n",
              "      border: none;\n",
              "      border-radius: 50%;\n",
              "      cursor: pointer;\n",
              "      display: none;\n",
              "      fill: #1967D2;\n",
              "      height: 32px;\n",
              "      padding: 0 0 0 0;\n",
              "      width: 32px;\n",
              "    }\n",
              "\n",
              "    .colab-df-convert:hover {\n",
              "      background-color: #E2EBFA;\n",
              "      box-shadow: 0px 1px 2px rgba(60, 64, 67, 0.3), 0px 1px 3px 1px rgba(60, 64, 67, 0.15);\n",
              "      fill: #174EA6;\n",
              "    }\n",
              "\n",
              "    [theme=dark] .colab-df-convert {\n",
              "      background-color: #3B4455;\n",
              "      fill: #D2E3FC;\n",
              "    }\n",
              "\n",
              "    [theme=dark] .colab-df-convert:hover {\n",
              "      background-color: #434B5C;\n",
              "      box-shadow: 0px 1px 3px 1px rgba(0, 0, 0, 0.15);\n",
              "      filter: drop-shadow(0px 1px 2px rgba(0, 0, 0, 0.3));\n",
              "      fill: #FFFFFF;\n",
              "    }\n",
              "  </style>\n",
              "\n",
              "      <script>\n",
              "        const buttonEl =\n",
              "          document.querySelector('#df-a711d38b-7774-40a2-9852-65dd853a23ed button.colab-df-convert');\n",
              "        buttonEl.style.display =\n",
              "          google.colab.kernel.accessAllowed ? 'block' : 'none';\n",
              "\n",
              "        async function convertToInteractive(key) {\n",
              "          const element = document.querySelector('#df-a711d38b-7774-40a2-9852-65dd853a23ed');\n",
              "          const dataTable =\n",
              "            await google.colab.kernel.invokeFunction('convertToInteractive',\n",
              "                                                     [key], {});\n",
              "          if (!dataTable) return;\n",
              "\n",
              "          const docLinkHtml = 'Like what you see? Visit the ' +\n",
              "            '<a target=\"_blank\" href=https://colab.research.google.com/notebooks/data_table.ipynb>data table notebook</a>'\n",
              "            + ' to learn more about interactive tables.';\n",
              "          element.innerHTML = '';\n",
              "          dataTable['output_type'] = 'display_data';\n",
              "          await google.colab.output.renderOutput(dataTable, element);\n",
              "          const docLink = document.createElement('div');\n",
              "          docLink.innerHTML = docLinkHtml;\n",
              "          element.appendChild(docLink);\n",
              "        }\n",
              "      </script>\n",
              "    </div>\n",
              "  </div>\n",
              "  "
            ]
          },
          "metadata": {},
          "execution_count": 48
        }
      ],
      "source": [
        "random_forest = RandomForestRegressor()\n",
        "random_forest.fit(X_train, y_train)\n",
        "RF_prediction = random_forest.predict(X_test)\n",
        "rf_metrics =evaluate_model(y_test, RF_prediction, \"Random Forest\")\n",
        "combined_metrics.append(rf_metrics)\n",
        "rf_metrics"
      ],
      "id": "741eb428"
    },
    {
      "cell_type": "code",
      "execution_count": null,
      "metadata": {
        "colab": {
          "base_uri": "https://localhost:8080/"
        },
        "id": "1e7c5bfa",
        "outputId": "87b89718-e8a8-4546-e869-8446977629ab"
      },
      "outputs": [
        {
          "output_type": "stream",
          "name": "stdout",
          "text": [
            "Fitting 3 folds for each of 5 candidates, totalling 15 fits\n",
            "[CV 1/3] END ..max_depth=3, n_estimators=100;, score=-871.152 total time=   1.9s\n",
            "[CV 2/3] END ..max_depth=3, n_estimators=100;, score=-213.270 total time=   1.4s\n",
            "[CV 3/3] END ..max_depth=3, n_estimators=100;, score=-472.351 total time=   1.3s\n",
            "[CV 1/3] END .max_depth=2, n_estimators=300;, score=-1099.310 total time=   2.8s\n",
            "[CV 2/3] END ..max_depth=2, n_estimators=300;, score=-579.066 total time=   2.9s\n",
            "[CV 3/3] END .max_depth=2, n_estimators=300;, score=-1160.379 total time=   3.3s\n",
            "[CV 1/3] END ..max_depth=8, n_estimators=200;, score=-268.661 total time=   6.4s\n",
            "[CV 2/3] END ....max_depth=8, n_estimators=200;, score=-2.376 total time=   5.9s\n",
            "[CV 3/3] END ...max_depth=8, n_estimators=200;, score=-74.434 total time=   6.9s\n",
            "[CV 1/3] END ...max_depth=6, n_estimators=50;, score=-279.247 total time=   1.1s\n",
            "[CV 2/3] END .....max_depth=6, n_estimators=50;, score=-7.265 total time=   1.2s\n",
            "[CV 3/3] END ...max_depth=6, n_estimators=50;, score=-116.419 total time=   1.1s\n",
            "[CV 1/3] END .max_depth=2, n_estimators=100;, score=-1098.847 total time=   0.9s\n",
            "[CV 2/3] END ..max_depth=2, n_estimators=100;, score=-571.857 total time=   1.0s\n",
            "[CV 3/3] END .max_depth=2, n_estimators=100;, score=-1161.153 total time=   0.9s\n"
          ]
        },
        {
          "output_type": "execute_result",
          "data": {
            "text/plain": [
              "RandomizedSearchCV(cv=3, estimator=RandomForestRegressor(), n_iter=5,\n",
              "                   param_distributions={'max_depth': [2, 3, 4, 5, 6, 7, 8],\n",
              "                                        'n_estimators': [50, 100, 200, 300]},\n",
              "                   scoring='neg_mean_squared_error', verbose=3)"
            ]
          },
          "metadata": {},
          "execution_count": 49
        }
      ],
      "source": [
        "param_grid = {\n",
        "              \"n_estimators\": [50,100,200,300],\n",
        "              'max_depth':[2,3,4,5,6,7,8],\n",
        "              }\n",
        "grid = RandomizedSearchCV(RandomForestRegressor(),param_grid, cv=3,scoring=\"neg_mean_squared_error\",refit = True, verbose = 3, n_iter = 5)\n",
        " \n",
        "# fitting the model for grid search\n",
        "grid.fit(X_train, y_train)"
      ],
      "id": "1e7c5bfa"
    },
    {
      "cell_type": "code",
      "execution_count": null,
      "metadata": {
        "colab": {
          "base_uri": "https://localhost:8080/"
        },
        "id": "6b68f370",
        "outputId": "9f417173-82a3-45f8-d10f-74965736c176"
      },
      "outputs": [
        {
          "output_type": "stream",
          "name": "stdout",
          "text": [
            "{'n_estimators': 200, 'max_depth': 8}\n",
            "RandomForestRegressor(max_depth=8, n_estimators=200)\n"
          ]
        }
      ],
      "source": [
        "print(grid.best_params_)\n",
        "print(grid.best_estimator_)"
      ],
      "id": "6b68f370"
    },
    {
      "cell_type": "code",
      "execution_count": null,
      "metadata": {
        "colab": {
          "base_uri": "https://localhost:8080/"
        },
        "id": "1ad8836f",
        "outputId": "3f6ac720-17f8-49ca-c0b3-232913a4074c"
      },
      "outputs": [
        {
          "output_type": "execute_result",
          "data": {
            "text/plain": [
              "           RandomForest_tuned\n",
              "R_Squared            0.990251\n",
              "RMSE                 5.920835\n",
              "MAPE                 0.014935\n",
              "MBE                  3.085338\n",
              "rRMSE                2.413898\n",
              "MABE                 3.612513"
            ],
            "text/html": [
              "\n",
              "  <div id=\"df-56aa00ff-4fad-43a0-a810-69020264f681\">\n",
              "    <div class=\"colab-df-container\">\n",
              "      <div>\n",
              "<style scoped>\n",
              "    .dataframe tbody tr th:only-of-type {\n",
              "        vertical-align: middle;\n",
              "    }\n",
              "\n",
              "    .dataframe tbody tr th {\n",
              "        vertical-align: top;\n",
              "    }\n",
              "\n",
              "    .dataframe thead th {\n",
              "        text-align: right;\n",
              "    }\n",
              "</style>\n",
              "<table border=\"1\" class=\"dataframe\">\n",
              "  <thead>\n",
              "    <tr style=\"text-align: right;\">\n",
              "      <th></th>\n",
              "      <th>RandomForest_tuned</th>\n",
              "    </tr>\n",
              "  </thead>\n",
              "  <tbody>\n",
              "    <tr>\n",
              "      <th>R_Squared</th>\n",
              "      <td>0.990251</td>\n",
              "    </tr>\n",
              "    <tr>\n",
              "      <th>RMSE</th>\n",
              "      <td>5.920835</td>\n",
              "    </tr>\n",
              "    <tr>\n",
              "      <th>MAPE</th>\n",
              "      <td>0.014935</td>\n",
              "    </tr>\n",
              "    <tr>\n",
              "      <th>MBE</th>\n",
              "      <td>3.085338</td>\n",
              "    </tr>\n",
              "    <tr>\n",
              "      <th>rRMSE</th>\n",
              "      <td>2.413898</td>\n",
              "    </tr>\n",
              "    <tr>\n",
              "      <th>MABE</th>\n",
              "      <td>3.612513</td>\n",
              "    </tr>\n",
              "  </tbody>\n",
              "</table>\n",
              "</div>\n",
              "      <button class=\"colab-df-convert\" onclick=\"convertToInteractive('df-56aa00ff-4fad-43a0-a810-69020264f681')\"\n",
              "              title=\"Convert this dataframe to an interactive table.\"\n",
              "              style=\"display:none;\">\n",
              "        \n",
              "  <svg xmlns=\"http://www.w3.org/2000/svg\" height=\"24px\"viewBox=\"0 0 24 24\"\n",
              "       width=\"24px\">\n",
              "    <path d=\"M0 0h24v24H0V0z\" fill=\"none\"/>\n",
              "    <path d=\"M18.56 5.44l.94 2.06.94-2.06 2.06-.94-2.06-.94-.94-2.06-.94 2.06-2.06.94zm-11 1L8.5 8.5l.94-2.06 2.06-.94-2.06-.94L8.5 2.5l-.94 2.06-2.06.94zm10 10l.94 2.06.94-2.06 2.06-.94-2.06-.94-.94-2.06-.94 2.06-2.06.94z\"/><path d=\"M17.41 7.96l-1.37-1.37c-.4-.4-.92-.59-1.43-.59-.52 0-1.04.2-1.43.59L10.3 9.45l-7.72 7.72c-.78.78-.78 2.05 0 2.83L4 21.41c.39.39.9.59 1.41.59.51 0 1.02-.2 1.41-.59l7.78-7.78 2.81-2.81c.8-.78.8-2.07 0-2.86zM5.41 20L4 18.59l7.72-7.72 1.47 1.35L5.41 20z\"/>\n",
              "  </svg>\n",
              "      </button>\n",
              "      \n",
              "  <style>\n",
              "    .colab-df-container {\n",
              "      display:flex;\n",
              "      flex-wrap:wrap;\n",
              "      gap: 12px;\n",
              "    }\n",
              "\n",
              "    .colab-df-convert {\n",
              "      background-color: #E8F0FE;\n",
              "      border: none;\n",
              "      border-radius: 50%;\n",
              "      cursor: pointer;\n",
              "      display: none;\n",
              "      fill: #1967D2;\n",
              "      height: 32px;\n",
              "      padding: 0 0 0 0;\n",
              "      width: 32px;\n",
              "    }\n",
              "\n",
              "    .colab-df-convert:hover {\n",
              "      background-color: #E2EBFA;\n",
              "      box-shadow: 0px 1px 2px rgba(60, 64, 67, 0.3), 0px 1px 3px 1px rgba(60, 64, 67, 0.15);\n",
              "      fill: #174EA6;\n",
              "    }\n",
              "\n",
              "    [theme=dark] .colab-df-convert {\n",
              "      background-color: #3B4455;\n",
              "      fill: #D2E3FC;\n",
              "    }\n",
              "\n",
              "    [theme=dark] .colab-df-convert:hover {\n",
              "      background-color: #434B5C;\n",
              "      box-shadow: 0px 1px 3px 1px rgba(0, 0, 0, 0.15);\n",
              "      filter: drop-shadow(0px 1px 2px rgba(0, 0, 0, 0.3));\n",
              "      fill: #FFFFFF;\n",
              "    }\n",
              "  </style>\n",
              "\n",
              "      <script>\n",
              "        const buttonEl =\n",
              "          document.querySelector('#df-56aa00ff-4fad-43a0-a810-69020264f681 button.colab-df-convert');\n",
              "        buttonEl.style.display =\n",
              "          google.colab.kernel.accessAllowed ? 'block' : 'none';\n",
              "\n",
              "        async function convertToInteractive(key) {\n",
              "          const element = document.querySelector('#df-56aa00ff-4fad-43a0-a810-69020264f681');\n",
              "          const dataTable =\n",
              "            await google.colab.kernel.invokeFunction('convertToInteractive',\n",
              "                                                     [key], {});\n",
              "          if (!dataTable) return;\n",
              "\n",
              "          const docLinkHtml = 'Like what you see? Visit the ' +\n",
              "            '<a target=\"_blank\" href=https://colab.research.google.com/notebooks/data_table.ipynb>data table notebook</a>'\n",
              "            + ' to learn more about interactive tables.';\n",
              "          element.innerHTML = '';\n",
              "          dataTable['output_type'] = 'display_data';\n",
              "          await google.colab.output.renderOutput(dataTable, element);\n",
              "          const docLink = document.createElement('div');\n",
              "          docLink.innerHTML = docLinkHtml;\n",
              "          element.appendChild(docLink);\n",
              "        }\n",
              "      </script>\n",
              "    </div>\n",
              "  </div>\n",
              "  "
            ]
          },
          "metadata": {},
          "execution_count": 51
        }
      ],
      "source": [
        "RF_tuned_prediction = grid.predict(X_test)\n",
        "RF_tuned_metrics = evaluate_model(y_test,  RF_tuned_prediction, \"RandomForest_tuned\")\n",
        "combined_metrics.append(RF_tuned_metrics)\n",
        "RF_tuned_metrics"
      ],
      "id": "1ad8836f"
    },
    {
      "cell_type": "code",
      "execution_count": null,
      "metadata": {
        "colab": {
          "base_uri": "https://localhost:8080/"
        },
        "id": "51f90284",
        "outputId": "7b478e85-fcba-467c-8950-786f809cad97"
      },
      "outputs": [
        {
          "output_type": "display_data",
          "data": {
            "text/plain": [
              "<Figure size 1080x432 with 1 Axes>"
            ],
            "image/png": "[encoded data removed]"
          },
          "metadata": {
            "needs_background": "light"
          }
        }
      ],
      "source": [
        "feature_importance_df = pd.DataFrame(random_forest.feature_importances_, columns=['importance'])\n",
        "feature_importance_df['feature'] = X_train.columns\n",
        "\n",
        "plt.figure(figsize=(15, 6));\n",
        "sns.barplot(x=\"importance\", y=\"feature\", data=feature_importance_df.sort_values(by = ['importance'], ascending = False).head(50))\n",
        "plt.title('Random Forest features importance');"
      ],
      "id": "51f90284"
    },
    {
      "cell_type": "markdown",
      "metadata": {
        "id": "e359b3d5"
      },
      "source": [
        "###  6.  Gradient Boosting Regressor"
      ],
      "id": "e359b3d5"
    },
    {
      "cell_type": "code",
      "execution_count": null,
      "metadata": {
        "id": "67a7ecb2"
      },
      "outputs": [],
      "source": [
        "gb_regressor = GradientBoostingRegressor()\n",
        "gb_regressor.fit(X_train, y_train)\n",
        "GB_prediction = gb_regressor.predict(X_test)"
      ],
      "id": "67a7ecb2"
    },
    {
      "cell_type": "code",
      "execution_count": null,
      "metadata": {
        "colab": {
          "base_uri": "https://localhost:8080/"
        },
        "id": "1bbe6469",
        "outputId": "39534a0d-863d-41f1-80fd-b9994f40bf6e"
      },
      "outputs": [
        {
          "output_type": "execute_result",
          "data": {
            "text/plain": [
              "           Gradient Boosting Regressor\n",
              "R_Squared                     0.993411\n",
              "RMSE                          4.867486\n",
              "MAPE                          0.014896\n",
              "MBE                           2.925529\n",
              "rRMSE                         1.984452\n",
              "MABE                          3.639231"
            ],
            "text/html": [
              "\n",
              "  <div id=\"df-e6f925f1-3178-4e69-8350-ca7c49d40359\">\n",
              "    <div class=\"colab-df-container\">\n",
              "      <div>\n",
              "<style scoped>\n",
              "    .dataframe tbody tr th:only-of-type {\n",
              "        vertical-align: middle;\n",
              "    }\n",
              "\n",
              "    .dataframe tbody tr th {\n",
              "        vertical-align: top;\n",
              "    }\n",
              "\n",
              "    .dataframe thead th {\n",
              "        text-align: right;\n",
              "    }\n",
              "</style>\n",
              "<table border=\"1\" class=\"dataframe\">\n",
              "  <thead>\n",
              "    <tr style=\"text-align: right;\">\n",
              "      <th></th>\n",
              "      <th>Gradient Boosting Regressor</th>\n",
              "    </tr>\n",
              "  </thead>\n",
              "  <tbody>\n",
              "    <tr>\n",
              "      <th>R_Squared</th>\n",
              "      <td>0.993411</td>\n",
              "    </tr>\n",
              "    <tr>\n",
              "      <th>RMSE</th>\n",
              "      <td>4.867486</td>\n",
              "    </tr>\n",
              "    <tr>\n",
              "      <th>MAPE</th>\n",
              "      <td>0.014896</td>\n",
              "    </tr>\n",
              "    <tr>\n",
              "      <th>MBE</th>\n",
              "      <td>2.925529</td>\n",
              "    </tr>\n",
              "    <tr>\n",
              "      <th>rRMSE</th>\n",
              "      <td>1.984452</td>\n",
              "    </tr>\n",
              "    <tr>\n",
              "      <th>MABE</th>\n",
              "      <td>3.639231</td>\n",
              "    </tr>\n",
              "  </tbody>\n",
              "</table>\n",
              "</div>\n",
              "      <button class=\"colab-df-convert\" onclick=\"convertToInteractive('df-e6f925f1-3178-4e69-8350-ca7c49d40359')\"\n",
              "              title=\"Convert this dataframe to an interactive table.\"\n",
              "              style=\"display:none;\">\n",
              "        \n",
              "  <svg xmlns=\"http://www.w3.org/2000/svg\" height=\"24px\"viewBox=\"0 0 24 24\"\n",
              "       width=\"24px\">\n",
              "    <path d=\"M0 0h24v24H0V0z\" fill=\"none\"/>\n",
              "    <path d=\"M18.56 5.44l.94 2.06.94-2.06 2.06-.94-2.06-.94-.94-2.06-.94 2.06-2.06.94zm-11 1L8.5 8.5l.94-2.06 2.06-.94-2.06-.94L8.5 2.5l-.94 2.06-2.06.94zm10 10l.94 2.06.94-2.06 2.06-.94-2.06-.94-.94-2.06-.94 2.06-2.06.94z\"/><path d=\"M17.41 7.96l-1.37-1.37c-.4-.4-.92-.59-1.43-.59-.52 0-1.04.2-1.43.59L10.3 9.45l-7.72 7.72c-.78.78-.78 2.05 0 2.83L4 21.41c.39.39.9.59 1.41.59.51 0 1.02-.2 1.41-.59l7.78-7.78 2.81-2.81c.8-.78.8-2.07 0-2.86zM5.41 20L4 18.59l7.72-7.72 1.47 1.35L5.41 20z\"/>\n",
              "  </svg>\n",
              "      </button>\n",
              "      \n",
              "  <style>\n",
              "    .colab-df-container {\n",
              "      display:flex;\n",
              "      flex-wrap:wrap;\n",
              "      gap: 12px;\n",
              "    }\n",
              "\n",
              "    .colab-df-convert {\n",
              "      background-color: #E8F0FE;\n",
              "      border: none;\n",
              "      border-radius: 50%;\n",
              "      cursor: pointer;\n",
              "      display: none;\n",
              "      fill: #1967D2;\n",
              "      height: 32px;\n",
              "      padding: 0 0 0 0;\n",
              "      width: 32px;\n",
              "    }\n",
              "\n",
              "    .colab-df-convert:hover {\n",
              "      background-color: #E2EBFA;\n",
              "      box-shadow: 0px 1px 2px rgba(60, 64, 67, 0.3), 0px 1px 3px 1px rgba(60, 64, 67, 0.15);\n",
              "      fill: #174EA6;\n",
              "    }\n",
              "\n",
              "    [theme=dark] .colab-df-convert {\n",
              "      background-color: #3B4455;\n",
              "      fill: #D2E3FC;\n",
              "    }\n",
              "\n",
              "    [theme=dark] .colab-df-convert:hover {\n",
              "      background-color: #434B5C;\n",
              "      box-shadow: 0px 1px 3px 1px rgba(0, 0, 0, 0.15);\n",
              "      filter: drop-shadow(0px 1px 2px rgba(0, 0, 0, 0.3));\n",
              "      fill: #FFFFFF;\n",
              "    }\n",
              "  </style>\n",
              "\n",
              "      <script>\n",
              "        const buttonEl =\n",
              "          document.querySelector('#df-e6f925f1-3178-4e69-8350-ca7c49d40359 button.colab-df-convert');\n",
              "        buttonEl.style.display =\n",
              "          google.colab.kernel.accessAllowed ? 'block' : 'none';\n",
              "\n",
              "        async function convertToInteractive(key) {\n",
              "          const element = document.querySelector('#df-e6f925f1-3178-4e69-8350-ca7c49d40359');\n",
              "          const dataTable =\n",
              "            await google.colab.kernel.invokeFunction('convertToInteractive',\n",
              "                                                     [key], {});\n",
              "          if (!dataTable) return;\n",
              "\n",
              "          const docLinkHtml = 'Like what you see? Visit the ' +\n",
              "            '<a target=\"_blank\" href=https://colab.research.google.com/notebooks/data_table.ipynb>data table notebook</a>'\n",
              "            + ' to learn more about interactive tables.';\n",
              "          element.innerHTML = '';\n",
              "          dataTable['output_type'] = 'display_data';\n",
              "          await google.colab.output.renderOutput(dataTable, element);\n",
              "          const docLink = document.createElement('div');\n",
              "          docLink.innerHTML = docLinkHtml;\n",
              "          element.appendChild(docLink);\n",
              "        }\n",
              "      </script>\n",
              "    </div>\n",
              "  </div>\n",
              "  "
            ]
          },
          "metadata": {},
          "execution_count": 54
        }
      ],
      "source": [
        "gb_metrics =evaluate_model(y_test, GB_prediction, \"Gradient Boosting Regressor\")\n",
        "combined_metrics.append(gb_metrics)\n",
        "gb_metrics"
      ],
      "id": "1bbe6469"
    },
    {
      "cell_type": "code",
      "execution_count": null,
      "metadata": {
        "colab": {
          "base_uri": "https://localhost:8080/"
        },
        "id": "c752f2d0",
        "outputId": "ab3a0841-2aaa-40d4-a7fc-07736a26b2f0"
      },
      "outputs": [
        {
          "output_type": "stream",
          "name": "stdout",
          "text": [
            "Fitting 3 folds for each of 5 candidates, totalling 15 fits\n",
            "[CV 1/3] END ..max_depth=2, n_estimators=100;, score=-142.957 total time=   1.2s\n",
            "[CV 2/3] END ...max_depth=2, n_estimators=100;, score=-14.763 total time=   1.3s\n",
            "[CV 3/3] END ...max_depth=2, n_estimators=100;, score=-65.468 total time=   1.6s\n",
            "[CV 1/3] END ..max_depth=6, n_estimators=300;, score=-250.914 total time=  11.0s\n",
            "[CV 2/3] END ....max_depth=6, n_estimators=300;, score=-0.895 total time=  11.6s\n",
            "[CV 3/3] END ...max_depth=6, n_estimators=300;, score=-70.994 total time=  11.7s\n",
            "[CV 1/3] END ..max_depth=6, n_estimators=100;, score=-261.261 total time=   3.8s\n",
            "[CV 2/3] END ....max_depth=6, n_estimators=100;, score=-0.904 total time=   4.8s\n",
            "[CV 3/3] END ...max_depth=6, n_estimators=100;, score=-73.412 total time=   4.3s\n",
            "[CV 1/3] END ...max_depth=7, n_estimators=50;, score=-261.391 total time=   1.8s\n",
            "[CV 2/3] END .....max_depth=7, n_estimators=50;, score=-1.077 total time=   1.9s\n",
            "[CV 3/3] END ....max_depth=7, n_estimators=50;, score=-86.415 total time=   1.9s\n",
            "[CV 1/3] END ...max_depth=2, n_estimators=300;, score=-61.530 total time=   3.8s\n",
            "[CV 2/3] END ....max_depth=2, n_estimators=300;, score=-5.060 total time=   5.0s\n",
            "[CV 3/3] END ...max_depth=2, n_estimators=300;, score=-14.909 total time=   3.7s\n"
          ]
        },
        {
          "output_type": "execute_result",
          "data": {
            "text/plain": [
              "RandomizedSearchCV(cv=3, estimator=GradientBoostingRegressor(), n_iter=5,\n",
              "                   param_distributions={'max_depth': [2, 3, 4, 5, 6, 7, 8],\n",
              "                                        'n_estimators': [50, 100, 200, 300]},\n",
              "                   scoring='neg_mean_squared_error', verbose=3)"
            ]
          },
          "metadata": {},
          "execution_count": 55
        }
      ],
      "source": [
        "param_grid = {\n",
        "              \"n_estimators\": [50,100,200,300],\n",
        "              'max_depth':[2,3,4,5,6,7,8],\n",
        "              }\n",
        "grid = RandomizedSearchCV(GradientBoostingRegressor(),param_grid, cv=3,scoring=\"neg_mean_squared_error\",refit = True, verbose = 3, n_iter = 5)\n",
        " \n",
        "# fitting the model for grid search\n",
        "grid.fit(X_train, y_train)"
      ],
      "id": "c752f2d0"
    },
    {
      "cell_type": "code",
      "execution_count": null,
      "metadata": {
        "colab": {
          "base_uri": "https://localhost:8080/"
        },
        "id": "1ad45596",
        "outputId": "71e00091-7afe-43f0-d423-ecd03ad1d7ff"
      },
      "outputs": [
        {
          "output_type": "stream",
          "name": "stdout",
          "text": [
            "{'n_estimators': 300, 'max_depth': 2}\n",
            "GradientBoostingRegressor(max_depth=2, n_estimators=300)\n"
          ]
        }
      ],
      "source": [
        "print(grid.best_params_)\n",
        "print(grid.best_estimator_)"
      ],
      "id": "1ad45596"
    },
    {
      "cell_type": "code",
      "execution_count": null,
      "metadata": {
        "colab": {
          "base_uri": "https://localhost:8080/"
        },
        "id": "b658f4d7",
        "outputId": "e883493b-dc77-420b-d7a8-f704ff8b54af"
      },
      "outputs": [
        {
          "output_type": "execute_result",
          "data": {
            "text/plain": [
              "           GBClassifier_tuned\n",
              "R_Squared            0.993214\n",
              "RMSE                 4.939766\n",
              "MAPE                 0.015337\n",
              "MBE                  3.045677\n",
              "rRMSE                2.013921\n",
              "MABE                 3.745421"
            ],
            "text/html": [
              "\n",
              "  <div id=\"df-39a4d95d-acc3-4662-998d-8c5596b48dae\">\n",
              "    <div class=\"colab-df-container\">\n",
              "      <div>\n",
              "<style scoped>\n",
              "    .dataframe tbody tr th:only-of-type {\n",
              "        vertical-align: middle;\n",
              "    }\n",
              "\n",
              "    .dataframe tbody tr th {\n",
              "        vertical-align: top;\n",
              "    }\n",
              "\n",
              "    .dataframe thead th {\n",
              "        text-align: right;\n",
              "    }\n",
              "</style>\n",
              "<table border=\"1\" class=\"dataframe\">\n",
              "  <thead>\n",
              "    <tr style=\"text-align: right;\">\n",
              "      <th></th>\n",
              "      <th>GBClassifier_tuned</th>\n",
              "    </tr>\n",
              "  </thead>\n",
              "  <tbody>\n",
              "    <tr>\n",
              "      <th>R_Squared</th>\n",
              "      <td>0.993214</td>\n",
              "    </tr>\n",
              "    <tr>\n",
              "      <th>RMSE</th>\n",
              "      <td>4.939766</td>\n",
              "    </tr>\n",
              "    <tr>\n",
              "      <th>MAPE</th>\n",
              "      <td>0.015337</td>\n",
              "    </tr>\n",
              "    <tr>\n",
              "      <th>MBE</th>\n",
              "      <td>3.045677</td>\n",
              "    </tr>\n",
              "    <tr>\n",
              "      <th>rRMSE</th>\n",
              "      <td>2.013921</td>\n",
              "    </tr>\n",
              "    <tr>\n",
              "      <th>MABE</th>\n",
              "      <td>3.745421</td>\n",
              "    </tr>\n",
              "  </tbody>\n",
              "</table>\n",
              "</div>\n",
              "      <button class=\"colab-df-convert\" onclick=\"convertToInteractive('df-39a4d95d-acc3-4662-998d-8c5596b48dae')\"\n",
              "              title=\"Convert this dataframe to an interactive table.\"\n",
              "              style=\"display:none;\">\n",
              "        \n",
              "  <svg xmlns=\"http://www.w3.org/2000/svg\" height=\"24px\"viewBox=\"0 0 24 24\"\n",
              "       width=\"24px\">\n",
              "    <path d=\"M0 0h24v24H0V0z\" fill=\"none\"/>\n",
              "    <path d=\"M18.56 5.44l.94 2.06.94-2.06 2.06-.94-2.06-.94-.94-2.06-.94 2.06-2.06.94zm-11 1L8.5 8.5l.94-2.06 2.06-.94-2.06-.94L8.5 2.5l-.94 2.06-2.06.94zm10 10l.94 2.06.94-2.06 2.06-.94-2.06-.94-.94-2.06-.94 2.06-2.06.94z\"/><path d=\"M17.41 7.96l-1.37-1.37c-.4-.4-.92-.59-1.43-.59-.52 0-1.04.2-1.43.59L10.3 9.45l-7.72 7.72c-.78.78-.78 2.05 0 2.83L4 21.41c.39.39.9.59 1.41.59.51 0 1.02-.2 1.41-.59l7.78-7.78 2.81-2.81c.8-.78.8-2.07 0-2.86zM5.41 20L4 18.59l7.72-7.72 1.47 1.35L5.41 20z\"/>\n",
              "  </svg>\n",
              "      </button>\n",
              "      \n",
              "  <style>\n",
              "    .colab-df-container {\n",
              "      display:flex;\n",
              "      flex-wrap:wrap;\n",
              "      gap: 12px;\n",
              "    }\n",
              "\n",
              "    .colab-df-convert {\n",
              "      background-color: #E8F0FE;\n",
              "      border: none;\n",
              "      border-radius: 50%;\n",
              "      cursor: pointer;\n",
              "      display: none;\n",
              "      fill: #1967D2;\n",
              "      height: 32px;\n",
              "      padding: 0 0 0 0;\n",
              "      width: 32px;\n",
              "    }\n",
              "\n",
              "    .colab-df-convert:hover {\n",
              "      background-color: #E2EBFA;\n",
              "      box-shadow: 0px 1px 2px rgba(60, 64, 67, 0.3), 0px 1px 3px 1px rgba(60, 64, 67, 0.15);\n",
              "      fill: #174EA6;\n",
              "    }\n",
              "\n",
              "    [theme=dark] .colab-df-convert {\n",
              "      background-color: #3B4455;\n",
              "      fill: #D2E3FC;\n",
              "    }\n",
              "\n",
              "    [theme=dark] .colab-df-convert:hover {\n",
              "      background-color: #434B5C;\n",
              "      box-shadow: 0px 1px 3px 1px rgba(0, 0, 0, 0.15);\n",
              "      filter: drop-shadow(0px 1px 2px rgba(0, 0, 0, 0.3));\n",
              "      fill: #FFFFFF;\n",
              "    }\n",
              "  </style>\n",
              "\n",
              "      <script>\n",
              "        const buttonEl =\n",
              "          document.querySelector('#df-39a4d95d-acc3-4662-998d-8c5596b48dae button.colab-df-convert');\n",
              "        buttonEl.style.display =\n",
              "          google.colab.kernel.accessAllowed ? 'block' : 'none';\n",
              "\n",
              "        async function convertToInteractive(key) {\n",
              "          const element = document.querySelector('#df-39a4d95d-acc3-4662-998d-8c5596b48dae');\n",
              "          const dataTable =\n",
              "            await google.colab.kernel.invokeFunction('convertToInteractive',\n",
              "                                                     [key], {});\n",
              "          if (!dataTable) return;\n",
              "\n",
              "          const docLinkHtml = 'Like what you see? Visit the ' +\n",
              "            '<a target=\"_blank\" href=https://colab.research.google.com/notebooks/data_table.ipynb>data table notebook</a>'\n",
              "            + ' to learn more about interactive tables.';\n",
              "          element.innerHTML = '';\n",
              "          dataTable['output_type'] = 'display_data';\n",
              "          await google.colab.output.renderOutput(dataTable, element);\n",
              "          const docLink = document.createElement('div');\n",
              "          docLink.innerHTML = docLinkHtml;\n",
              "          element.appendChild(docLink);\n",
              "        }\n",
              "      </script>\n",
              "    </div>\n",
              "  </div>\n",
              "  "
            ]
          },
          "metadata": {},
          "execution_count": 57
        }
      ],
      "source": [
        "GB_tuned_prediction = grid.predict(X_test)\n",
        "GB_tuned_metrics = evaluate_model(y_test,  GB_tuned_prediction, \"GBClassifier_tuned\")\n",
        "combined_metrics.append(GB_tuned_metrics)\n",
        "GB_tuned_metrics"
      ],
      "id": "b658f4d7"
    },
    {
      "cell_type": "code",
      "execution_count": null,
      "metadata": {
        "colab": {
          "base_uri": "https://localhost:8080/"
        },
        "id": "2741d2f9",
        "outputId": "8749cd56-6022-4996-ec58-97e5b36253f3"
      },
      "outputs": [
        {
          "output_type": "display_data",
          "data": {
            "text/plain": [
              "<Figure size 1080x432 with 1 Axes>"
            ],
            "image/png": "[encoded data removed]"
          },
          "metadata": {
            "needs_background": "light"
          }
        }
      ],
      "source": [
        "feature_importance_df = pd.DataFrame(gb_regressor.feature_importances_, columns=['importance'])\n",
        "feature_importance_df['feature'] = X_train.columns\n",
        "\n",
        "plt.figure(figsize=(15, 6));\n",
        "sns.barplot(x=\"importance\", y=\"feature\", data=feature_importance_df.sort_values(by = ['importance'], ascending = False).head(50))\n",
        "plt.title('Gradient Boosting Regressor features importance');"
      ],
      "id": "2741d2f9"
    },
    {
      "cell_type": "markdown",
      "metadata": {
        "id": "05439001"
      },
      "source": [
        "### 7. XG Boost Regressor"
      ],
      "id": "05439001"
    },
    {
      "cell_type": "code",
      "execution_count": null,
      "metadata": {
        "colab": {
          "base_uri": "https://localhost:8080/"
        },
        "id": "d5821c85",
        "outputId": "8a4aaa1a-b0d1-4a02-dad6-a01924d51bd2"
      },
      "outputs": [
        {
          "output_type": "stream",
          "name": "stdout",
          "text": [
            "[16:20:18] WARNING: /workspace/src/objective/regression_obj.cu:152: reg:linear is now deprecated in favor of reg:squarederror.\n"
          ]
        },
        {
          "output_type": "execute_result",
          "data": {
            "text/plain": [
              "            XGBoost Regressor\n",
              "R_Squared            0.993304\n",
              "RMSE                 4.906963\n",
              "MAPE                 0.015122\n",
              "MBE                  2.906840\n",
              "rRMSE                2.000547\n",
              "MABE                 3.690462"
            ],
            "text/html": [
              "\n",
              "  <div id=\"df-41a64145-c0fa-47c1-84f5-d806cd69ed2c\">\n",
              "    <div class=\"colab-df-container\">\n",
              "      <div>\n",
              "<style scoped>\n",
              "    .dataframe tbody tr th:only-of-type {\n",
              "        vertical-align: middle;\n",
              "    }\n",
              "\n",
              "    .dataframe tbody tr th {\n",
              "        vertical-align: top;\n",
              "    }\n",
              "\n",
              "    .dataframe thead th {\n",
              "        text-align: right;\n",
              "    }\n",
              "</style>\n",
              "<table border=\"1\" class=\"dataframe\">\n",
              "  <thead>\n",
              "    <tr style=\"text-align: right;\">\n",
              "      <th></th>\n",
              "      <th>XGBoost Regressor</th>\n",
              "    </tr>\n",
              "  </thead>\n",
              "  <tbody>\n",
              "    <tr>\n",
              "      <th>R_Squared</th>\n",
              "      <td>0.993304</td>\n",
              "    </tr>\n",
              "    <tr>\n",
              "      <th>RMSE</th>\n",
              "      <td>4.906963</td>\n",
              "    </tr>\n",
              "    <tr>\n",
              "      <th>MAPE</th>\n",
              "      <td>0.015122</td>\n",
              "    </tr>\n",
              "    <tr>\n",
              "      <th>MBE</th>\n",
              "      <td>2.906840</td>\n",
              "    </tr>\n",
              "    <tr>\n",
              "      <th>rRMSE</th>\n",
              "      <td>2.000547</td>\n",
              "    </tr>\n",
              "    <tr>\n",
              "      <th>MABE</th>\n",
              "      <td>3.690462</td>\n",
              "    </tr>\n",
              "  </tbody>\n",
              "</table>\n",
              "</div>\n",
              "      <button class=\"colab-df-convert\" onclick=\"convertToInteractive('df-41a64145-c0fa-47c1-84f5-d806cd69ed2c')\"\n",
              "              title=\"Convert this dataframe to an interactive table.\"\n",
              "              style=\"display:none;\">\n",
              "        \n",
              "  <svg xmlns=\"http://www.w3.org/2000/svg\" height=\"24px\"viewBox=\"0 0 24 24\"\n",
              "       width=\"24px\">\n",
              "    <path d=\"M0 0h24v24H0V0z\" fill=\"none\"/>\n",
              "    <path d=\"M18.56 5.44l.94 2.06.94-2.06 2.06-.94-2.06-.94-.94-2.06-.94 2.06-2.06.94zm-11 1L8.5 8.5l.94-2.06 2.06-.94-2.06-.94L8.5 2.5l-.94 2.06-2.06.94zm10 10l.94 2.06.94-2.06 2.06-.94-2.06-.94-.94-2.06-.94 2.06-2.06.94z\"/><path d=\"M17.41 7.96l-1.37-1.37c-.4-.4-.92-.59-1.43-.59-.52 0-1.04.2-1.43.59L10.3 9.45l-7.72 7.72c-.78.78-.78 2.05 0 2.83L4 21.41c.39.39.9.59 1.41.59.51 0 1.02-.2 1.41-.59l7.78-7.78 2.81-2.81c.8-.78.8-2.07 0-2.86zM5.41 20L4 18.59l7.72-7.72 1.47 1.35L5.41 20z\"/>\n",
              "  </svg>\n",
              "      </button>\n",
              "      \n",
              "  <style>\n",
              "    .colab-df-container {\n",
              "      display:flex;\n",
              "      flex-wrap:wrap;\n",
              "      gap: 12px;\n",
              "    }\n",
              "\n",
              "    .colab-df-convert {\n",
              "      background-color: #E8F0FE;\n",
              "      border: none;\n",
              "      border-radius: 50%;\n",
              "      cursor: pointer;\n",
              "      display: none;\n",
              "      fill: #1967D2;\n",
              "      height: 32px;\n",
              "      padding: 0 0 0 0;\n",
              "      width: 32px;\n",
              "    }\n",
              "\n",
              "    .colab-df-convert:hover {\n",
              "      background-color: #E2EBFA;\n",
              "      box-shadow: 0px 1px 2px rgba(60, 64, 67, 0.3), 0px 1px 3px 1px rgba(60, 64, 67, 0.15);\n",
              "      fill: #174EA6;\n",
              "    }\n",
              "\n",
              "    [theme=dark] .colab-df-convert {\n",
              "      background-color: #3B4455;\n",
              "      fill: #D2E3FC;\n",
              "    }\n",
              "\n",
              "    [theme=dark] .colab-df-convert:hover {\n",
              "      background-color: #434B5C;\n",
              "      box-shadow: 0px 1px 3px 1px rgba(0, 0, 0, 0.15);\n",
              "      filter: drop-shadow(0px 1px 2px rgba(0, 0, 0, 0.3));\n",
              "      fill: #FFFFFF;\n",
              "    }\n",
              "  </style>\n",
              "\n",
              "      <script>\n",
              "        const buttonEl =\n",
              "          document.querySelector('#df-41a64145-c0fa-47c1-84f5-d806cd69ed2c button.colab-df-convert');\n",
              "        buttonEl.style.display =\n",
              "          google.colab.kernel.accessAllowed ? 'block' : 'none';\n",
              "\n",
              "        async function convertToInteractive(key) {\n",
              "          const element = document.querySelector('#df-41a64145-c0fa-47c1-84f5-d806cd69ed2c');\n",
              "          const dataTable =\n",
              "            await google.colab.kernel.invokeFunction('convertToInteractive',\n",
              "                                                     [key], {});\n",
              "          if (!dataTable) return;\n",
              "\n",
              "          const docLinkHtml = 'Like what you see? Visit the ' +\n",
              "            '<a target=\"_blank\" href=https://colab.research.google.com/notebooks/data_table.ipynb>data table notebook</a>'\n",
              "            + ' to learn more about interactive tables.';\n",
              "          element.innerHTML = '';\n",
              "          dataTable['output_type'] = 'display_data';\n",
              "          await google.colab.output.renderOutput(dataTable, element);\n",
              "          const docLink = document.createElement('div');\n",
              "          docLink.innerHTML = docLinkHtml;\n",
              "          element.appendChild(docLink);\n",
              "        }\n",
              "      </script>\n",
              "    </div>\n",
              "  </div>\n",
              "  "
            ]
          },
          "metadata": {},
          "execution_count": 59
        }
      ],
      "source": [
        "from xgboost import XGBRegressor\n",
        "\n",
        "xgb_regressor = XGBRegressor()\n",
        "xgb_regressor.fit(X_train, y_train)\n",
        "XGB_prediction = xgb_regressor.predict(X_test)\n",
        "\n",
        "xgb_metrics =evaluate_model(y_test, XGB_prediction, \" XGBoost Regressor\")\n",
        "combined_metrics.append(xgb_metrics)\n",
        "xgb_metrics"
      ],
      "id": "d5821c85"
    },
    {
      "cell_type": "code",
      "execution_count": null,
      "metadata": {
        "colab": {
          "base_uri": "https://localhost:8080/"
        },
        "id": "79cf9963",
        "outputId": "6dfe301b-658b-47a9-b473-c755a6c02fe2"
      },
      "outputs": [
        {
          "output_type": "stream",
          "name": "stdout",
          "text": [
            "Fitting 5 folds for each of 10 candidates, totalling 50 fits\n",
            "[16:20:19] WARNING: /workspace/src/objective/regression_obj.cu:152: reg:linear is now deprecated in favor of reg:squarederror.\n",
            "[CV 1/5] END colsample_bytree=0.8, gamma=1.5, max_depth=3, min_child_weight=5, n_estimator=100, subsample=0.6;, score=-127.072 total time=   1.3s\n",
            "[16:20:20] WARNING: /workspace/src/objective/regression_obj.cu:152: reg:linear is now deprecated in favor of reg:squarederror.\n",
            "[CV 2/5] END colsample_bytree=0.8, gamma=1.5, max_depth=3, min_child_weight=5, n_estimator=100, subsample=0.6;, score=-7.067 total time=   1.1s\n",
            "[16:20:22] WARNING: /workspace/src/objective/regression_obj.cu:152: reg:linear is now deprecated in favor of reg:squarederror.\n",
            "[CV 3/5] END colsample_bytree=0.8, gamma=1.5, max_depth=3, min_child_weight=5, n_estimator=100, subsample=0.6;, score=-4.176 total time=   0.9s\n",
            "[16:20:22] WARNING: /workspace/src/objective/regression_obj.cu:152: reg:linear is now deprecated in favor of reg:squarederror.\n",
            "[CV 4/5] END colsample_bytree=0.8, gamma=1.5, max_depth=3, min_child_weight=5, n_estimator=100, subsample=0.6;, score=-7.056 total time=   0.9s\n",
            "[16:20:23] WARNING: /workspace/src/objective/regression_obj.cu:152: reg:linear is now deprecated in favor of reg:squarederror.\n",
            "[CV 5/5] END colsample_bytree=0.8, gamma=1.5, max_depth=3, min_child_weight=5, n_estimator=100, subsample=0.6;, score=-9.455 total time=   0.8s\n",
            "[16:20:24] WARNING: /workspace/src/objective/regression_obj.cu:152: reg:linear is now deprecated in favor of reg:squarederror.\n",
            "[CV 1/5] END colsample_bytree=1.0, gamma=1.5, max_depth=3, min_child_weight=1, n_estimator=100, subsample=1.0;, score=-33.718 total time=   0.7s\n",
            "[16:20:25] WARNING: /workspace/src/objective/regression_obj.cu:152: reg:linear is now deprecated in favor of reg:squarederror.\n",
            "[CV 2/5] END colsample_bytree=1.0, gamma=1.5, max_depth=3, min_child_weight=1, n_estimator=100, subsample=1.0;, score=-6.544 total time=   0.7s\n",
            "[16:20:26] WARNING: /workspace/src/objective/regression_obj.cu:152: reg:linear is now deprecated in favor of reg:squarederror.\n",
            "[CV 3/5] END colsample_bytree=1.0, gamma=1.5, max_depth=3, min_child_weight=1, n_estimator=100, subsample=1.0;, score=-4.021 total time=   0.7s\n",
            "[16:20:26] WARNING: /workspace/src/objective/regression_obj.cu:152: reg:linear is now deprecated in favor of reg:squarederror.\n",
            "[CV 4/5] END colsample_bytree=1.0, gamma=1.5, max_depth=3, min_child_weight=1, n_estimator=100, subsample=1.0;, score=-5.546 total time=   0.7s\n",
            "[16:20:27] WARNING: /workspace/src/objective/regression_obj.cu:152: reg:linear is now deprecated in favor of reg:squarederror.\n",
            "[CV 5/5] END colsample_bytree=1.0, gamma=1.5, max_depth=3, min_child_weight=1, n_estimator=100, subsample=1.0;, score=-8.713 total time=   0.7s\n",
            "[16:20:28] WARNING: /workspace/src/objective/regression_obj.cu:152: reg:linear is now deprecated in favor of reg:squarederror.\n",
            "[CV 1/5] END colsample_bytree=0.6, gamma=2, max_depth=3, min_child_weight=1, n_estimator=100, subsample=0.6;, score=-52.695 total time=   0.7s\n",
            "[16:20:28] WARNING: /workspace/src/objective/regression_obj.cu:152: reg:linear is now deprecated in favor of reg:squarederror.\n",
            "[CV 2/5] END colsample_bytree=0.6, gamma=2, max_depth=3, min_child_weight=1, n_estimator=100, subsample=0.6;, score=-7.600 total time=   0.8s\n",
            "[16:20:29] WARNING: /workspace/src/objective/regression_obj.cu:152: reg:linear is now deprecated in favor of reg:squarederror.\n",
            "[CV 3/5] END colsample_bytree=0.6, gamma=2, max_depth=3, min_child_weight=1, n_estimator=100, subsample=0.6;, score=-6.921 total time=   0.8s\n",
            "[16:20:30] WARNING: /workspace/src/objective/regression_obj.cu:152: reg:linear is now deprecated in favor of reg:squarederror.\n",
            "[CV 4/5] END colsample_bytree=0.6, gamma=2, max_depth=3, min_child_weight=1, n_estimator=100, subsample=0.6;, score=-7.216 total time=   0.8s\n",
            "[16:20:31] WARNING: /workspace/src/objective/regression_obj.cu:152: reg:linear is now deprecated in favor of reg:squarederror.\n",
            "[CV 5/5] END colsample_bytree=0.6, gamma=2, max_depth=3, min_child_weight=1, n_estimator=100, subsample=0.6;, score=-9.963 total time=   0.9s\n",
            "[16:20:32] WARNING: /workspace/src/objective/regression_obj.cu:152: reg:linear is now deprecated in favor of reg:squarederror.\n",
            "[CV 1/5] END colsample_bytree=0.8, gamma=0.5, max_depth=4, min_child_weight=1, n_estimator=50, subsample=1.0;, score=-14.213 total time=   1.3s\n",
            "[16:20:33] WARNING: /workspace/src/objective/regression_obj.cu:152: reg:linear is now deprecated in favor of reg:squarederror.\n",
            "[CV 2/5] END colsample_bytree=0.8, gamma=0.5, max_depth=4, min_child_weight=1, n_estimator=50, subsample=1.0;, score=-2.127 total time=   1.3s\n",
            "[16:20:34] WARNING: /workspace/src/objective/regression_obj.cu:152: reg:linear is now deprecated in favor of reg:squarederror.\n",
            "[CV 3/5] END colsample_bytree=0.8, gamma=0.5, max_depth=4, min_child_weight=1, n_estimator=50, subsample=1.0;, score=-2.054 total time=   1.3s\n",
            "[16:20:35] WARNING: /workspace/src/objective/regression_obj.cu:152: reg:linear is now deprecated in favor of reg:squarederror.\n",
            "[CV 4/5] END colsample_bytree=0.8, gamma=0.5, max_depth=4, min_child_weight=1, n_estimator=50, subsample=1.0;, score=-3.466 total time=   0.9s\n",
            "[16:20:36] WARNING: /workspace/src/objective/regression_obj.cu:152: reg:linear is now deprecated in favor of reg:squarederror.\n",
            "[CV 5/5] END colsample_bytree=0.8, gamma=0.5, max_depth=4, min_child_weight=1, n_estimator=50, subsample=1.0;, score=-7.438 total time=   0.8s\n",
            "[16:20:37] WARNING: /workspace/src/objective/regression_obj.cu:152: reg:linear is now deprecated in favor of reg:squarederror.\n",
            "[CV 1/5] END colsample_bytree=0.6, gamma=0.5, max_depth=4, min_child_weight=5, n_estimator=50, subsample=0.8;, score=-99.221 total time=   0.8s\n",
            "[16:20:38] WARNING: /workspace/src/objective/regression_obj.cu:152: reg:linear is now deprecated in favor of reg:squarederror.\n",
            "[CV 2/5] END colsample_bytree=0.6, gamma=0.5, max_depth=4, min_child_weight=5, n_estimator=50, subsample=0.8;, score=-6.313 total time=   0.8s\n",
            "[16:20:39] WARNING: /workspace/src/objective/regression_obj.cu:152: reg:linear is now deprecated in favor of reg:squarederror.\n",
            "[CV 3/5] END colsample_bytree=0.6, gamma=0.5, max_depth=4, min_child_weight=5, n_estimator=50, subsample=0.8;, score=-6.394 total time=   0.8s\n",
            "[16:20:40] WARNING: /workspace/src/objective/regression_obj.cu:152: reg:linear is now deprecated in favor of reg:squarederror.\n",
            "[CV 4/5] END colsample_bytree=0.6, gamma=0.5, max_depth=4, min_child_weight=5, n_estimator=50, subsample=0.8;, score=-5.214 total time=   0.8s\n",
            "[16:20:40] WARNING: /workspace/src/objective/regression_obj.cu:152: reg:linear is now deprecated in favor of reg:squarederror.\n",
            "[CV 5/5] END colsample_bytree=0.6, gamma=0.5, max_depth=4, min_child_weight=5, n_estimator=50, subsample=0.8;, score=-9.422 total time=   0.8s\n",
            "[16:20:41] WARNING: /workspace/src/objective/regression_obj.cu:152: reg:linear is now deprecated in favor of reg:squarederror.\n",
            "[CV 1/5] END colsample_bytree=0.6, gamma=1.5, max_depth=4, min_child_weight=1, n_estimator=400, subsample=0.8;, score=-28.299 total time=   0.8s\n",
            "[16:20:42] WARNING: /workspace/src/objective/regression_obj.cu:152: reg:linear is now deprecated in favor of reg:squarederror.\n",
            "[CV 2/5] END colsample_bytree=0.6, gamma=1.5, max_depth=4, min_child_weight=1, n_estimator=400, subsample=0.8;, score=-6.003 total time=   0.8s\n",
            "[16:20:43] WARNING: /workspace/src/objective/regression_obj.cu:152: reg:linear is now deprecated in favor of reg:squarederror.\n",
            "[CV 3/5] END colsample_bytree=0.6, gamma=1.5, max_depth=4, min_child_weight=1, n_estimator=400, subsample=0.8;, score=-6.667 total time=   0.8s\n",
            "[16:20:44] WARNING: /workspace/src/objective/regression_obj.cu:152: reg:linear is now deprecated in favor of reg:squarederror.\n",
            "[CV 4/5] END colsample_bytree=0.6, gamma=1.5, max_depth=4, min_child_weight=1, n_estimator=400, subsample=0.8;, score=-5.230 total time=   0.8s\n",
            "[16:20:45] WARNING: /workspace/src/objective/regression_obj.cu:152: reg:linear is now deprecated in favor of reg:squarederror.\n",
            "[CV 5/5] END colsample_bytree=0.6, gamma=1.5, max_depth=4, min_child_weight=1, n_estimator=400, subsample=0.8;, score=-8.943 total time=   0.8s\n",
            "[16:20:45] WARNING: /workspace/src/objective/regression_obj.cu:152: reg:linear is now deprecated in favor of reg:squarederror.\n",
            "[CV 1/5] END colsample_bytree=0.6, gamma=0.5, max_depth=5, min_child_weight=10, n_estimator=50, subsample=0.6;, score=-153.330 total time=   1.6s\n",
            "[16:20:47] WARNING: /workspace/src/objective/regression_obj.cu:152: reg:linear is now deprecated in favor of reg:squarederror.\n",
            "[CV 2/5] END colsample_bytree=0.6, gamma=0.5, max_depth=5, min_child_weight=10, n_estimator=50, subsample=0.6;, score=-5.125 total time=   1.7s\n",
            "[16:20:49] WARNING: /workspace/src/objective/regression_obj.cu:152: reg:linear is now deprecated in favor of reg:squarederror.\n",
            "[CV 3/5] END colsample_bytree=0.6, gamma=0.5, max_depth=5, min_child_weight=10, n_estimator=50, subsample=0.6;, score=-4.493 total time=   1.5s\n",
            "[16:20:50] WARNING: /workspace/src/objective/regression_obj.cu:152: reg:linear is now deprecated in favor of reg:squarederror.\n",
            "[CV 4/5] END colsample_bytree=0.6, gamma=0.5, max_depth=5, min_child_weight=10, n_estimator=50, subsample=0.6;, score=-4.683 total time=   1.1s\n",
            "[16:20:51] WARNING: /workspace/src/objective/regression_obj.cu:152: reg:linear is now deprecated in favor of reg:squarederror.\n",
            "[CV 5/5] END colsample_bytree=0.6, gamma=0.5, max_depth=5, min_child_weight=10, n_estimator=50, subsample=0.6;, score=-14.117 total time=   1.1s\n",
            "[16:20:52] WARNING: /workspace/src/objective/regression_obj.cu:152: reg:linear is now deprecated in favor of reg:squarederror.\n",
            "[CV 1/5] END colsample_bytree=0.8, gamma=2, max_depth=5, min_child_weight=10, n_estimator=200, subsample=1.0;, score=-150.281 total time=   1.0s\n",
            "[16:20:53] WARNING: /workspace/src/objective/regression_obj.cu:152: reg:linear is now deprecated in favor of reg:squarederror.\n",
            "[CV 2/5] END colsample_bytree=0.8, gamma=2, max_depth=5, min_child_weight=10, n_estimator=200, subsample=1.0;, score=-2.263 total time=   1.0s\n",
            "[16:20:54] WARNING: /workspace/src/objective/regression_obj.cu:152: reg:linear is now deprecated in favor of reg:squarederror.\n",
            "[CV 3/5] END colsample_bytree=0.8, gamma=2, max_depth=5, min_child_weight=10, n_estimator=200, subsample=1.0;, score=-1.730 total time=   1.0s\n",
            "[16:20:55] WARNING: /workspace/src/objective/regression_obj.cu:152: reg:linear is now deprecated in favor of reg:squarederror.\n",
            "[CV 4/5] END colsample_bytree=0.8, gamma=2, max_depth=5, min_child_weight=10, n_estimator=200, subsample=1.0;, score=-3.614 total time=   1.0s\n",
            "[16:20:56] WARNING: /workspace/src/objective/regression_obj.cu:152: reg:linear is now deprecated in favor of reg:squarederror.\n",
            "[CV 5/5] END colsample_bytree=0.8, gamma=2, max_depth=5, min_child_weight=10, n_estimator=200, subsample=1.0;, score=-5.601 total time=   1.0s\n",
            "[16:20:57] WARNING: /workspace/src/objective/regression_obj.cu:152: reg:linear is now deprecated in favor of reg:squarederror.\n",
            "[CV 1/5] END colsample_bytree=0.8, gamma=0.5, max_depth=3, min_child_weight=5, n_estimator=50, subsample=0.8;, score=-134.362 total time=   0.8s\n",
            "[16:20:58] WARNING: /workspace/src/objective/regression_obj.cu:152: reg:linear is now deprecated in favor of reg:squarederror.\n",
            "[CV 2/5] END colsample_bytree=0.8, gamma=0.5, max_depth=3, min_child_weight=5, n_estimator=50, subsample=0.8;, score=-6.351 total time=   0.8s\n",
            "[16:20:59] WARNING: /workspace/src/objective/regression_obj.cu:152: reg:linear is now deprecated in favor of reg:squarederror.\n",
            "[CV 3/5] END colsample_bytree=0.8, gamma=0.5, max_depth=3, min_child_weight=5, n_estimator=50, subsample=0.8;, score=-4.858 total time=   0.8s\n",
            "[16:21:00] WARNING: /workspace/src/objective/regression_obj.cu:152: reg:linear is now deprecated in favor of reg:squarederror.\n",
            "[CV 4/5] END colsample_bytree=0.8, gamma=0.5, max_depth=3, min_child_weight=5, n_estimator=50, subsample=0.8;, score=-6.854 total time=   1.0s\n",
            "[16:21:01] WARNING: /workspace/src/objective/regression_obj.cu:152: reg:linear is now deprecated in favor of reg:squarederror.\n",
            "[CV 5/5] END colsample_bytree=0.8, gamma=0.5, max_depth=3, min_child_weight=5, n_estimator=50, subsample=0.8;, score=-7.218 total time=   1.1s\n",
            "[16:21:02] WARNING: /workspace/src/objective/regression_obj.cu:152: reg:linear is now deprecated in favor of reg:squarederror.\n",
            "[CV 1/5] END colsample_bytree=0.8, gamma=2, max_depth=4, min_child_weight=5, n_estimator=100, subsample=1.0;, score=-96.106 total time=   1.2s\n",
            "[16:21:03] WARNING: /workspace/src/objective/regression_obj.cu:152: reg:linear is now deprecated in favor of reg:squarederror.\n",
            "[CV 2/5] END colsample_bytree=0.8, gamma=2, max_depth=4, min_child_weight=5, n_estimator=100, subsample=1.0;, score=-2.293 total time=   1.3s\n",
            "[16:21:04] WARNING: /workspace/src/objective/regression_obj.cu:152: reg:linear is now deprecated in favor of reg:squarederror.\n",
            "[CV 3/5] END colsample_bytree=0.8, gamma=2, max_depth=4, min_child_weight=5, n_estimator=100, subsample=1.0;, score=-2.149 total time=   0.8s\n",
            "[16:21:05] WARNING: /workspace/src/objective/regression_obj.cu:152: reg:linear is now deprecated in favor of reg:squarederror.\n",
            "[CV 4/5] END colsample_bytree=0.8, gamma=2, max_depth=4, min_child_weight=5, n_estimator=100, subsample=1.0;, score=-3.739 total time=   0.8s\n",
            "[16:21:06] WARNING: /workspace/src/objective/regression_obj.cu:152: reg:linear is now deprecated in favor of reg:squarederror.\n",
            "[CV 5/5] END colsample_bytree=0.8, gamma=2, max_depth=4, min_child_weight=5, n_estimator=100, subsample=1.0;, score=-9.855 total time=   0.8s\n",
            "[16:21:07] WARNING: /workspace/src/objective/regression_obj.cu:152: reg:linear is now deprecated in favor of reg:squarederror.\n"
          ]
        },
        {
          "output_type": "execute_result",
          "data": {
            "text/plain": [
              "RandomizedSearchCV(cv=5, estimator=XGBRegressor(),\n",
              "                   param_distributions={'colsample_bytree': [0.6, 0.8, 1.0],\n",
              "                                        'gamma': [0.5, 1, 1.5, 2, 5],\n",
              "                                        'max_depth': [3, 4, 5],\n",
              "                                        'min_child_weight': [1, 5, 10],\n",
              "                                        'n_estimator': [50, 100, 200, 300, 400],\n",
              "                                        'subsample': [0.6, 0.8, 1.0]},\n",
              "                   scoring='neg_mean_squared_error', verbose=3)"
            ]
          },
          "metadata": {},
          "execution_count": 60
        }
      ],
      "source": [
        "param_grid = {\n",
        "        'min_child_weight': [1, 5, 10],\n",
        "        'gamma': [0.5, 1, 1.5, 2, 5],\n",
        "        'subsample': [0.6, 0.8, 1.0],\n",
        "        'colsample_bytree': [0.6, 0.8, 1.0],\n",
        "        'max_depth': [3, 4, 5],\n",
        "        \"n_estimator\": [50, 100,200,300,400]\n",
        "        }\n",
        "grid = RandomizedSearchCV(XGBRegressor(),param_grid, cv=5,scoring=\"neg_mean_squared_error\",refit = True, verbose = 3, n_iter = 10)\n",
        "grid.fit(X_train, y_train)"
      ],
      "id": "79cf9963"
    },
    {
      "cell_type": "code",
      "execution_count": null,
      "metadata": {
        "id": "98b353c3",
        "colab": {
          "base_uri": "https://localhost:8080/"
        },
        "outputId": "ee6ccf73-9de5-42d7-84d7-580d56b63f81"
      },
      "outputs": [
        {
          "output_type": "stream",
          "name": "stdout",
          "text": [
            "{'subsample': 1.0, 'n_estimator': 50, 'min_child_weight': 1, 'max_depth': 4, 'gamma': 0.5, 'colsample_bytree': 0.8}\n",
            "XGBRegressor(colsample_bytree=0.8, gamma=0.5, max_depth=4, n_estimator=50,\n",
            "             subsample=1.0)\n"
          ]
        }
      ],
      "source": [
        "print(grid.best_params_)\n",
        "print(grid.best_estimator_)"
      ],
      "id": "98b353c3"
    },
    {
      "cell_type": "code",
      "execution_count": null,
      "metadata": {
        "id": "7b27ae63",
        "colab": {
          "base_uri": "https://localhost:8080/"
        },
        "outputId": "8fb32079-6367-43e2-9aaa-60d215256087"
      },
      "outputs": [
        {
          "output_type": "execute_result",
          "data": {
            "text/plain": [
              "           XGBClassifier_tuned\n",
              "R_Squared             0.993336\n",
              "RMSE                  4.894943\n",
              "MAPE                  0.014792\n",
              "MBE                   3.063534\n",
              "rRMSE                 1.995646\n",
              "MABE                  3.633199"
            ],
            "text/html": [
              "\n",
              "  <div id=\"df-fdedf238-320c-4dbe-8879-54bc3299098e\">\n",
              "    <div class=\"colab-df-container\">\n",
              "      <div>\n",
              "<style scoped>\n",
              "    .dataframe tbody tr th:only-of-type {\n",
              "        vertical-align: middle;\n",
              "    }\n",
              "\n",
              "    .dataframe tbody tr th {\n",
              "        vertical-align: top;\n",
              "    }\n",
              "\n",
              "    .dataframe thead th {\n",
              "        text-align: right;\n",
              "    }\n",
              "</style>\n",
              "<table border=\"1\" class=\"dataframe\">\n",
              "  <thead>\n",
              "    <tr style=\"text-align: right;\">\n",
              "      <th></th>\n",
              "      <th>XGBClassifier_tuned</th>\n",
              "    </tr>\n",
              "  </thead>\n",
              "  <tbody>\n",
              "    <tr>\n",
              "      <th>R_Squared</th>\n",
              "      <td>0.993336</td>\n",
              "    </tr>\n",
              "    <tr>\n",
              "      <th>RMSE</th>\n",
              "      <td>4.894943</td>\n",
              "    </tr>\n",
              "    <tr>\n",
              "      <th>MAPE</th>\n",
              "      <td>0.014792</td>\n",
              "    </tr>\n",
              "    <tr>\n",
              "      <th>MBE</th>\n",
              "      <td>3.063534</td>\n",
              "    </tr>\n",
              "    <tr>\n",
              "      <th>rRMSE</th>\n",
              "      <td>1.995646</td>\n",
              "    </tr>\n",
              "    <tr>\n",
              "      <th>MABE</th>\n",
              "      <td>3.633199</td>\n",
              "    </tr>\n",
              "  </tbody>\n",
              "</table>\n",
              "</div>\n",
              "      <button class=\"colab-df-convert\" onclick=\"convertToInteractive('df-fdedf238-320c-4dbe-8879-54bc3299098e')\"\n",
              "              title=\"Convert this dataframe to an interactive table.\"\n",
              "              style=\"display:none;\">\n",
              "        \n",
              "  <svg xmlns=\"http://www.w3.org/2000/svg\" height=\"24px\"viewBox=\"0 0 24 24\"\n",
              "       width=\"24px\">\n",
              "    <path d=\"M0 0h24v24H0V0z\" fill=\"none\"/>\n",
              "    <path d=\"M18.56 5.44l.94 2.06.94-2.06 2.06-.94-2.06-.94-.94-2.06-.94 2.06-2.06.94zm-11 1L8.5 8.5l.94-2.06 2.06-.94-2.06-.94L8.5 2.5l-.94 2.06-2.06.94zm10 10l.94 2.06.94-2.06 2.06-.94-2.06-.94-.94-2.06-.94 2.06-2.06.94z\"/><path d=\"M17.41 7.96l-1.37-1.37c-.4-.4-.92-.59-1.43-.59-.52 0-1.04.2-1.43.59L10.3 9.45l-7.72 7.72c-.78.78-.78 2.05 0 2.83L4 21.41c.39.39.9.59 1.41.59.51 0 1.02-.2 1.41-.59l7.78-7.78 2.81-2.81c.8-.78.8-2.07 0-2.86zM5.41 20L4 18.59l7.72-7.72 1.47 1.35L5.41 20z\"/>\n",
              "  </svg>\n",
              "      </button>\n",
              "      \n",
              "  <style>\n",
              "    .colab-df-container {\n",
              "      display:flex;\n",
              "      flex-wrap:wrap;\n",
              "      gap: 12px;\n",
              "    }\n",
              "\n",
              "    .colab-df-convert {\n",
              "      background-color: #E8F0FE;\n",
              "      border: none;\n",
              "      border-radius: 50%;\n",
              "      cursor: pointer;\n",
              "      display: none;\n",
              "      fill: #1967D2;\n",
              "      height: 32px;\n",
              "      padding: 0 0 0 0;\n",
              "      width: 32px;\n",
              "    }\n",
              "\n",
              "    .colab-df-convert:hover {\n",
              "      background-color: #E2EBFA;\n",
              "      box-shadow: 0px 1px 2px rgba(60, 64, 67, 0.3), 0px 1px 3px 1px rgba(60, 64, 67, 0.15);\n",
              "      fill: #174EA6;\n",
              "    }\n",
              "\n",
              "    [theme=dark] .colab-df-convert {\n",
              "      background-color: #3B4455;\n",
              "      fill: #D2E3FC;\n",
              "    }\n",
              "\n",
              "    [theme=dark] .colab-df-convert:hover {\n",
              "      background-color: #434B5C;\n",
              "      box-shadow: 0px 1px 3px 1px rgba(0, 0, 0, 0.15);\n",
              "      filter: drop-shadow(0px 1px 2px rgba(0, 0, 0, 0.3));\n",
              "      fill: #FFFFFF;\n",
              "    }\n",
              "  </style>\n",
              "\n",
              "      <script>\n",
              "        const buttonEl =\n",
              "          document.querySelector('#df-fdedf238-320c-4dbe-8879-54bc3299098e button.colab-df-convert');\n",
              "        buttonEl.style.display =\n",
              "          google.colab.kernel.accessAllowed ? 'block' : 'none';\n",
              "\n",
              "        async function convertToInteractive(key) {\n",
              "          const element = document.querySelector('#df-fdedf238-320c-4dbe-8879-54bc3299098e');\n",
              "          const dataTable =\n",
              "            await google.colab.kernel.invokeFunction('convertToInteractive',\n",
              "                                                     [key], {});\n",
              "          if (!dataTable) return;\n",
              "\n",
              "          const docLinkHtml = 'Like what you see? Visit the ' +\n",
              "            '<a target=\"_blank\" href=https://colab.research.google.com/notebooks/data_table.ipynb>data table notebook</a>'\n",
              "            + ' to learn more about interactive tables.';\n",
              "          element.innerHTML = '';\n",
              "          dataTable['output_type'] = 'display_data';\n",
              "          await google.colab.output.renderOutput(dataTable, element);\n",
              "          const docLink = document.createElement('div');\n",
              "          docLink.innerHTML = docLinkHtml;\n",
              "          element.appendChild(docLink);\n",
              "        }\n",
              "      </script>\n",
              "    </div>\n",
              "  </div>\n",
              "  "
            ]
          },
          "metadata": {},
          "execution_count": 62
        }
      ],
      "source": [
        "XGB_tuned_prediction = grid.predict(X_test)\n",
        "XGB_tuned_metrics = evaluate_model(y_test,  XGB_tuned_prediction, \"XGBClassifier_tuned\")\n",
        "combined_metrics.append(XGB_tuned_metrics)\n",
        "XGB_tuned_metrics"
      ],
      "id": "7b27ae63"
    },
    {
      "cell_type": "markdown",
      "metadata": {
        "id": "2948b450"
      },
      "source": [
        "##  Models Summary"
      ],
      "id": "2948b450"
    },
    {
      "cell_type": "code",
      "execution_count": null,
      "metadata": {
        "id": "3e552ab5",
        "colab": {
          "base_uri": "https://localhost:8080/"
        },
        "outputId": "b0fa4c57-31fe-43a0-a9a5-d6252b525df4"
      },
      "outputs": [
        {
          "output_type": "execute_result",
          "data": {
            "text/plain": [
              "                 ANN        SVM  SVM_tuned        DNN  Decision Tree  \\\n",
              "R_Squared   0.886041   0.888861   0.858657   0.890028       0.990226   \n",
              "RMSE       20.242679  19.990687  22.544025  19.885385       5.928273   \n",
              "MAPE        0.067043   0.064003   0.071286   0.063936       0.014554   \n",
              "MBE        12.333125  10.448773  10.399377  11.991837       3.096949   \n",
              "rRMSE       8.252849   8.150113   9.191097   8.107182       2.416930   \n",
              "MABE       16.509981  15.733760  17.585055  15.814411       3.500212   \n",
              "\n",
              "           DecisionTree_tuned  Random Forest  RandomForest_tuned  \\\n",
              "R_Squared            0.990083       0.990047            0.990251   \n",
              "RMSE                 5.971438       5.982267            5.920835   \n",
              "MAPE                 0.015587       0.014447            0.014935   \n",
              "MBE                  3.081530       3.116262            3.085338   \n",
              "rRMSE                2.434528       2.438943            2.413898   \n",
              "MABE                 3.694598       3.538578            3.612513   \n",
              "\n",
              "           Gradient Boosting Regressor  GBClassifier_tuned  \\\n",
              "R_Squared                     0.993411            0.993214   \n",
              "RMSE                          4.867486            4.939766   \n",
              "MAPE                          0.014896            0.015337   \n",
              "MBE                           2.925529            3.045677   \n",
              "rRMSE                         1.984452            2.013921   \n",
              "MABE                          3.639231            3.745421   \n",
              "\n",
              "            XGBoost Regressor  XGBClassifier_tuned  \n",
              "R_Squared            0.993304             0.993336  \n",
              "RMSE                 4.906963             4.894943  \n",
              "MAPE                 0.015122             0.014792  \n",
              "MBE                  2.906840             3.063534  \n",
              "rRMSE                2.000547             1.995646  \n",
              "MABE                 3.690462             3.633199  "
            ],
            "text/html": [
              "\n",
              "  <div id=\"df-9c24fe66-7357-43d2-805e-28b6880b217e\">\n",
              "    <div class=\"colab-df-container\">\n",
              "      <div>\n",
              "<style scoped>\n",
              "    .dataframe tbody tr th:only-of-type {\n",
              "        vertical-align: middle;\n",
              "    }\n",
              "\n",
              "    .dataframe tbody tr th {\n",
              "        vertical-align: top;\n",
              "    }\n",
              "\n",
              "    .dataframe thead th {\n",
              "        text-align: right;\n",
              "    }\n",
              "</style>\n",
              "<table border=\"1\" class=\"dataframe\">\n",
              "  <thead>\n",
              "    <tr style=\"text-align: right;\">\n",
              "      <th></th>\n",
              "      <th>ANN</th>\n",
              "      <th>SVM</th>\n",
              "      <th>SVM_tuned</th>\n",
              "      <th>DNN</th>\n",
              "      <th>Decision Tree</th>\n",
              "      <th>DecisionTree_tuned</th>\n",
              "      <th>Random Forest</th>\n",
              "      <th>RandomForest_tuned</th>\n",
              "      <th>Gradient Boosting Regressor</th>\n",
              "      <th>GBClassifier_tuned</th>\n",
              "      <th>XGBoost Regressor</th>\n",
              "      <th>XGBClassifier_tuned</th>\n",
              "    </tr>\n",
              "  </thead>\n",
              "  <tbody>\n",
              "    <tr>\n",
              "      <th>R_Squared</th>\n",
              "      <td>0.886041</td>\n",
              "      <td>0.888861</td>\n",
              "      <td>0.858657</td>\n",
              "      <td>0.890028</td>\n",
              "      <td>0.990226</td>\n",
              "      <td>0.990083</td>\n",
              "      <td>0.990047</td>\n",
              "      <td>0.990251</td>\n",
              "      <td>0.993411</td>\n",
              "      <td>0.993214</td>\n",
              "      <td>0.993304</td>\n",
              "      <td>0.993336</td>\n",
              "    </tr>\n",
              "    <tr>\n",
              "      <th>RMSE</th>\n",
              "      <td>20.242679</td>\n",
              "      <td>19.990687</td>\n",
              "      <td>22.544025</td>\n",
              "      <td>19.885385</td>\n",
              "      <td>5.928273</td>\n",
              "      <td>5.971438</td>\n",
              "      <td>5.982267</td>\n",
              "      <td>5.920835</td>\n",
              "      <td>4.867486</td>\n",
              "      <td>4.939766</td>\n",
              "      <td>4.906963</td>\n",
              "      <td>4.894943</td>\n",
              "    </tr>\n",
              "    <tr>\n",
              "      <th>MAPE</th>\n",
              "      <td>0.067043</td>\n",
              "      <td>0.064003</td>\n",
              "      <td>0.071286</td>\n",
              "      <td>0.063936</td>\n",
              "      <td>0.014554</td>\n",
              "      <td>0.015587</td>\n",
              "      <td>0.014447</td>\n",
              "      <td>0.014935</td>\n",
              "      <td>0.014896</td>\n",
              "      <td>0.015337</td>\n",
              "      <td>0.015122</td>\n",
              "      <td>0.014792</td>\n",
              "    </tr>\n",
              "    <tr>\n",
              "      <th>MBE</th>\n",
              "      <td>12.333125</td>\n",
              "      <td>10.448773</td>\n",
              "      <td>10.399377</td>\n",
              "      <td>11.991837</td>\n",
              "      <td>3.096949</td>\n",
              "      <td>3.081530</td>\n",
              "      <td>3.116262</td>\n",
              "      <td>3.085338</td>\n",
              "      <td>2.925529</td>\n",
              "      <td>3.045677</td>\n",
              "      <td>2.906840</td>\n",
              "      <td>3.063534</td>\n",
              "    </tr>\n",
              "    <tr>\n",
              "      <th>rRMSE</th>\n",
              "      <td>8.252849</td>\n",
              "      <td>8.150113</td>\n",
              "      <td>9.191097</td>\n",
              "      <td>8.107182</td>\n",
              "      <td>2.416930</td>\n",
              "      <td>2.434528</td>\n",
              "      <td>2.438943</td>\n",
              "      <td>2.413898</td>\n",
              "      <td>1.984452</td>\n",
              "      <td>2.013921</td>\n",
              "      <td>2.000547</td>\n",
              "      <td>1.995646</td>\n",
              "    </tr>\n",
              "    <tr>\n",
              "      <th>MABE</th>\n",
              "      <td>16.509981</td>\n",
              "      <td>15.733760</td>\n",
              "      <td>17.585055</td>\n",
              "      <td>15.814411</td>\n",
              "      <td>3.500212</td>\n",
              "      <td>3.694598</td>\n",
              "      <td>3.538578</td>\n",
              "      <td>3.612513</td>\n",
              "      <td>3.639231</td>\n",
              "      <td>3.745421</td>\n",
              "      <td>3.690462</td>\n",
              "      <td>3.633199</td>\n",
              "    </tr>\n",
              "  </tbody>\n",
              "</table>\n",
              "</div>\n",
              "      <button class=\"colab-df-convert\" onclick=\"convertToInteractive('df-9c24fe66-7357-43d2-805e-28b6880b217e')\"\n",
              "              title=\"Convert this dataframe to an interactive table.\"\n",
              "              style=\"display:none;\">\n",
              "        \n",
              "  <svg xmlns=\"http://www.w3.org/2000/svg\" height=\"24px\"viewBox=\"0 0 24 24\"\n",
              "       width=\"24px\">\n",
              "    <path d=\"M0 0h24v24H0V0z\" fill=\"none\"/>\n",
              "    <path d=\"M18.56 5.44l.94 2.06.94-2.06 2.06-.94-2.06-.94-.94-2.06-.94 2.06-2.06.94zm-11 1L8.5 8.5l.94-2.06 2.06-.94-2.06-.94L8.5 2.5l-.94 2.06-2.06.94zm10 10l.94 2.06.94-2.06 2.06-.94-2.06-.94-.94-2.06-.94 2.06-2.06.94z\"/><path d=\"M17.41 7.96l-1.37-1.37c-.4-.4-.92-.59-1.43-.59-.52 0-1.04.2-1.43.59L10.3 9.45l-7.72 7.72c-.78.78-.78 2.05 0 2.83L4 21.41c.39.39.9.59 1.41.59.51 0 1.02-.2 1.41-.59l7.78-7.78 2.81-2.81c.8-.78.8-2.07 0-2.86zM5.41 20L4 18.59l7.72-7.72 1.47 1.35L5.41 20z\"/>\n",
              "  </svg>\n",
              "      </button>\n",
              "      \n",
              "  <style>\n",
              "    .colab-df-container {\n",
              "      display:flex;\n",
              "      flex-wrap:wrap;\n",
              "      gap: 12px;\n",
              "    }\n",
              "\n",
              "    .colab-df-convert {\n",
              "      background-color: #E8F0FE;\n",
              "      border: none;\n",
              "      border-radius: 50%;\n",
              "      cursor: pointer;\n",
              "      display: none;\n",
              "      fill: #1967D2;\n",
              "      height: 32px;\n",
              "      padding: 0 0 0 0;\n",
              "      width: 32px;\n",
              "    }\n",
              "\n",
              "    .colab-df-convert:hover {\n",
              "      background-color: #E2EBFA;\n",
              "      box-shadow: 0px 1px 2px rgba(60, 64, 67, 0.3), 0px 1px 3px 1px rgba(60, 64, 67, 0.15);\n",
              "      fill: #174EA6;\n",
              "    }\n",
              "\n",
              "    [theme=dark] .colab-df-convert {\n",
              "      background-color: #3B4455;\n",
              "      fill: #D2E3FC;\n",
              "    }\n",
              "\n",
              "    [theme=dark] .colab-df-convert:hover {\n",
              "      background-color: #434B5C;\n",
              "      box-shadow: 0px 1px 3px 1px rgba(0, 0, 0, 0.15);\n",
              "      filter: drop-shadow(0px 1px 2px rgba(0, 0, 0, 0.3));\n",
              "      fill: #FFFFFF;\n",
              "    }\n",
              "  </style>\n",
              "\n",
              "      <script>\n",
              "        const buttonEl =\n",
              "          document.querySelector('#df-9c24fe66-7357-43d2-805e-28b6880b217e button.colab-df-convert');\n",
              "        buttonEl.style.display =\n",
              "          google.colab.kernel.accessAllowed ? 'block' : 'none';\n",
              "\n",
              "        async function convertToInteractive(key) {\n",
              "          const element = document.querySelector('#df-9c24fe66-7357-43d2-805e-28b6880b217e');\n",
              "          const dataTable =\n",
              "            await google.colab.kernel.invokeFunction('convertToInteractive',\n",
              "                                                     [key], {});\n",
              "          if (!dataTable) return;\n",
              "\n",
              "          const docLinkHtml = 'Like what you see? Visit the ' +\n",
              "            '<a target=\"_blank\" href=https://colab.research.google.com/notebooks/data_table.ipynb>data table notebook</a>'\n",
              "            + ' to learn more about interactive tables.';\n",
              "          element.innerHTML = '';\n",
              "          dataTable['output_type'] = 'display_data';\n",
              "          await google.colab.output.renderOutput(dataTable, element);\n",
              "          const docLink = document.createElement('div');\n",
              "          docLink.innerHTML = docLinkHtml;\n",
              "          element.appendChild(docLink);\n",
              "        }\n",
              "      </script>\n",
              "    </div>\n",
              "  </div>\n",
              "  "
            ]
          },
          "metadata": {},
          "execution_count": 63
        }
      ],
      "source": [
        "from functools import reduce\n",
        "\n",
        "# Perform as-of merges\n",
        "_combined_metrics = reduce(lambda left, right:\n",
        "             left.join(right),\n",
        "             combined_metrics)\n",
        "_combined_metrics"
      ],
      "id": "3e552ab5"
    },
    {
      "cell_type": "code",
      "execution_count": null,
      "metadata": {
        "id": "6d9b8227",
        "colab": {
          "base_uri": "https://localhost:8080/"
        },
        "outputId": "d23bc2ea-bd12-4c39-ca70-b9010de507cf"
      },
      "outputs": [
        {
          "output_type": "execute_result",
          "data": {
            "text/plain": [
              "                             R_Squared       RMSE      MAPE        MBE  \\\n",
              "ANN                           0.886041  20.242679  0.067043  12.333125   \n",
              "SVM                           0.888861  19.990687  0.064003  10.448773   \n",
              "SVM_tuned                     0.858657  22.544025  0.071286  10.399377   \n",
              "DNN                           0.890028  19.885385  0.063936  11.991837   \n",
              "Decision Tree                 0.990226   5.928273  0.014554   3.096949   \n",
              "DecisionTree_tuned            0.990083   5.971438  0.015587   3.081530   \n",
              "Random Forest                 0.990047   5.982267  0.014447   3.116262   \n",
              "RandomForest_tuned            0.990251   5.920835  0.014935   3.085338   \n",
              "Gradient Boosting Regressor   0.993411   4.867486  0.014896   2.925529   \n",
              "GBClassifier_tuned            0.993214   4.939766  0.015337   3.045677   \n",
              " XGBoost Regressor            0.993304   4.906963  0.015122   2.906840   \n",
              "XGBClassifier_tuned           0.993336   4.894943  0.014792   3.063534   \n",
              "\n",
              "                                rRMSE       MABE  \n",
              "ANN                          8.252849  16.509981  \n",
              "SVM                          8.150113  15.733760  \n",
              "SVM_tuned                    9.191097  17.585055  \n",
              "DNN                          8.107182  15.814411  \n",
              "Decision Tree                2.416930   3.500212  \n",
              "DecisionTree_tuned           2.434528   3.694598  \n",
              "Random Forest                2.438943   3.538578  \n",
              "RandomForest_tuned           2.413898   3.612513  \n",
              "Gradient Boosting Regressor  1.984452   3.639231  \n",
              "GBClassifier_tuned           2.013921   3.745421  \n",
              " XGBoost Regressor           2.000547   3.690462  \n",
              "XGBClassifier_tuned          1.995646   3.633199  "
            ],
            "text/html": [
              "\n",
              "  <div id=\"df-5d861fc1-6334-450f-8527-89a32183e815\">\n",
              "    <div class=\"colab-df-container\">\n",
              "      <div>\n",
              "<style scoped>\n",
              "    .dataframe tbody tr th:only-of-type {\n",
              "        vertical-align: middle;\n",
              "    }\n",
              "\n",
              "    .dataframe tbody tr th {\n",
              "        vertical-align: top;\n",
              "    }\n",
              "\n",
              "    .dataframe thead th {\n",
              "        text-align: right;\n",
              "    }\n",
              "</style>\n",
              "<table border=\"1\" class=\"dataframe\">\n",
              "  <thead>\n",
              "    <tr style=\"text-align: right;\">\n",
              "      <th></th>\n",
              "      <th>R_Squared</th>\n",
              "      <th>RMSE</th>\n",
              "      <th>MAPE</th>\n",
              "      <th>MBE</th>\n",
              "      <th>rRMSE</th>\n",
              "      <th>MABE</th>\n",
              "    </tr>\n",
              "  </thead>\n",
              "  <tbody>\n",
              "    <tr>\n",
              "      <th>ANN</th>\n",
              "      <td>0.886041</td>\n",
              "      <td>20.242679</td>\n",
              "      <td>0.067043</td>\n",
              "      <td>12.333125</td>\n",
              "      <td>8.252849</td>\n",
              "      <td>16.509981</td>\n",
              "    </tr>\n",
              "    <tr>\n",
              "      <th>SVM</th>\n",
              "      <td>0.888861</td>\n",
              "      <td>19.990687</td>\n",
              "      <td>0.064003</td>\n",
              "      <td>10.448773</td>\n",
              "      <td>8.150113</td>\n",
              "      <td>15.733760</td>\n",
              "    </tr>\n",
              "    <tr>\n",
              "      <th>SVM_tuned</th>\n",
              "      <td>0.858657</td>\n",
              "      <td>22.544025</td>\n",
              "      <td>0.071286</td>\n",
              "      <td>10.399377</td>\n",
              "      <td>9.191097</td>\n",
              "      <td>17.585055</td>\n",
              "    </tr>\n",
              "    <tr>\n",
              "      <th>DNN</th>\n",
              "      <td>0.890028</td>\n",
              "      <td>19.885385</td>\n",
              "      <td>0.063936</td>\n",
              "      <td>11.991837</td>\n",
              "      <td>8.107182</td>\n",
              "      <td>15.814411</td>\n",
              "    </tr>\n",
              "    <tr>\n",
              "      <th>Decision Tree</th>\n",
              "      <td>0.990226</td>\n",
              "      <td>5.928273</td>\n",
              "      <td>0.014554</td>\n",
              "      <td>3.096949</td>\n",
              "      <td>2.416930</td>\n",
              "      <td>3.500212</td>\n",
              "    </tr>\n",
              "    <tr>\n",
              "      <th>DecisionTree_tuned</th>\n",
              "      <td>0.990083</td>\n",
              "      <td>5.971438</td>\n",
              "      <td>0.015587</td>\n",
              "      <td>3.081530</td>\n",
              "      <td>2.434528</td>\n",
              "      <td>3.694598</td>\n",
              "    </tr>\n",
              "    <tr>\n",
              "      <th>Random Forest</th>\n",
              "      <td>0.990047</td>\n",
              "      <td>5.982267</td>\n",
              "      <td>0.014447</td>\n",
              "      <td>3.116262</td>\n",
              "      <td>2.438943</td>\n",
              "      <td>3.538578</td>\n",
              "    </tr>\n",
              "    <tr>\n",
              "      <th>RandomForest_tuned</th>\n",
              "      <td>0.990251</td>\n",
              "      <td>5.920835</td>\n",
              "      <td>0.014935</td>\n",
              "      <td>3.085338</td>\n",
              "      <td>2.413898</td>\n",
              "      <td>3.612513</td>\n",
              "    </tr>\n",
              "    <tr>\n",
              "      <th>Gradient Boosting Regressor</th>\n",
              "      <td>0.993411</td>\n",
              "      <td>4.867486</td>\n",
              "      <td>0.014896</td>\n",
              "      <td>2.925529</td>\n",
              "      <td>1.984452</td>\n",
              "      <td>3.639231</td>\n",
              "    </tr>\n",
              "    <tr>\n",
              "      <th>GBClassifier_tuned</th>\n",
              "      <td>0.993214</td>\n",
              "      <td>4.939766</td>\n",
              "      <td>0.015337</td>\n",
              "      <td>3.045677</td>\n",
              "      <td>2.013921</td>\n",
              "      <td>3.745421</td>\n",
              "    </tr>\n",
              "    <tr>\n",
              "      <th>XGBoost Regressor</th>\n",
              "      <td>0.993304</td>\n",
              "      <td>4.906963</td>\n",
              "      <td>0.015122</td>\n",
              "      <td>2.906840</td>\n",
              "      <td>2.000547</td>\n",
              "      <td>3.690462</td>\n",
              "    </tr>\n",
              "    <tr>\n",
              "      <th>XGBClassifier_tuned</th>\n",
              "      <td>0.993336</td>\n",
              "      <td>4.894943</td>\n",
              "      <td>0.014792</td>\n",
              "      <td>3.063534</td>\n",
              "      <td>1.995646</td>\n",
              "      <td>3.633199</td>\n",
              "    </tr>\n",
              "  </tbody>\n",
              "</table>\n",
              "</div>\n",
              "      <button class=\"colab-df-convert\" onclick=\"convertToInteractive('df-5d861fc1-6334-450f-8527-89a32183e815')\"\n",
              "              title=\"Convert this dataframe to an interactive table.\"\n",
              "              style=\"display:none;\">\n",
              "        \n",
              "  <svg xmlns=\"http://www.w3.org/2000/svg\" height=\"24px\"viewBox=\"0 0 24 24\"\n",
              "       width=\"24px\">\n",
              "    <path d=\"M0 0h24v24H0V0z\" fill=\"none\"/>\n",
              "    <path d=\"M18.56 5.44l.94 2.06.94-2.06 2.06-.94-2.06-.94-.94-2.06-.94 2.06-2.06.94zm-11 1L8.5 8.5l.94-2.06 2.06-.94-2.06-.94L8.5 2.5l-.94 2.06-2.06.94zm10 10l.94 2.06.94-2.06 2.06-.94-2.06-.94-.94-2.06-.94 2.06-2.06.94z\"/><path d=\"M17.41 7.96l-1.37-1.37c-.4-.4-.92-.59-1.43-.59-.52 0-1.04.2-1.43.59L10.3 9.45l-7.72 7.72c-.78.78-.78 2.05 0 2.83L4 21.41c.39.39.9.59 1.41.59.51 0 1.02-.2 1.41-.59l7.78-7.78 2.81-2.81c.8-.78.8-2.07 0-2.86zM5.41 20L4 18.59l7.72-7.72 1.47 1.35L5.41 20z\"/>\n",
              "  </svg>\n",
              "      </button>\n",
              "      \n",
              "  <style>\n",
              "    .colab-df-container {\n",
              "      display:flex;\n",
              "      flex-wrap:wrap;\n",
              "      gap: 12px;\n",
              "    }\n",
              "\n",
              "    .colab-df-convert {\n",
              "      background-color: #E8F0FE;\n",
              "      border: none;\n",
              "      border-radius: 50%;\n",
              "      cursor: pointer;\n",
              "      display: none;\n",
              "      fill: #1967D2;\n",
              "      height: 32px;\n",
              "      padding: 0 0 0 0;\n",
              "      width: 32px;\n",
              "    }\n",
              "\n",
              "    .colab-df-convert:hover {\n",
              "      background-color: #E2EBFA;\n",
              "      box-shadow: 0px 1px 2px rgba(60, 64, 67, 0.3), 0px 1px 3px 1px rgba(60, 64, 67, 0.15);\n",
              "      fill: #174EA6;\n",
              "    }\n",
              "\n",
              "    [theme=dark] .colab-df-convert {\n",
              "      background-color: #3B4455;\n",
              "      fill: #D2E3FC;\n",
              "    }\n",
              "\n",
              "    [theme=dark] .colab-df-convert:hover {\n",
              "      background-color: #434B5C;\n",
              "      box-shadow: 0px 1px 3px 1px rgba(0, 0, 0, 0.15);\n",
              "      filter: drop-shadow(0px 1px 2px rgba(0, 0, 0, 0.3));\n",
              "      fill: #FFFFFF;\n",
              "    }\n",
              "  </style>\n",
              "\n",
              "      <script>\n",
              "        const buttonEl =\n",
              "          document.querySelector('#df-5d861fc1-6334-450f-8527-89a32183e815 button.colab-df-convert');\n",
              "        buttonEl.style.display =\n",
              "          google.colab.kernel.accessAllowed ? 'block' : 'none';\n",
              "\n",
              "        async function convertToInteractive(key) {\n",
              "          const element = document.querySelector('#df-5d861fc1-6334-450f-8527-89a32183e815');\n",
              "          const dataTable =\n",
              "            await google.colab.kernel.invokeFunction('convertToInteractive',\n",
              "                                                     [key], {});\n",
              "          if (!dataTable) return;\n",
              "\n",
              "          const docLinkHtml = 'Like what you see? Visit the ' +\n",
              "            '<a target=\"_blank\" href=https://colab.research.google.com/notebooks/data_table.ipynb>data table notebook</a>'\n",
              "            + ' to learn more about interactive tables.';\n",
              "          element.innerHTML = '';\n",
              "          dataTable['output_type'] = 'display_data';\n",
              "          await google.colab.output.renderOutput(dataTable, element);\n",
              "          const docLink = document.createElement('div');\n",
              "          docLink.innerHTML = docLinkHtml;\n",
              "          element.appendChild(docLink);\n",
              "        }\n",
              "      </script>\n",
              "    </div>\n",
              "  </div>\n",
              "  "
            ]
          },
          "metadata": {},
          "execution_count": 64
        }
      ],
      "source": [
        "_combined_metrics.T"
      ],
      "id": "6d9b8227"
    },
    {
      "cell_type": "markdown",
      "metadata": {
        "id": "9ca65a76"
      },
      "source": [
        "## Evaluations Summary"
      ],
      "id": "9ca65a76"
    },
    {
      "cell_type": "code",
      "execution_count": null,
      "metadata": {
        "colab": {
          "base_uri": "https://localhost:8080/",
          "height": 1000
        },
        "id": "e527b359",
        "outputId": "a07e3010-5115-4a02-81a4-20a8c0ca9e33"
      },
      "outputs": [
        {
          "output_type": "display_data",
          "data": {
            "text/plain": [
              "<Figure size 864x360 with 1 Axes>"
            ],
            "image/png": "[encoded data removed]"
          },
          "metadata": {
            "needs_background": "light"
          }
        },
        {
          "output_type": "display_data",
          "data": {
            "text/plain": [
              "<Figure size 1200x500 with 1 Axes>"
            ],
            "image/png": "[encoded data removed]"
          },
          "metadata": {}
        },
        {
          "output_type": "display_data",
          "data": {
            "text/plain": [
              "<Figure size 1200x500 with 1 Axes>"
            ],
            "image/png": "[encoded data removed]"
          },
          "metadata": {}
        },
        {
          "output_type": "display_data",
          "data": {
            "text/plain": [
              "<Figure size 1200x500 with 1 Axes>"
            ],
            "image/png": "[encoded data removed]"
          },
          "metadata": {}
        },
        {
          "output_type": "display_data",
          "data": {
            "text/plain": [
              "<Figure size 1200x500 with 1 Axes>"
            ],
            "image/png": "[encoded data removed]"
          },
          "metadata": {}
        },
        {
          "output_type": "display_data",
          "data": {
            "text/plain": [
              "<Figure size 1200x500 with 1 Axes>"
            ],
            "image/png": "[encoded data removed]"
          },
          "metadata": {}
        }
      ],
      "source": [
        "for col in _combined_metrics.T.columns:\n",
        "    series = _combined_metrics.T\n",
        "    df = pd.DataFrame(series[col].sort_values(ascending = False))\n",
        "    plt.figure(figsize=(12, 5))\n",
        "    plt.style.use('default')\n",
        "    plt.barh(df.index,df[col])\n",
        "    plt.title(col)"
      ],
      "id": "e527b359"
    },
    {
      "cell_type": "code",
      "execution_count": null,
      "metadata": {
        "id": "8ca8afee"
      },
      "outputs": [],
      "source": [],
      "id": "8ca8afee"
    },
    {
      "cell_type": "markdown",
      "metadata": {
        "id": "NNwzhXu5fvyG"
      },
      "source": [
        "## Mathematical Modelling\n"
      ],
      "id": "NNwzhXu5fvyG"
    },
    {
      "cell_type": "code",
      "execution_count": null,
      "metadata": {
        "id": "EH0Ii7tdfyZx"
      },
      "outputs": [],
      "source": [
        "from sklearn.linear_model import LinearRegression"
      ],
      "id": "EH0Ii7tdfyZx"
    },
    {
      "cell_type": "code",
      "execution_count": null,
      "metadata": {
        "id": "haWU0unsfzt8"
      },
      "outputs": [],
      "source": [
        "LR = LinearRegression()"
      ],
      "id": "haWU0unsfzt8"
    },
    {
      "cell_type": "code",
      "execution_count": null,
      "metadata": {
        "colab": {
          "base_uri": "https://localhost:8080/"
        },
        "id": "EVOmsYpegSAh",
        "outputId": "e40d49a7-8a5e-494b-fca6-7d812ce0bc93"
      },
      "outputs": [
        {
          "output_type": "execute_result",
          "data": {
            "text/plain": [
              "'CO2 EMISSIONS '"
            ],
            "application/vnd.google.colaboratory.intrinsic+json": {
              "type": "string"
            }
          },
          "metadata": {},
          "execution_count": 68
        }
      ],
      "source": [
        "target"
      ],
      "id": "EVOmsYpegSAh"
    },
    {
      "cell_type": "code",
      "execution_count": null,
      "metadata": {
        "id": "JXebg5AMf99J"
      },
      "outputs": [],
      "source": [
        "math_df_train = train_df[[\"MODEL YEAR\", \"CO2 EMISSIONS \"]]\n",
        "math_df_test = train_df[[\"MODEL YEAR\", \"CO2 EMISSIONS \"]]"
      ],
      "id": "JXebg5AMf99J"
    },
    {
      "cell_type": "code",
      "execution_count": null,
      "metadata": {
        "id": "S_phcD5YhCAM"
      },
      "outputs": [],
      "source": [
        "X = math_df_train[\"MODEL YEAR\"].values.reshape(-1,1)\n",
        "y = math_df_train[\"CO2 EMISSIONS \"].values.reshape(-1,1)"
      ],
      "id": "S_phcD5YhCAM"
    },
    {
      "cell_type": "code",
      "execution_count": null,
      "metadata": {
        "colab": {
          "base_uri": "https://localhost:8080/"
        },
        "id": "2qn2IoL_hKMo",
        "outputId": "2a091822-8a0f-4e2c-a92f-8a79a3c8f89a"
      },
      "outputs": [
        {
          "output_type": "execute_result",
          "data": {
            "text/plain": [
              "(15674, 1)"
            ]
          },
          "metadata": {},
          "execution_count": 71
        }
      ],
      "source": [
        "X.shape"
      ],
      "id": "2qn2IoL_hKMo"
    },
    {
      "cell_type": "code",
      "execution_count": null,
      "metadata": {
        "colab": {
          "base_uri": "https://localhost:8080/"
        },
        "id": "InHxM-hBgaUN",
        "outputId": "527c6ecb-ee59-4ede-bd1d-75eaded70fff"
      },
      "outputs": [
        {
          "output_type": "execute_result",
          "data": {
            "text/plain": [
              "LinearRegression()"
            ]
          },
          "metadata": {},
          "execution_count": 72
        }
      ],
      "source": [
        "# LR.fit(math_df_train[\"MODEL YEAR\"], math_df_train[\"CO2 EMISSIONS \"])\n",
        "LR.fit(X, y)\n"
      ],
      "id": "InHxM-hBgaUN"
    },
    {
      "cell_type": "code",
      "execution_count": null,
      "metadata": {
        "colab": {
          "base_uri": "https://localhost:8080/"
        },
        "id": "II-LqRntgmVB",
        "outputId": "3134462a-49c0-4e7a-b543-17f71b9d3f3c"
      },
      "outputs": [
        {
          "output_type": "stream",
          "name": "stdout",
          "text": [
            "[[-3.72736097]]\n",
            "[7734.41910065]\n"
          ]
        }
      ],
      "source": [
        "print(LR.coef_)\n",
        "print(LR.intercept_)"
      ],
      "id": "II-LqRntgmVB"
    },
    {
      "cell_type": "code",
      "execution_count": null,
      "metadata": {
        "id": "JkBtwJvgiXi5"
      },
      "outputs": [],
      "source": [
        "def equation1(arr):\n",
        "  return (-3.7273 * arr) + 7734.4191"
      ],
      "id": "JkBtwJvgiXi5"
    },
    {
      "cell_type": "code",
      "execution_count": null,
      "metadata": {
        "id": "UOLwmXEXjBwK"
      },
      "outputs": [],
      "source": [
        "year = np.array([n for n in range(2022, 2051)])"
      ],
      "id": "UOLwmXEXjBwK"
    },
    {
      "cell_type": "code",
      "execution_count": null,
      "metadata": {
        "colab": {
          "base_uri": "https://localhost:8080/"
        },
        "id": "YxI2m2akh2X8",
        "outputId": "588d2a61-298a-4146-bb72-61172c6b98f3"
      },
      "outputs": [
        {
          "output_type": "execute_result",
          "data": {
            "text/plain": [
              "array([197.8185, 194.0912, 190.3639, 186.6366, 182.9093, 179.182 ,\n",
              "       175.4547, 171.7274, 168.0001, 164.2728, 160.5455, 156.8182,\n",
              "       153.0909, 149.3636, 145.6363, 141.909 , 138.1817, 134.4544,\n",
              "       130.7271, 126.9998, 123.2725, 119.5452, 115.8179, 112.0906,\n",
              "       108.3633, 104.636 , 100.9087,  97.1814,  93.4541])"
            ]
          },
          "metadata": {},
          "execution_count": 76
        }
      ],
      "source": [
        "equation1(year)"
      ],
      "id": "YxI2m2akh2X8"
    },
    {
      "cell_type": "code",
      "execution_count": null,
      "metadata": {
        "id": "cRnokQV3iRbh"
      },
      "outputs": [],
      "source": [
        "forcast_df = pd.DataFrame()\n",
        "forcast_df[\"YEAR\"] = year\n",
        "forcast_df[\"CO2_EMISSION\"] = equation1(year)"
      ],
      "id": "cRnokQV3iRbh"
    },
    {
      "cell_type": "code",
      "execution_count": null,
      "metadata": {
        "colab": {
          "base_uri": "https://localhost:8080/"
        },
        "id": "Lf2EWUeBjpK-",
        "outputId": "88424f01-bde1-4dec-b6b9-a9e3a87238ad"
      },
      "outputs": [
        {
          "output_type": "execute_result",
          "data": {
            "text/plain": [
              "    YEAR  CO2_EMISSION\n",
              "0   2022      197.8185\n",
              "1   2023      194.0912\n",
              "2   2024      190.3639\n",
              "3   2025      186.6366\n",
              "4   2026      182.9093\n",
              "5   2027      179.1820\n",
              "6   2028      175.4547\n",
              "7   2029      171.7274\n",
              "8   2030      168.0001\n",
              "9   2031      164.2728\n",
              "10  2032      160.5455\n",
              "11  2033      156.8182\n",
              "12  2034      153.0909\n",
              "13  2035      149.3636\n",
              "14  2036      145.6363\n",
              "15  2037      141.9090\n",
              "16  2038      138.1817\n",
              "17  2039      134.4544\n",
              "18  2040      130.7271\n",
              "19  2041      126.9998\n",
              "20  2042      123.2725\n",
              "21  2043      119.5452\n",
              "22  2044      115.8179\n",
              "23  2045      112.0906\n",
              "24  2046      108.3633\n",
              "25  2047      104.6360\n",
              "26  2048      100.9087\n",
              "27  2049       97.1814\n",
              "28  2050       93.4541"
            ],
            "text/html": [
              "\n",
              "  <div id=\"df-542ff8a5-d89a-4485-a2e6-dcc17b529484\">\n",
              "    <div class=\"colab-df-container\">\n",
              "      <div>\n",
              "<style scoped>\n",
              "    .dataframe tbody tr th:only-of-type {\n",
              "        vertical-align: middle;\n",
              "    }\n",
              "\n",
              "    .dataframe tbody tr th {\n",
              "        vertical-align: top;\n",
              "    }\n",
              "\n",
              "    .dataframe thead th {\n",
              "        text-align: right;\n",
              "    }\n",
              "</style>\n",
              "<table border=\"1\" class=\"dataframe\">\n",
              "  <thead>\n",
              "    <tr style=\"text-align: right;\">\n",
              "      <th></th>\n",
              "      <th>YEAR</th>\n",
              "      <th>CO2_EMISSION</th>\n",
              "    </tr>\n",
              "  </thead>\n",
              "  <tbody>\n",
              "    <tr>\n",
              "      <th>0</th>\n",
              "      <td>2022</td>\n",
              "      <td>197.8185</td>\n",
              "    </tr>\n",
              "    <tr>\n",
              "      <th>1</th>\n",
              "      <td>2023</td>\n",
              "      <td>194.0912</td>\n",
              "    </tr>\n",
              "    <tr>\n",
              "      <th>2</th>\n",
              "      <td>2024</td>\n",
              "      <td>190.3639</td>\n",
              "    </tr>\n",
              "    <tr>\n",
              "      <th>3</th>\n",
              "      <td>2025</td>\n",
              "      <td>186.6366</td>\n",
              "    </tr>\n",
              "    <tr>\n",
              "      <th>4</th>\n",
              "      <td>2026</td>\n",
              "      <td>182.9093</td>\n",
              "    </tr>\n",
              "    <tr>\n",
              "      <th>5</th>\n",
              "      <td>2027</td>\n",
              "      <td>179.1820</td>\n",
              "    </tr>\n",
              "    <tr>\n",
              "      <th>6</th>\n",
              "      <td>2028</td>\n",
              "      <td>175.4547</td>\n",
              "    </tr>\n",
              "    <tr>\n",
              "      <th>7</th>\n",
              "      <td>2029</td>\n",
              "      <td>171.7274</td>\n",
              "    </tr>\n",
              "    <tr>\n",
              "      <th>8</th>\n",
              "      <td>2030</td>\n",
              "      <td>168.0001</td>\n",
              "    </tr>\n",
              "    <tr>\n",
              "      <th>9</th>\n",
              "      <td>2031</td>\n",
              "      <td>164.2728</td>\n",
              "    </tr>\n",
              "    <tr>\n",
              "      <th>10</th>\n",
              "      <td>2032</td>\n",
              "      <td>160.5455</td>\n",
              "    </tr>\n",
              "    <tr>\n",
              "      <th>11</th>\n",
              "      <td>2033</td>\n",
              "      <td>156.8182</td>\n",
              "    </tr>\n",
              "    <tr>\n",
              "      <th>12</th>\n",
              "      <td>2034</td>\n",
              "      <td>153.0909</td>\n",
              "    </tr>\n",
              "    <tr>\n",
              "      <th>13</th>\n",
              "      <td>2035</td>\n",
              "      <td>149.3636</td>\n",
              "    </tr>\n",
              "    <tr>\n",
              "      <th>14</th>\n",
              "      <td>2036</td>\n",
              "      <td>145.6363</td>\n",
              "    </tr>\n",
              "    <tr>\n",
              "      <th>15</th>\n",
              "      <td>2037</td>\n",
              "      <td>141.9090</td>\n",
              "    </tr>\n",
              "    <tr>\n",
              "      <th>16</th>\n",
              "      <td>2038</td>\n",
              "      <td>138.1817</td>\n",
              "    </tr>\n",
              "    <tr>\n",
              "      <th>17</th>\n",
              "      <td>2039</td>\n",
              "      <td>134.4544</td>\n",
              "    </tr>\n",
              "    <tr>\n",
              "      <th>18</th>\n",
              "      <td>2040</td>\n",
              "      <td>130.7271</td>\n",
              "    </tr>\n",
              "    <tr>\n",
              "      <th>19</th>\n",
              "      <td>2041</td>\n",
              "      <td>126.9998</td>\n",
              "    </tr>\n",
              "    <tr>\n",
              "      <th>20</th>\n",
              "      <td>2042</td>\n",
              "      <td>123.2725</td>\n",
              "    </tr>\n",
              "    <tr>\n",
              "      <th>21</th>\n",
              "      <td>2043</td>\n",
              "      <td>119.5452</td>\n",
              "    </tr>\n",
              "    <tr>\n",
              "      <th>22</th>\n",
              "      <td>2044</td>\n",
              "      <td>115.8179</td>\n",
              "    </tr>\n",
              "    <tr>\n",
              "      <th>23</th>\n",
              "      <td>2045</td>\n",
              "      <td>112.0906</td>\n",
              "    </tr>\n",
              "    <tr>\n",
              "      <th>24</th>\n",
              "      <td>2046</td>\n",
              "      <td>108.3633</td>\n",
              "    </tr>\n",
              "    <tr>\n",
              "      <th>25</th>\n",
              "      <td>2047</td>\n",
              "      <td>104.6360</td>\n",
              "    </tr>\n",
              "    <tr>\n",
              "      <th>26</th>\n",
              "      <td>2048</td>\n",
              "      <td>100.9087</td>\n",
              "    </tr>\n",
              "    <tr>\n",
              "      <th>27</th>\n",
              "      <td>2049</td>\n",
              "      <td>97.1814</td>\n",
              "    </tr>\n",
              "    <tr>\n",
              "      <th>28</th>\n",
              "      <td>2050</td>\n",
              "      <td>93.4541</td>\n",
              "    </tr>\n",
              "  </tbody>\n",
              "</table>\n",
              "</div>\n",
              "      <button class=\"colab-df-convert\" onclick=\"convertToInteractive('df-542ff8a5-d89a-4485-a2e6-dcc17b529484')\"\n",
              "              title=\"Convert this dataframe to an interactive table.\"\n",
              "              style=\"display:none;\">\n",
              "        \n",
              "  <svg xmlns=\"http://www.w3.org/2000/svg\" height=\"24px\"viewBox=\"0 0 24 24\"\n",
              "       width=\"24px\">\n",
              "    <path d=\"M0 0h24v24H0V0z\" fill=\"none\"/>\n",
              "    <path d=\"M18.56 5.44l.94 2.06.94-2.06 2.06-.94-2.06-.94-.94-2.06-.94 2.06-2.06.94zm-11 1L8.5 8.5l.94-2.06 2.06-.94-2.06-.94L8.5 2.5l-.94 2.06-2.06.94zm10 10l.94 2.06.94-2.06 2.06-.94-2.06-.94-.94-2.06-.94 2.06-2.06.94z\"/><path d=\"M17.41 7.96l-1.37-1.37c-.4-.4-.92-.59-1.43-.59-.52 0-1.04.2-1.43.59L10.3 9.45l-7.72 7.72c-.78.78-.78 2.05 0 2.83L4 21.41c.39.39.9.59 1.41.59.51 0 1.02-.2 1.41-.59l7.78-7.78 2.81-2.81c.8-.78.8-2.07 0-2.86zM5.41 20L4 18.59l7.72-7.72 1.47 1.35L5.41 20z\"/>\n",
              "  </svg>\n",
              "      </button>\n",
              "      \n",
              "  <style>\n",
              "    .colab-df-container {\n",
              "      display:flex;\n",
              "      flex-wrap:wrap;\n",
              "      gap: 12px;\n",
              "    }\n",
              "\n",
              "    .colab-df-convert {\n",
              "      background-color: #E8F0FE;\n",
              "      border: none;\n",
              "      border-radius: 50%;\n",
              "      cursor: pointer;\n",
              "      display: none;\n",
              "      fill: #1967D2;\n",
              "      height: 32px;\n",
              "      padding: 0 0 0 0;\n",
              "      width: 32px;\n",
              "    }\n",
              "\n",
              "    .colab-df-convert:hover {\n",
              "      background-color: #E2EBFA;\n",
              "      box-shadow: 0px 1px 2px rgba(60, 64, 67, 0.3), 0px 1px 3px 1px rgba(60, 64, 67, 0.15);\n",
              "      fill: #174EA6;\n",
              "    }\n",
              "\n",
              "    [theme=dark] .colab-df-convert {\n",
              "      background-color: #3B4455;\n",
              "      fill: #D2E3FC;\n",
              "    }\n",
              "\n",
              "    [theme=dark] .colab-df-convert:hover {\n",
              "      background-color: #434B5C;\n",
              "      box-shadow: 0px 1px 3px 1px rgba(0, 0, 0, 0.15);\n",
              "      filter: drop-shadow(0px 1px 2px rgba(0, 0, 0, 0.3));\n",
              "      fill: #FFFFFF;\n",
              "    }\n",
              "  </style>\n",
              "\n",
              "      <script>\n",
              "        const buttonEl =\n",
              "          document.querySelector('#df-542ff8a5-d89a-4485-a2e6-dcc17b529484 button.colab-df-convert');\n",
              "        buttonEl.style.display =\n",
              "          google.colab.kernel.accessAllowed ? 'block' : 'none';\n",
              "\n",
              "        async function convertToInteractive(key) {\n",
              "          const element = document.querySelector('#df-542ff8a5-d89a-4485-a2e6-dcc17b529484');\n",
              "          const dataTable =\n",
              "            await google.colab.kernel.invokeFunction('convertToInteractive',\n",
              "                                                     [key], {});\n",
              "          if (!dataTable) return;\n",
              "\n",
              "          const docLinkHtml = 'Like what you see? Visit the ' +\n",
              "            '<a target=\"_blank\" href=https://colab.research.google.com/notebooks/data_table.ipynb>data table notebook</a>'\n",
              "            + ' to learn more about interactive tables.';\n",
              "          element.innerHTML = '';\n",
              "          dataTable['output_type'] = 'display_data';\n",
              "          await google.colab.output.renderOutput(dataTable, element);\n",
              "          const docLink = document.createElement('div');\n",
              "          docLink.innerHTML = docLinkHtml;\n",
              "          element.appendChild(docLink);\n",
              "        }\n",
              "      </script>\n",
              "    </div>\n",
              "  </div>\n",
              "  "
            ]
          },
          "metadata": {},
          "execution_count": 78
        }
      ],
      "source": [
        "forcast_df"
      ],
      "id": "Lf2EWUeBjpK-"
    },
    {
      "cell_type": "code",
      "source": [
        "CO2_ = data.groupby(['MODEL YEAR'])[\"CO2 EMISSIONS \"].mean().reset_index()\n",
        "\n",
        "plt.figure(figsize=(15,5))\n",
        "sns.barplot(x = 'YEAR',y=\"CO2_EMISSION\",data = forcast_df,\n",
        "           edgecolor=sns.color_palette(\"viridis\"))\n",
        "plt.title('CO2 Forecast', fontsize=15)\n",
        "plt.xlabel('YEAR', fontsize=12)\n",
        "plt.ylabel('CO2 Emissions', fontsize=12)"
      ],
      "metadata": {
        "colab": {
          "base_uri": "https://localhost:8080/",
          "height": 478
        },
        "id": "EHiICDJMBCSW",
        "outputId": "25d43dfb-2365-45f8-d34a-83ac9432cb80"
      },
      "id": "EHiICDJMBCSW",
      "execution_count": null,
      "outputs": [
        {
          "output_type": "execute_result",
          "data": {
            "text/plain": [
              "Text(0, 0.5, 'CO2 Emissions')"
            ]
          },
          "metadata": {},
          "execution_count": 79
        },
        {
          "output_type": "display_data",
          "data": {
            "text/plain": [
              "<Figure size 1500x500 with 1 Axes>"
            ],
            "image/png": "[encoded data removed]"
          },
          "metadata": {}
        }
      ]
    },
    {
      "cell_type": "code",
      "execution_count": null,
      "metadata": {
        "id": "NX86STxhkgOJ"
      },
      "outputs": [],
      "source": [
        "X_ = math_df_train[\"MODEL YEAR\"].values\n",
        "# y = math_df_train[\"MODEL YEAR\"].values"
      ],
      "id": "NX86STxhkgOJ"
    },
    {
      "cell_type": "code",
      "execution_count": null,
      "metadata": {
        "colab": {
          "base_uri": "https://localhost:8080/"
        },
        "id": "xJzhMuYAk_m4",
        "outputId": "542e53f4-9f3c-40b1-8377-a0b7d1920503"
      },
      "outputs": [
        {
          "output_type": "execute_result",
          "data": {
            "text/plain": [
              "array([[1995],\n",
              "       [1995],\n",
              "       [1995],\n",
              "       ...,\n",
              "       [2012],\n",
              "       [2012],\n",
              "       [2012]])"
            ]
          },
          "metadata": {},
          "execution_count": 81
        }
      ],
      "source": [
        "X"
      ],
      "id": "xJzhMuYAk_m4"
    },
    {
      "cell_type": "code",
      "execution_count": null,
      "metadata": {
        "id": "rnrfkiq-jrQS"
      },
      "outputs": [],
      "source": [
        "fit = np.polyfit(np.log(X_), y, 1)"
      ],
      "id": "rnrfkiq-jrQS"
    },
    {
      "cell_type": "code",
      "execution_count": null,
      "metadata": {
        "colab": {
          "base_uri": "https://localhost:8080/"
        },
        "id": "LfVKML1qkcXt",
        "outputId": "f69a8422-c0e6-40de-96c4-ccf92fde9ef2"
      },
      "outputs": [
        {
          "output_type": "stream",
          "name": "stdout",
          "text": [
            "[[-7470.0328252 ]\n",
            " [57058.67872648]]\n"
          ]
        }
      ],
      "source": [
        "print(fit)"
      ],
      "id": "LfVKML1qkcXt"
    },
    {
      "cell_type": "code",
      "execution_count": null,
      "metadata": {
        "id": "S-1cqeGTlGyJ"
      },
      "outputs": [],
      "source": [
        "models = [(\"ANN\", ann_prediction), (\"SVM\", svm_prediction), (\"DNN\", dnn_prediction),('GB_Regressor', GB_prediction)]\n"
      ],
      "id": "S-1cqeGTlGyJ"
    },
    {
      "cell_type": "code",
      "source": [
        "comb = pd.DataFrame(columns = ['YEAR', 'CO2 EMMISSION', 'MODEL'])\n",
        "comb[\"YEAR\"] = X_test[\"MODEL YEAR\"].reset_index(drop = True)\n",
        "comb[\"CO2 EMMISSION\"] = y_test.reset_index(drop = True)\n",
        "comb = comb.groupby([\"YEAR\"]).mean().reset_index()\n",
        "comb[\"MODEL\"] = \"ACTUAL\"\n",
        "comb.head()"
      ],
      "metadata": {
        "colab": {
          "base_uri": "https://localhost:8080/",
          "height": 206
        },
        "id": "P7rpc5U1ibQJ",
        "outputId": "65000bd6-0339-4d69-c94e-969a796c88bb"
      },
      "id": "P7rpc5U1ibQJ",
      "execution_count": null,
      "outputs": [
        {
          "output_type": "execute_result",
          "data": {
            "text/plain": [
              "   YEAR  CO2 EMMISSION   MODEL\n",
              "0  2013     226.987713  ACTUAL\n",
              "1  2014     222.405769  ACTUAL\n",
              "2  2015     246.970848  ACTUAL\n",
              "3  2016     248.163964  ACTUAL\n",
              "4  2017     249.924386  ACTUAL"
            ],
            "text/html": [
              "\n",
              "  <div id=\"df-90937083-651c-474e-a252-fccb41319abe\">\n",
              "    <div class=\"colab-df-container\">\n",
              "      <div>\n",
              "<style scoped>\n",
              "    .dataframe tbody tr th:only-of-type {\n",
              "        vertical-align: middle;\n",
              "    }\n",
              "\n",
              "    .dataframe tbody tr th {\n",
              "        vertical-align: top;\n",
              "    }\n",
              "\n",
              "    .dataframe thead th {\n",
              "        text-align: right;\n",
              "    }\n",
              "</style>\n",
              "<table border=\"1\" class=\"dataframe\">\n",
              "  <thead>\n",
              "    <tr style=\"text-align: right;\">\n",
              "      <th></th>\n",
              "      <th>YEAR</th>\n",
              "      <th>CO2 EMMISSION</th>\n",
              "      <th>MODEL</th>\n",
              "    </tr>\n",
              "  </thead>\n",
              "  <tbody>\n",
              "    <tr>\n",
              "      <th>0</th>\n",
              "      <td>2013</td>\n",
              "      <td>226.987713</td>\n",
              "      <td>ACTUAL</td>\n",
              "    </tr>\n",
              "    <tr>\n",
              "      <th>1</th>\n",
              "      <td>2014</td>\n",
              "      <td>222.405769</td>\n",
              "      <td>ACTUAL</td>\n",
              "    </tr>\n",
              "    <tr>\n",
              "      <th>2</th>\n",
              "      <td>2015</td>\n",
              "      <td>246.970848</td>\n",
              "      <td>ACTUAL</td>\n",
              "    </tr>\n",
              "    <tr>\n",
              "      <th>3</th>\n",
              "      <td>2016</td>\n",
              "      <td>248.163964</td>\n",
              "      <td>ACTUAL</td>\n",
              "    </tr>\n",
              "    <tr>\n",
              "      <th>4</th>\n",
              "      <td>2017</td>\n",
              "      <td>249.924386</td>\n",
              "      <td>ACTUAL</td>\n",
              "    </tr>\n",
              "  </tbody>\n",
              "</table>\n",
              "</div>\n",
              "      <button class=\"colab-df-convert\" onclick=\"convertToInteractive('df-90937083-651c-474e-a252-fccb41319abe')\"\n",
              "              title=\"Convert this dataframe to an interactive table.\"\n",
              "              style=\"display:none;\">\n",
              "        \n",
              "  <svg xmlns=\"http://www.w3.org/2000/svg\" height=\"24px\"viewBox=\"0 0 24 24\"\n",
              "       width=\"24px\">\n",
              "    <path d=\"M0 0h24v24H0V0z\" fill=\"none\"/>\n",
              "    <path d=\"M18.56 5.44l.94 2.06.94-2.06 2.06-.94-2.06-.94-.94-2.06-.94 2.06-2.06.94zm-11 1L8.5 8.5l.94-2.06 2.06-.94-2.06-.94L8.5 2.5l-.94 2.06-2.06.94zm10 10l.94 2.06.94-2.06 2.06-.94-2.06-.94-.94-2.06-.94 2.06-2.06.94z\"/><path d=\"M17.41 7.96l-1.37-1.37c-.4-.4-.92-.59-1.43-.59-.52 0-1.04.2-1.43.59L10.3 9.45l-7.72 7.72c-.78.78-.78 2.05 0 2.83L4 21.41c.39.39.9.59 1.41.59.51 0 1.02-.2 1.41-.59l7.78-7.78 2.81-2.81c.8-.78.8-2.07 0-2.86zM5.41 20L4 18.59l7.72-7.72 1.47 1.35L5.41 20z\"/>\n",
              "  </svg>\n",
              "      </button>\n",
              "      \n",
              "  <style>\n",
              "    .colab-df-container {\n",
              "      display:flex;\n",
              "      flex-wrap:wrap;\n",
              "      gap: 12px;\n",
              "    }\n",
              "\n",
              "    .colab-df-convert {\n",
              "      background-color: #E8F0FE;\n",
              "      border: none;\n",
              "      border-radius: 50%;\n",
              "      cursor: pointer;\n",
              "      display: none;\n",
              "      fill: #1967D2;\n",
              "      height: 32px;\n",
              "      padding: 0 0 0 0;\n",
              "      width: 32px;\n",
              "    }\n",
              "\n",
              "    .colab-df-convert:hover {\n",
              "      background-color: #E2EBFA;\n",
              "      box-shadow: 0px 1px 2px rgba(60, 64, 67, 0.3), 0px 1px 3px 1px rgba(60, 64, 67, 0.15);\n",
              "      fill: #174EA6;\n",
              "    }\n",
              "\n",
              "    [theme=dark] .colab-df-convert {\n",
              "      background-color: #3B4455;\n",
              "      fill: #D2E3FC;\n",
              "    }\n",
              "\n",
              "    [theme=dark] .colab-df-convert:hover {\n",
              "      background-color: #434B5C;\n",
              "      box-shadow: 0px 1px 3px 1px rgba(0, 0, 0, 0.15);\n",
              "      filter: drop-shadow(0px 1px 2px rgba(0, 0, 0, 0.3));\n",
              "      fill: #FFFFFF;\n",
              "    }\n",
              "  </style>\n",
              "\n",
              "      <script>\n",
              "        const buttonEl =\n",
              "          document.querySelector('#df-90937083-651c-474e-a252-fccb41319abe button.colab-df-convert');\n",
              "        buttonEl.style.display =\n",
              "          google.colab.kernel.accessAllowed ? 'block' : 'none';\n",
              "\n",
              "        async function convertToInteractive(key) {\n",
              "          const element = document.querySelector('#df-90937083-651c-474e-a252-fccb41319abe');\n",
              "          const dataTable =\n",
              "            await google.colab.kernel.invokeFunction('convertToInteractive',\n",
              "                                                     [key], {});\n",
              "          if (!dataTable) return;\n",
              "\n",
              "          const docLinkHtml = 'Like what you see? Visit the ' +\n",
              "            '<a target=\"_blank\" href=https://colab.research.google.com/notebooks/data_table.ipynb>data table notebook</a>'\n",
              "            + ' to learn more about interactive tables.';\n",
              "          element.innerHTML = '';\n",
              "          dataTable['output_type'] = 'display_data';\n",
              "          await google.colab.output.renderOutput(dataTable, element);\n",
              "          const docLink = document.createElement('div');\n",
              "          docLink.innerHTML = docLinkHtml;\n",
              "          element.appendChild(docLink);\n",
              "        }\n",
              "      </script>\n",
              "    </div>\n",
              "  </div>\n",
              "  "
            ]
          },
          "metadata": {},
          "execution_count": 85
        }
      ]
    },
    {
      "cell_type": "code",
      "source": [
        "for model_name, model_prediction in models:\n",
        "  temp = pd.DataFrame()\n",
        "  temp[\"YEAR\"] = X_test[\"MODEL YEAR\"].reset_index(drop = True)\n",
        "  temp[\"CO2 EMMISSION\"] = pd.Series(model_prediction)\n",
        "\n",
        "  temp = temp.groupby([\"YEAR\"]).mean().reset_index()\n",
        "  temp[\"MODEL\"] = model_name\n",
        "\n",
        "  comb = comb.append(temp, ignore_index=True)"
      ],
      "metadata": {
        "id": "CpyzKu2Mikhj"
      },
      "id": "CpyzKu2Mikhj",
      "execution_count": null,
      "outputs": []
    },
    {
      "cell_type": "code",
      "source": [
        "# comb\n",
        "import matplotlib.pyplot as plt\n",
        "import seaborn as sns\n",
        "\n",
        "#set seaborn plotting aesthetics\n",
        "sns.set(style='white')\n",
        "\n",
        "#create grouped bar chart\n",
        "sns.barplot(x='YEAR', y='CO2 EMMISSION', hue='MODEL', data=comb) \n",
        "plt.legend(bbox_to_anchor=(1.35, 1), loc='upper right',borderaxespad=0)\n",
        "# plt.legend(loc='upper left', )"
      ],
      "metadata": {
        "colab": {
          "base_uri": "https://localhost:8080/",
          "height": 475
        },
        "id": "quRpIINZiruB",
        "outputId": "b66b56e8-c347-4d6b-b3bb-a47737b840c7"
      },
      "id": "quRpIINZiruB",
      "execution_count": null,
      "outputs": [
        {
          "output_type": "execute_result",
          "data": {
            "text/plain": [
              "<matplotlib.legend.Legend at 0x7fef5a6bfd90>"
            ]
          },
          "metadata": {},
          "execution_count": 87
        },
        {
          "output_type": "display_data",
          "data": {
            "text/plain": [
              "<Figure size 640x480 with 1 Axes>"
            ],
            "image/png": "[encoded data removed]"
          },
          "metadata": {}
        }
      ]
    },
    {
      "cell_type": "code",
      "source": [],
      "metadata": {
        "id": "HO95JoUonn3U"
      },
      "id": "HO95JoUonn3U",
      "execution_count": null,
      "outputs": []
    }
  ],
  "metadata": {
    "colab": {
      "collapsed_sections": [
        "4568562b",
        "5661d1b8",
        "c5fa44ca",
        "a1cef407",
        "e6951a0d",
        "e359b3d5",
        "05439001"
      ],
      "provenance": []
    },
    "kernelspec": {
      "display_name": "Python 3 (ipykernel)",
      "language": "python",
      "name": "python3"
    },
    "language_info": {
      "codemirror_mode": {
        "name": "ipython",
        "version": 3
      },
      "file_extension": ".py",
      "mimetype": "text/x-python",
      "name": "python",
      "nbconvert_exporter": "python",
      "pygments_lexer": "ipython3",
      "version": "3.9.7"
    }
  },
  "nbformat": 4,
  "nbformat_minor": 5
}